{
 "cells": [
  {
   "cell_type": "code",
   "execution_count": 1,
   "id": "f7ba3701-96db-4f1a-bea8-521208374c5e",
   "metadata": {},
   "outputs": [],
   "source": [
    "# cent=[372.071067811865, -90, 217.071067811865]\n",
    "# P1=[363.232233047034, -102.5, 208.232233047034]\n",
    "# P2= [380.909902576697, -77.5, 225.909902576697]\n",
    "import numpy as np"
   ]
  },
  {
   "cell_type": "code",
   "execution_count": 2,
   "id": "328acd8a-cd96-4633-85e1-dbf32d551b9e",
   "metadata": {},
   "outputs": [],
   "source": [
    "import sys\n",
    "PYTHONTOOLSDIR = r'C:\\Users\\pramod.kumar\\OneDrive - SIEMENSGAMESA\\Work\\ContactDetect'\n",
    "sys.path.append(PYTHONTOOLSDIR)\n",
    "import ContactDetection as cd"
   ]
  },
  {
   "cell_type": "code",
   "execution_count": 3,
   "id": "ce47d052-aab2-48ae-a113-aaa18600e6b2",
   "metadata": {},
   "outputs": [],
   "source": [
    "# print(cd.check_normal.__doc__)"
   ]
  },
  {
   "cell_type": "code",
   "execution_count": 4,
   "id": "e6765edd-0878-4214-9196-3b0f60bc8917",
   "metadata": {},
   "outputs": [],
   "source": [
    "# print(cd.check_collinear.__doc__)"
   ]
  },
  {
   "cell_type": "code",
   "execution_count": 5,
   "id": "36ff8f01-d386-4b1d-a914-9ac866a79a6d",
   "metadata": {},
   "outputs": [],
   "source": [
    "# print(cd.check_coplaner.__doc__)"
   ]
  },
  {
   "cell_type": "code",
   "execution_count": 6,
   "id": "1f139f96-a264-4399-bee4-96ce77cce69f",
   "metadata": {},
   "outputs": [],
   "source": [
    "# print(cd.dcv.__doc__)"
   ]
  },
  {
   "cell_type": "code",
   "execution_count": 7,
   "id": "165566eb-eb0d-4c7c-a077-17551d2b9da7",
   "metadata": {},
   "outputs": [],
   "source": [
    "# print(cd.check_normal.__doc__)"
   ]
  },
  {
   "cell_type": "code",
   "execution_count": null,
   "id": "7410cd67-b837-4ce3-8346-072e784bc925",
   "metadata": {},
   "outputs": [],
   "source": []
  },
  {
   "cell_type": "markdown",
   "id": "b3d0ec83-4ab3-43f4-a6ca-a9b7dfd1f4cf",
   "metadata": {},
   "source": [
    "```\n",
    "name :FACE1_INTF1_cIR\r\n",
    "Area :490.873852123405\r\n",
    "Perimeter :78.5398163397448\r\n",
    "Type: 22\r\n",
    "point: x= 372.071067811865 y= -90 z= 217.071067811865\r\n",
    "dir:   i= 0.707106781186547 j= 0 k= 0.707106781186548\r\n",
    "box:   x= 363.232233047034 y= -102.5 z= 208.232233047034 a= 380.909902576697 b= -77.5 c= 225.909902576697\r\n",
    "radius: 0\r\n",
    "rad_data : 0\r\n",
    "nor\n",
    "```m_dir : 1"
   ]
  },
  {
   "cell_type": "code",
   "execution_count": 34,
   "id": "410546f0-f883-40e2-a654-75f6fd051e3e",
   "metadata": {},
   "outputs": [],
   "source": [
    "# z_norm=np.array([0.707106781186547, 0, 0.707106781186548])\n",
    "z_norm= np.array([0,1,1])\n"
   ]
  },
  {
   "cell_type": "code",
   "execution_count": 35,
   "id": "9d63433a-5f29-4f78-ae7d-a132f659cd59",
   "metadata": {},
   "outputs": [],
   "source": [
    "y_norm,x_norm=cd.perpendicular_vector(z_norm)"
   ]
  },
  {
   "cell_type": "code",
   "execution_count": 36,
   "id": "85de2bcd-24c8-4afd-bd07-e77d28e894c0",
   "metadata": {},
   "outputs": [
    {
     "data": {
      "text/plain": [
       "array([nan, nan, nan])"
      ]
     },
     "execution_count": 36,
     "metadata": {},
     "output_type": "execute_result"
    }
   ],
   "source": [
    "xl= cd.dcv(x_norm[0],x_norm[1],x_norm[2])\n",
    "yl= cd.dcv(y_norm[0],y_norm[1],y_norm[2])\n",
    "zl= cd.dcv(z_norm[0],z_norm[1],z_norm[1])\n",
    "zl"
   ]
  },
  {
   "cell_type": "code",
   "execution_count": 32,
   "id": "37ca76e5-cc7e-462c-bbc1-8a6e3b351df3",
   "metadata": {},
   "outputs": [
    {
     "data": {
      "text/plain": [
       "array([[ 1.,  0.,  0.],\n",
       "       [ 0.,  1.,  0.],\n",
       "       [nan, nan, nan]])"
      ]
     },
     "execution_count": 32,
     "metadata": {},
     "output_type": "execute_result"
    }
   ],
   "source": [
    "R=np.array([xl,yl,zl])\n",
    "R"
   ]
  },
  {
   "cell_type": "code",
   "execution_count": 12,
   "id": "100c9b93-d92b-4823-9b1b-1a4d0c22d724",
   "metadata": {},
   "outputs": [],
   "source": [
    "Rx,Ry,Rz=cd.dcm2angleZXY(R)"
   ]
  },
  {
   "cell_type": "code",
   "execution_count": 13,
   "id": "f7e7f552-d2d0-4b1d-b1ab-fe6602ee4f98",
   "metadata": {},
   "outputs": [
    {
     "name": "stdout",
     "output_type": "stream",
     "text": [
      "0.0 \n",
      " 50.76847951640772 \n",
      " -0.0\n"
     ]
    }
   ],
   "source": [
    "print(Rx,\"\\n\",Ry,\"\\n\",Rz)"
   ]
  },
  {
   "cell_type": "markdown",
   "id": "489bae9b-63f3-43d4-8adc-b7667d708df0",
   "metadata": {},
   "source": [
    "CLOCAL, CS_Index, 0, 372.071067811865/1000,-90/1000,217.0710678/1000   \r\n",
    ",0Z,50X,0Y"
   ]
  },
  {
   "cell_type": "code",
   "execution_count": null,
   "id": "c12c7bec-08db-4f67-8a91-db7562105fd0",
   "metadata": {},
   "outputs": [],
   "source": []
  },
  {
   "cell_type": "code",
   "execution_count": 44,
   "id": "db3ea084-ee36-46e9-871b-03f951c9aeec",
   "metadata": {},
   "outputs": [],
   "source": [
    "import sys\n",
    "import numpy as np\n",
    "PYTHONTOOLSDIR = r'C:\\Users\\pramod.kumar\\OneDrive - SIEMENSGAMESA\\Work\\ContactDetect'\n",
    "sys.path.append(PYTHONTOOLSDIR)\n",
    "import ContactDetection as cd\n",
    "def get_rotation(z_norm):\n",
    "    y_norm,x_norm=cd.perpendicular_vector(z_norm)\n",
    "    # print(y_norm)\n",
    "    # print(x_norm)\n",
    "    xl= cd.dcv(x_norm[0],x_norm[1],x_norm[2])\n",
    "    yl= cd.dcv(y_norm[0],y_norm[1],y_norm[2])\n",
    "    zl= cd.dcv(z_norm[0],z_norm[1],z_norm[2])\n",
    "    R=np.array([xl,yl,zl])\n",
    "    Rx,Ry,Rz=cd.dcm2angleZXY(R)\n",
    "    return Rz, Rx, Ry "
   ]
  },
  {
   "cell_type": "markdown",
   "id": "5d80e515-55e8-429e-b001-fd82b1d7bd4b",
   "metadata": {},
   "source": [
    "```\n",
    "name :FACE1_INTF1_cIR\r\n",
    "Area :490.873852123405\r\n",
    "Perimeter :78.5398163397448\r\n",
    "Type: 22\r\n",
    "point: x= 372.071067811865 y= -90 z= 217.071067811865\r\n",
    "dir:   i= 0.707106781186547 j= 0 k= 0.707106781186548\r\n",
    "box:   x= 363.232233047034 y= -102.5 z= 208.232233047034 a= 380.909902576697 b= -77.5 c= 225.909902576697\r\n",
    "radius: 0\r\n",
    "rad_data : 0\r\n",
    "nor\n",
    "```m_dir : 1"
   ]
  },
  {
   "cell_type": "code",
   "execution_count": 38,
   "id": "cfc54d8c-2cfb-4d09-84a9-862212c4f353",
   "metadata": {},
   "outputs": [
    {
     "name": "stdout",
     "output_type": "stream",
     "text": [
      "[0. 1. 0.]\n",
      "[ 0.70710678  0.         -0.70710678]\n"
     ]
    },
    {
     "data": {
      "text/plain": [
       "(-0.0, 0.0, 44.999999999999964)"
      ]
     },
     "execution_count": 38,
     "metadata": {},
     "output_type": "execute_result"
    }
   ],
   "source": [
    "z_norm= np.array([0.707106781186547, 0, 0.707106781186548])\n",
    "get_rotation(z_norm)"
   ]
  },
  {
   "cell_type": "markdown",
   "id": "98f037dc-0fad-4f27-9fc4-8f142c8d0ae5",
   "metadata": {},
   "source": [
    "```\n",
    "name :FACE2_INTF1_sQ\n",
    "Area :288\n",
    "Perimeter :68\n",
    "Type: 22\n",
    "point: x= 312.674098192195 y= -88 z= 276.468037431535\n",
    "dir:   i= 0.707106781186547 j= 0 k= 0.707106781186548\n",
    "box:   x= 307.017243942703 y= -97 z= 270.811183182043 a= 318.330952441688 b= -79 c= 282.124891681028\n",
    "radius: 0\n",
    "rad_data : 0\n",
    "norm_dir : 1\n",
    "```"
   ]
  },
  {
   "cell_type": "code",
   "execution_count": 39,
   "id": "5fcab69c-b956-4b5d-afab-552ae089b086",
   "metadata": {},
   "outputs": [
    {
     "name": "stdout",
     "output_type": "stream",
     "text": [
      "[0. 1. 0.]\n",
      "[ 0.70710678  0.         -0.70710678]\n"
     ]
    },
    {
     "data": {
      "text/plain": [
       "(-0.0, 0.0, 44.999999999999964)"
      ]
     },
     "execution_count": 39,
     "metadata": {},
     "output_type": "execute_result"
    }
   ],
   "source": [
    "z_norm= np.array([0.707106781186547,0 ,0.707106781186548])\n",
    "get_rotation(z_norm)"
   ]
  },
  {
   "cell_type": "markdown",
   "id": "20942a5d-140c-4b41-8160-26d3e8e50bb3",
   "metadata": {},
   "source": [
    "```\n",
    "name :ft\n",
    "Area :9221.1261478766\n",
    "Perimeter :646.539816339745\n",
    "Type: 22\n",
    "point: x= 365 y= 0 z= 220\n",
    "dir:   i= 0 j= 0 k= 1\n",
    "box:   x= 265 y= -25 z= 220 a= 465 b= 25 c= 220\n",
    "radius: 0\n",
    "rad_data : 0\n",
    "norm_dir : 1\n",
    "```"
   ]
  },
  {
   "cell_type": "code",
   "execution_count": 40,
   "id": "05c2a5fd-0bdd-4b35-ae79-64a0ac5eb8e2",
   "metadata": {},
   "outputs": [
    {
     "name": "stdout",
     "output_type": "stream",
     "text": [
      "[0. 1. 0.]\n",
      "[1. 0. 0.]\n"
     ]
    },
    {
     "data": {
      "text/plain": [
       "(-0.0, 0.0, -0.0)"
      ]
     },
     "execution_count": 40,
     "metadata": {},
     "output_type": "execute_result"
    }
   ],
   "source": [
    "z_norm= np.array([0,0,1])\n",
    "get_rotation(z_norm)"
   ]
  },
  {
   "cell_type": "markdown",
   "id": "8ad41542-0f26-4d9f-8588-0d94528cc588",
   "metadata": {},
   "source": [
    "```\n",
    "name :FACE4_INTF1\n",
    "Area :1164.92010597476\n",
    "Perimeter :116.492010597476\n",
    "Type: 16\n",
    "point: x= 46 y= 85 z= 230\n",
    "dir:   i= 2.77555756156289E-17 j= 0.5 k= -0.866025403784439\n",
    "box:   x= 33.3367537296533 y= 69.0333070355012 z= 215.008122826982 a= 58.6632462703467 b= 100.966692964499 c= 244.991877173018\n",
    "radius: 9.2701396586509\n",
    "rad_data : 0\n",
    "norm_dir : -1\n",
    "```"
   ]
  },
  {
   "cell_type": "code",
   "execution_count": 43,
   "id": "7e5d630b-a994-45f7-bd51-fe6fd43d3cb1",
   "metadata": {},
   "outputs": [
    {
     "name": "stdout",
     "output_type": "stream",
     "text": [
      "[ 0.        -0.8660254 -0.5      ]\n",
      "[ 1.00000000e+00 -1.38777878e-17  2.40370336e-17]\n"
     ]
    },
    {
     "data": {
      "text/plain": [
       "(-180.0, -29.999999999999993, -180.0)"
      ]
     },
     "execution_count": 43,
     "metadata": {},
     "output_type": "execute_result"
    }
   ],
   "source": [
    "z_norm=np.array([2.77555756156289E-17, 0.5, -0.866025403784439])\n",
    "get_rotation(z_norm)"
   ]
  },
  {
   "cell_type": "markdown",
   "id": "d2796e4a-a20a-44ba-a73d-8956a44dcb65",
   "metadata": {},
   "source": [
    "```\n",
    "name :FACE1_INTF1\n",
    "Area :490.873852123405\n",
    "Perimeter :78.5398163397448\n",
    "Type: 22\n",
    "point: x= 369.095760221445 y= 149.26423563649 z= 217.094064799162\n",
    "dir:   i= 0.409576022144496 j= -0.573576436351046 k= 0.709406479916223\n",
    "box:   x= 356.443669460417 y= 135.656829516929 z= 205.784977599803 a= 381.747850982474 b= 162.87164175605 c= 228.403151998522\n",
    "radius: 0\n",
    "rad_data : 0\n",
    "norm_dir : 1\n",
    "```"
   ]
  },
  {
   "cell_type": "code",
   "execution_count": 45,
   "id": "bb5a53a5-7b18-45e9-8a48-bf706e6c121b",
   "metadata": {},
   "outputs": [
    {
     "data": {
      "text/plain": [
       "(0.0, 38.95657940063204, 24.17820395979116)"
      ]
     },
     "execution_count": 45,
     "metadata": {},
     "output_type": "execute_result"
    }
   ],
   "source": [
    "z_norm=np.array([0.409576022144496 ,-0.573576436351046, 0.709406479916223])\n",
    "get_rotation(z_norm)"
   ]
  },
  {
   "cell_type": "code",
   "execution_count": null,
   "id": "8db50790-d90d-4655-a7b0-8d484eeb01a4",
   "metadata": {},
   "outputs": [],
   "source": []
  }
 ],
 "metadata": {
  "kernelspec": {
   "display_name": "Python 3 (ipykernel)",
   "language": "python",
   "name": "python3"
  },
  "language_info": {
   "codemirror_mode": {
    "name": "ipython",
    "version": 3
   },
   "file_extension": ".py",
   "mimetype": "text/x-python",
   "name": "python",
   "nbconvert_exporter": "python",
   "pygments_lexer": "ipython3",
   "version": "3.8.1"
  }
 },
 "nbformat": 4,
 "nbformat_minor": 5
}
