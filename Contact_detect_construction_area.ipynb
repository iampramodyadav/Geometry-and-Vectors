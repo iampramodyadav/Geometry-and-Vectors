{
 "cells": [
  {
   "cell_type": "markdown",
   "id": "748fd6ce",
   "metadata": {},
   "source": [
    "# Contact area detection"
   ]
  },
  {
   "cell_type": "markdown",
   "id": "88fe0575",
   "metadata": {},
   "source": [
    "## Coordinate creation"
   ]
  },
  {
   "cell_type": "code",
   "execution_count": 1,
   "id": "4b091ce3",
   "metadata": {
    "ExecuteTime": {
     "end_time": "2023-07-09T17:38:36.743922Z",
     "start_time": "2023-07-09T17:38:36.735464Z"
    }
   },
   "outputs": [],
   "source": [
    "import numpy as np"
   ]
  },
  {
   "cell_type": "code",
   "execution_count": 2,
   "id": "364c9d73",
   "metadata": {
    "ExecuteTime": {
     "end_time": "2023-07-09T17:38:37.011023Z",
     "start_time": "2023-07-09T17:38:37.002079Z"
    }
   },
   "outputs": [],
   "source": [
    "check_collinear = lambda p1, p2, p3: np.linalg.norm(np.cross((p2-p1), (p1-p3))) "
   ]
  },
  {
   "cell_type": "code",
   "execution_count": 3,
   "id": "f4c4a993",
   "metadata": {
    "ExecuteTime": {
     "end_time": "2023-07-09T17:38:37.228032Z",
     "start_time": "2023-07-09T17:38:37.217460Z"
    }
   },
   "outputs": [],
   "source": [
    "dcv = lambda x, y, z: np.array([x / np.sqrt(x**2 + y**2 + z**2),\n",
    "                                y / np.sqrt(x**2 + y**2 + z**2),\n",
    "                                z / np.sqrt(x**2 + y**2 + z**2)])"
   ]
  },
  {
   "cell_type": "code",
   "execution_count": 4,
   "id": "aa049226",
   "metadata": {
    "ExecuteTime": {
     "end_time": "2023-07-09T17:38:37.460767Z",
     "start_time": "2023-07-09T17:38:37.447424Z"
    },
    "run_control": {
     "marked": false
    }
   },
   "outputs": [],
   "source": [
    "def coordinate_dcm(origin,p1,p2):\n",
    "    \n",
    "    if abs(check_collinear(origin,p1,p2)) < 1.0e-6:\n",
    "        \n",
    "        print(\"Points are collinear, Select largest line and create a kp\")\n",
    "        \n",
    "    else:\n",
    "        \n",
    "        v1= p1- origin                 #vector-1\n",
    "        v2= p2- origin                 #vector-2\n",
    "        v1_dc=dcv(v1[0],v1[1],v1[2])\n",
    "        v2_dc=dcv(v2[0],v2[1],v2[2])\n",
    "\n",
    "        v3=np.cross(v1_dc, v2_dc)      #vector-3, perp to 1,2\n",
    "        v3_dc=dcv(v3[0],v3[1],v3[2])  \n",
    "\n",
    "        v4=np.cross(v3_dc, v1_dc)      #vector-4(y) perp vector-3(z) perp to vector-1(x)\n",
    "        v4_dc=dcv(v4[0],v4[1],v4[2])\n",
    "\n",
    "        return v1_dc, v4_dc, v3_dc"
   ]
  },
  {
   "cell_type": "code",
   "execution_count": 5,
   "id": "8ed9a0ce",
   "metadata": {
    "ExecuteTime": {
     "end_time": "2023-07-09T17:38:38.667152Z",
     "start_time": "2023-07-09T17:38:38.649652Z"
    }
   },
   "outputs": [],
   "source": [
    "def dcm2angleZXY(R):\n",
    "    \n",
    "    Ry = np.arctan2(-R[0, 2], R[2, 2])\n",
    "    Rx = np.arcsin(R[1, 2])\n",
    "    Rz = np.arctan2(-R[1, 0], R[1, 1])\n",
    "    \n",
    "    return Rx, Ry ,Rz"
   ]
  },
  {
   "cell_type": "markdown",
   "id": "8fc4d34d",
   "metadata": {},
   "source": [
    "**Example**"
   ]
  },
  {
   "cell_type": "code",
   "execution_count": 6,
   "id": "43dc96e4",
   "metadata": {
    "ExecuteTime": {
     "end_time": "2023-07-09T17:40:57.569667Z",
     "start_time": "2023-07-09T17:40:57.558612Z"
    }
   },
   "outputs": [
    {
     "name": "stdout",
     "output_type": "stream",
     "text": [
      "[ 0.         -0.99968765  0.02499219]\n",
      "[-0.7905077   0.01530652  0.6122608 ]\n",
      "[-0.6124521  -0.01975652 -0.79026078]\n"
     ]
    }
   ],
   "source": [
    "origin=np.array([10,50,10])\n",
    "p1=np.array([10,10,11])\n",
    "p2=np.array([5,5,15])\n",
    "\n",
    "if check_collinear(origin,p1,p2)==0:\n",
    "    print(\"Points are collinear, Select largest line and create a kp\")\n",
    "    \n",
    "else:\n",
    "    xl,yl,zl=coordinate_dcm(origin,p1,p2)\n",
    "    print(xl)\n",
    "    print(yl)\n",
    "    print(zl)"
   ]
  },
  {
   "cell_type": "code",
   "execution_count": 7,
   "id": "c34ce5d5",
   "metadata": {
    "ExecuteTime": {
     "end_time": "2023-07-09T17:40:58.129944Z",
     "start_time": "2023-07-09T17:40:58.112416Z"
    }
   },
   "outputs": [
    {
     "data": {
      "text/plain": [
       "array([[ 0.        , -0.7905077 , -0.6124521 ],\n",
       "       [-0.99968765,  0.01530652, -0.01975652],\n",
       "       [ 0.02499219,  0.6122608 , -0.79026078]])"
      ]
     },
     "execution_count": 7,
     "metadata": {},
     "output_type": "execute_result"
    }
   ],
   "source": [
    "R = np.array([[xl[0], yl[0], zl[0]],\n",
    "              [xl[1], yl[1], zl[1]],\n",
    "              [xl[2], yl[2], zl[2]]])\n",
    "R"
   ]
  },
  {
   "cell_type": "code",
   "execution_count": 8,
   "id": "11131338",
   "metadata": {
    "ExecuteTime": {
     "end_time": "2023-07-09T17:40:58.643759Z",
     "start_time": "2023-07-09T17:40:58.632280Z"
    }
   },
   "outputs": [
    {
     "data": {
      "text/plain": [
       "array([[ 0.        , -0.7905077 , -0.6124521 ],\n",
       "       [-0.99968765,  0.01530652, -0.01975652],\n",
       "       [ 0.02499219,  0.6122608 , -0.79026078]])"
      ]
     },
     "execution_count": 8,
     "metadata": {},
     "output_type": "execute_result"
    }
   ],
   "source": [
    "R=np.column_stack((xl, yl, zl))\n",
    "R"
   ]
  },
  {
   "cell_type": "code",
   "execution_count": 9,
   "id": "a7a05b96",
   "metadata": {
    "ExecuteTime": {
     "end_time": "2023-07-09T17:40:59.772693Z",
     "start_time": "2023-07-09T17:40:59.760406Z"
    },
    "code_folding": [],
    "run_control": {
     "marked": false
    }
   },
   "outputs": [
    {
     "name": "stdout",
     "output_type": "stream",
     "text": [
      "(-0.01975780494578869, 2.4822825852569355, 1.555486220526841)\n"
     ]
    }
   ],
   "source": [
    "# R = np.array([[xl[0], yl[0], zl[0]],\n",
    "#               [xl[1], yl[1], zl[1]],\n",
    "#               [xl[2], yl[2], zl[2]]])\n",
    "\n",
    "R=np.column_stack((xl, yl, zl))\n",
    "\n",
    "angles = dcm2angleZXY(R)\n",
    "print(angles)"
   ]
  },
  {
   "cell_type": "markdown",
   "id": "9a319309",
   "metadata": {
    "run_control": {
     "marked": false
    }
   },
   "source": [
    "## Check 4th point in plane"
   ]
  },
  {
   "cell_type": "code",
   "execution_count": 10,
   "id": "d76c19d0",
   "metadata": {
    "ExecuteTime": {
     "end_time": "2023-07-09T17:41:24.548325Z",
     "start_time": "2023-07-09T17:41:24.528844Z"
    }
   },
   "outputs": [],
   "source": [
    "check_coplaner = lambda p1, p2, p3, p4: np.linalg.det(np.array([ [p1[0], p2[0], p3[0], p4[0]],\n",
    "                                                                  [p1[1], p2[1], p3[1], p4[1]],\n",
    "                                                                  [p1[2], p2[2], p3[2], p4[2]],\n",
    "                                                                  [1,     1,      1,     1  ] ]))\n",
    "\n"
   ]
  },
  {
   "cell_type": "markdown",
   "id": "9e4e636c",
   "metadata": {},
   "source": [
    "**Example**"
   ]
  },
  {
   "cell_type": "code",
   "execution_count": 11,
   "id": "d0de8632",
   "metadata": {
    "ExecuteTime": {
     "end_time": "2023-07-08T17:41:56.343446Z",
     "start_time": "2023-07-08T17:41:56.337358Z"
    }
   },
   "outputs": [
    {
     "name": "stdout",
     "output_type": "stream",
     "text": [
      "PLANE\n"
     ]
    }
   ],
   "source": [
    "p1= np.array([0, 0, 0])\n",
    "p2= np.array([1, 0, 0])\n",
    "p3= np.array([0, 1, 0])\n",
    "p4= np.array([0, 0, 0])\n",
    "\n",
    "\n",
    "if abs(check_coplaner(p1, p2, p3, p4)) < 1.0e-6:\n",
    "    print(\"PLANE\")\n",
    "else:\n",
    "    print(\"Not plane\")\n"
   ]
  },
  {
   "cell_type": "markdown",
   "id": "f1858e9d",
   "metadata": {},
   "source": [
    "## Find center of circle from three point "
   ]
  },
  {
   "cell_type": "markdown",
   "id": "3a575f60",
   "metadata": {},
   "source": [
    "https://stackoverflow.com/questions/20314306/find-arc-circle-equation-given-three-points-in-space-3d\n",
    "\n",
    "https://mathworld.wolfram.com/BarycentricCoordinates.html\n",
    "\n",
    "https://mathworld.wolfram.com/Circumcenter.html\n",
    "\n",
    "https://mathworld.wolfram.com/Circumcircle.html\n",
    "\n",
    "https://github.com/sergarrido/random/tree/master/circle3d\n",
    "\n",
    "https://new.math.uiuc.edu/public403/affine/bary.html"
   ]
  },
  {
   "cell_type": "code",
   "execution_count": 12,
   "id": "4535a4ed",
   "metadata": {
    "ExecuteTime": {
     "end_time": "2023-07-09T16:07:39.214159Z",
     "start_time": "2023-07-09T16:07:39.185638Z"
    }
   },
   "outputs": [],
   "source": [
    "import numpy as np\n",
    "\n",
    "def circle_center_radius(A, B, C):\n",
    "\n",
    "    if abs(check_collinear(A,B,C)) < 1.0e-6:      \n",
    "        raise ValueError(\"Points are collinear, no unique circle exists.\")\n",
    "    \n",
    "    a = np.linalg.norm(C - B)\n",
    "    b = np.linalg.norm(C - A)\n",
    "    c = np.linalg.norm(B - A)\n",
    "    \n",
    "    s = (a + b + c) / 2\n",
    "    rad = a*b*c / 4 / np.sqrt(s * (s - a) * (s - b) * (s - c))\n",
    "    \n",
    "     #Barycentric Coordinates of circumsnter\n",
    "    b1 = a*a * (b*b + c*c - a*a)\n",
    "    b2 = b*b * (a*a + c*c - b*b)\n",
    "    b3 = c*c * (a*a + b*b - c*c)     \n",
    "    \n",
    "     #Barycentric Coordinates to cartesian Coordinates \n",
    "    centr = np.column_stack((A, B, C)).dot(np.hstack((b1, b2, b3)))  \n",
    "    centr /= b1 + b2 + b3\n",
    "#     centr = centr/(b1 + b2 + b3)\n",
    "    \n",
    "    return centr,rad.dot(np.hstack((b1, b2, b3)))  \n",
    "    centr /= b1 + b2 + b3\n",
    "#     centr = centr/(b1 + b2 + b3)\n",
    "    \n",
    "    return centr,rad\n"
   ]
  },
  {
   "cell_type": "code",
   "execution_count": 13,
   "id": "f932326d-91bf-4fe9-a7e3-fa9c5a3bbcbb",
   "metadata": {},
   "outputs": [],
   "source": [
    "import numpy as np\n",
    "def circle_center_radius(A, B, C):\n",
    "\n",
    "    if abs(check_collinear(A,B,C)) < 1.0e-6:      \n",
    "        raise ValueError(\"Points are collinear, no unique circle exists.\")\n",
    "    \n",
    "    a = np.linalg.norm(C - B)\n",
    "    b = np.linalg.norm(C - A)\n",
    "    c = np.linalg.norm(B - A)\n",
    "    \n",
    "    s = (a + b + c) / 2\n",
    "    rad = a*b*c / 4 / np.sqrt(s * (s - a) * (s - b) * (s - c))\n",
    "    \n",
    "     #Barycentric Coordinates of circumsnter\n",
    "    b1 = a*a * (b*b + c*c - a*a)\n",
    "    b2 = b*b * (a*a + c*c - b*b)\n",
    "    b3 = c*c * (a*a + b*b - c*c)     \n",
    "    \n",
    "     #Barycentric Coordinates to cartesian Coordinates \n",
    "    centr = np.column_stack((A, B, C)).dot(np.hstack((b1, b2, b3)))  \n",
    "    centr /= b1 + b2 + b3\n",
    "#     centr = centr/(b1 + b2 + b3)\n",
    "    \n",
    "    return centr,rad"
   ]
  },
  {
   "cell_type": "markdown",
   "id": "79a97224",
   "metadata": {},
   "source": [
    "**Example**"
   ]
  },
  {
   "cell_type": "code",
   "execution_count": null,
   "id": "019d2c0c-a7cc-41ea-b6df-8b7ce544e4a8",
   "metadata": {},
   "outputs": [],
   "source": []
  },
  {
   "cell_type": "code",
   "execution_count": 14,
   "id": "e43f2bd9",
   "metadata": {
    "ExecuteTime": {
     "end_time": "2023-07-09T16:07:40.132015Z",
     "start_time": "2023-07-09T16:07:40.123906Z"
    }
   },
   "outputs": [
    {
     "name": "stdout",
     "output_type": "stream",
     "text": [
      "[-2.22044605e-16 -2.22044605e-16  0.00000000e+00]\n",
      "1.4142135623730958\n"
     ]
    }
   ],
   "source": [
    "point1 = np.array([1, 1, 0])\n",
    "point2 = np.array([1, -1, 0])\n",
    "point3 = np.array([-1, 1, 0])\n",
    "\n",
    "Center,Radius=circle_center_radius(point1, point2, point3)\n",
    "print(Center)\n",
    "print(Radius)\n",
    "\n",
    "# point1.dot((2,2,2))"
   ]
  },
  {
   "cell_type": "code",
   "execution_count": 15,
   "id": "82a7b90b",
   "metadata": {
    "ExecuteTime": {
     "end_time": "2023-07-09T17:25:57.876076Z",
     "start_time": "2023-07-09T17:25:57.836987Z"
    }
   },
   "outputs": [
    {
     "ename": "ValueError",
     "evalue": "Points are collinear, no unique circle exists.",
     "output_type": "error",
     "traceback": [
      "\u001b[1;31m---------------------------------------------------------------------------\u001b[0m",
      "\u001b[1;31mValueError\u001b[0m                                Traceback (most recent call last)",
      "Cell \u001b[1;32mIn[15], line 7\u001b[0m\n\u001b[0;32m      4\u001b[0m point2 \u001b[38;5;241m=\u001b[39m np\u001b[38;5;241m.\u001b[39marray([\u001b[38;5;241m4\u001b[39m, \u001b[38;5;241m5\u001b[39m, \u001b[38;5;241m6\u001b[39m])\n\u001b[0;32m      5\u001b[0m point3 \u001b[38;5;241m=\u001b[39m np\u001b[38;5;241m.\u001b[39marray([\u001b[38;5;241m7\u001b[39m, \u001b[38;5;241m8\u001b[39m, \u001b[38;5;241m9\u001b[39m])\n\u001b[1;32m----> 7\u001b[0m Center,Radius\u001b[38;5;241m=\u001b[39m\u001b[43mcircle_center_radius\u001b[49m\u001b[43m(\u001b[49m\u001b[43mpoint1\u001b[49m\u001b[43m,\u001b[49m\u001b[43m \u001b[49m\u001b[43mpoint2\u001b[49m\u001b[43m,\u001b[49m\u001b[43m \u001b[49m\u001b[43mpoint3\u001b[49m\u001b[43m)\u001b[49m\n\u001b[0;32m      8\u001b[0m \u001b[38;5;28mprint\u001b[39m(Center)\n\u001b[0;32m      9\u001b[0m \u001b[38;5;28mprint\u001b[39m(Radius)\n",
      "Cell \u001b[1;32mIn[13], line 5\u001b[0m, in \u001b[0;36mcircle_center_radius\u001b[1;34m(A, B, C)\u001b[0m\n\u001b[0;32m      2\u001b[0m \u001b[38;5;28;01mdef\u001b[39;00m \u001b[38;5;21mcircle_center_radius\u001b[39m(A, B, C):\n\u001b[0;32m      4\u001b[0m     \u001b[38;5;28;01mif\u001b[39;00m \u001b[38;5;28mabs\u001b[39m(check_collinear(A,B,C)) \u001b[38;5;241m<\u001b[39m \u001b[38;5;241m1.0e-6\u001b[39m:      \n\u001b[1;32m----> 5\u001b[0m         \u001b[38;5;28;01mraise\u001b[39;00m \u001b[38;5;167;01mValueError\u001b[39;00m(\u001b[38;5;124m\"\u001b[39m\u001b[38;5;124mPoints are collinear, no unique circle exists.\u001b[39m\u001b[38;5;124m\"\u001b[39m)\n\u001b[0;32m      7\u001b[0m     a \u001b[38;5;241m=\u001b[39m np\u001b[38;5;241m.\u001b[39mlinalg\u001b[38;5;241m.\u001b[39mnorm(C \u001b[38;5;241m-\u001b[39m B)\n\u001b[0;32m      8\u001b[0m     b \u001b[38;5;241m=\u001b[39m np\u001b[38;5;241m.\u001b[39mlinalg\u001b[38;5;241m.\u001b[39mnorm(C \u001b[38;5;241m-\u001b[39m A)\n",
      "\u001b[1;31mValueError\u001b[0m: Points are collinear, no unique circle exists."
     ]
    }
   ],
   "source": [
    "# Points are collinear\n",
    "\n",
    "point1 = np.array([1, 2, 3])\n",
    "point2 = np.array([4, 5, 6])\n",
    "point3 = np.array([7, 8, 9])\n",
    "\n",
    "Center,Radius=circle_center_radius(point1, point2, point3)\n",
    "print(Center)\n",
    "print(Radius)"
   ]
  },
  {
   "cell_type": "markdown",
   "id": "8202d0ca-c395-4c96-b027-32e184b42f7b",
   "metadata": {},
   "source": [
    "## Check three vector normality"
   ]
  },
  {
   "cell_type": "code",
   "execution_count": 23,
   "id": "07f09f47",
   "metadata": {},
   "outputs": [],
   "source": [
    "check_normal = lambda v1, v2, v3: np.abs(np.array([np.dot(v1,v2), np.dot(v2,v3), np.dot(v3,v1)])) < np.array([1.0e-6,1.0e-6,1.0e-6])\n",
    "\n",
    "check_normal.__doc__ = \"\"\"Check if all three vecors are perpendicular to each other, return false for not perpendicular pair\"\"\""
   ]
  },
  {
   "cell_type": "code",
   "execution_count": 24,
   "id": "f358bd15",
   "metadata": {},
   "outputs": [],
   "source": [
    "# check_normal = lambda v1, v2, v3: np.abs(np.array([np.dot(v1,v2), \n",
    "#                                                  np.dot(v2,v3), \n",
    "#                                                  np.dot(v3,v1)])) < np.array([1.0e-6,\n",
    "#                                                                               1.0e-6,\n",
    "#                                                                               1.0e-6])"
   ]
  },
  {
   "cell_type": "code",
   "execution_count": 25,
   "id": "cb351dad",
   "metadata": {},
   "outputs": [
    {
     "name": "stdout",
     "output_type": "stream",
     "text": [
      "Check if all three vecors are perpendicular to each other, return false for not perpendicular pair\n"
     ]
    }
   ],
   "source": [
    "print(check_normal.__doc__)"
   ]
  },
  {
   "cell_type": "code",
   "execution_count": null,
   "id": "c711b5f2",
   "metadata": {},
   "outputs": [],
   "source": []
  },
  {
   "cell_type": "code",
   "execution_count": null,
   "id": "d5c66b53",
   "metadata": {},
   "outputs": [],
   "source": []
  },
  {
   "cell_type": "code",
   "execution_count": null,
   "id": "af08e697",
   "metadata": {},
   "outputs": [],
   "source": []
  },
  {
   "cell_type": "code",
   "execution_count": null,
   "id": "b7c2d5cd",
   "metadata": {},
   "outputs": [],
   "source": []
  },
  {
   "cell_type": "code",
   "execution_count": null,
   "id": "92e54463",
   "metadata": {},
   "outputs": [],
   "source": []
  },
  {
   "cell_type": "code",
   "execution_count": null,
   "id": "ecb4e626",
   "metadata": {},
   "outputs": [],
   "source": []
  },
  {
   "cell_type": "code",
   "execution_count": null,
   "id": "7579e983",
   "metadata": {},
   "outputs": [],
   "source": []
  },
  {
   "cell_type": "code",
   "execution_count": null,
   "id": "5b5e8957",
   "metadata": {},
   "outputs": [],
   "source": []
  },
  {
   "cell_type": "code",
   "execution_count": null,
   "id": "10a43a74",
   "metadata": {},
   "outputs": [],
   "source": []
  },
  {
   "cell_type": "code",
   "execution_count": null,
   "id": "935fb332",
   "metadata": {},
   "outputs": [],
   "source": []
  },
  {
   "cell_type": "code",
   "execution_count": null,
   "id": "282dc228",
   "metadata": {},
   "outputs": [],
   "source": []
  }
 ],
 "metadata": {
  "kernelspec": {
   "display_name": "Python 3 (ipykernel)",
   "language": "python",
   "name": "python3"
  },
  "language_info": {
   "codemirror_mode": {
    "name": "ipython",
    "version": 3
   },
   "file_extension": ".py",
   "mimetype": "text/x-python",
   "name": "python",
   "nbconvert_exporter": "python",
   "pygments_lexer": "ipython3",
   "version": "3.8.1"
  },
  "toc": {
   "base_numbering": 1,
   "nav_menu": {},
   "number_sections": true,
   "sideBar": true,
   "skip_h1_title": false,
   "title_cell": "Table of Contents",
   "title_sidebar": "Contents",
   "toc_cell": false,
   "toc_position": {
    "height": "calc(100% - 180px)",
    "left": "10px",
    "top": "150px",
    "width": "374.391px"
   },
   "toc_section_display": true,
   "toc_window_display": true
  },
  "varInspector": {
   "cols": {
    "lenName": 16,
    "lenType": 16,
    "lenVar": 40
   },
   "kernels_config": {
    "python": {
     "delete_cmd_postfix": "",
     "delete_cmd_prefix": "del ",
     "library": "var_list.py",
     "varRefreshCmd": "print(var_dic_list())"
    },
    "r": {
     "delete_cmd_postfix": ") ",
     "delete_cmd_prefix": "rm(",
     "library": "var_list.r",
     "varRefreshCmd": "cat(var_dic_list()) "
    }
   },
   "types_to_exclude": [
    "module",
    "function",
    "builtin_function_or_method",
    "instance",
    "_Feature"
   ],
   "window_display": false
  }
 },
 "nbformat": 4,
 "nbformat_minor": 5
}
