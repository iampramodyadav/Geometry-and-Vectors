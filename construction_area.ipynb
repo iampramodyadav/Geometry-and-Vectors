{
 "cells": [
  {
   "cell_type": "markdown",
   "id": "f5c5b425-e8b0-4e15-9cd8-fb174fe8a175",
   "metadata": {},
   "source": [
    "# Coordinate creation and area selection"
   ]
  },
  {
   "cell_type": "markdown",
   "id": "bd8e2baf-cced-40b8-88dc-439bbbe2751e",
   "metadata": {},
   "source": [
    "## dcm2angle"
   ]
  },
  {
   "cell_type": "code",
   "execution_count": 53,
   "id": "51fe1830",
   "metadata": {
    "ExecuteTime": {
     "end_time": "2023-06-17T14:36:22.133191Z",
     "start_time": "2023-06-17T14:36:22.085985Z"
    }
   },
   "outputs": [
    {
     "name": "stdout",
     "output_type": "stream",
     "text": [
      "(0.0, 0.0, 0.0)\n"
     ]
    }
   ],
   "source": [
    "import numpy as np\n",
    "\n",
    "def dcm2angle(R, sequence):\n",
    "    if sequence == 'ZYX':\n",
    "        theta1 = np.arctan2(R[1, 2], R[2, 2])\n",
    "        theta2 = np.arcsin(-R[0, 2])\n",
    "        theta3 = np.arctan2(R[0, 1], R[0, 0])\n",
    "        return theta1, theta2, theta3\n",
    "    if sequence == 'XYZ':\n",
    "        theta1 = np.arctan2(R[2, 1], R[2, 2])\n",
    "        theta2 = np.arcsin(-R[2, 0])\n",
    "        theta3 = np.arctan2(R[1, 0], R[0, 0])\n",
    "        return theta1, theta2, theta3\n",
    "    elif sequence == 'ZYX':\n",
    "        theta1 = np.arctan2(R[1, 0], R[0, 0])\n",
    "        theta2 = np.arcsin(-R[2, 0])\n",
    "        theta3 = np.arctan2(R[2, 1], R[2, 2])\n",
    "        return theta1, theta2, theta3\n",
    "    else:\n",
    "        raise ValueError(\"Invalid sequence\")\n",
    "\n",
    "# Example usage\n",
    "R = np.array([[1, 0, 0],\n",
    "              [0, 1, 0],\n",
    "              [0, 0, 1]])\n",
    "\n",
    "sequence = 'ZYX'\n",
    "angles = dcm2angle(R, sequence)\n",
    "print(angles)\n"
   ]
  },
  {
   "cell_type": "code",
   "execution_count": 54,
   "id": "34567492",
   "metadata": {
    "ExecuteTime": {
     "end_time": "2023-06-17T14:36:22.611072Z",
     "start_time": "2023-06-17T14:36:22.592899Z"
    }
   },
   "outputs": [
    {
     "name": "stdout",
     "output_type": "stream",
     "text": [
      "[ -7.87121863 -59.46074466  10.26215846]\n"
     ]
    }
   ],
   "source": [
    "lmn= np.array([[0.5,0.090524305,0.861281226],\n",
    "               [-0.06041,0.995745059,-0.069586667],\n",
    "               [-0.86392,-0.017237422,0.503341182]])\n",
    "              \n",
    "sequence = 'ZYX'\n",
    "angles = dcm2angle(lmn, sequence)\n",
    "print(np.degrees(angles))\n",
    "\n",
    "#  rad2deg (yaw)\n",
    "#  rad2deg (pitch)\n",
    "#  rad2deg (roll"
   ]
  },
  {
   "cell_type": "code",
   "execution_count": 13,
   "id": "cfb06d17",
   "metadata": {
    "ExecuteTime": {
     "end_time": "2023-06-17T11:38:44.422234Z",
     "start_time": "2023-06-17T11:38:44.388678Z"
    }
   },
   "outputs": [
    {
     "data": {
      "text/plain": [
       "-0.069586667"
      ]
     },
     "execution_count": 13,
     "metadata": {},
     "output_type": "execute_result"
    }
   ],
   "source": [
    "lmn[1, 2]"
   ]
  },
  {
   "cell_type": "code",
   "execution_count": 14,
   "id": "01834b9a",
   "metadata": {
    "ExecuteTime": {
     "end_time": "2023-06-17T11:39:09.025257Z",
     "start_time": "2023-06-17T11:39:09.003595Z"
    }
   },
   "outputs": [
    {
     "data": {
      "text/plain": [
       "0.503341182"
      ]
     },
     "execution_count": 14,
     "metadata": {},
     "output_type": "execute_result"
    }
   ],
   "source": [
    "lmn[2, 2]"
   ]
  },
  {
   "cell_type": "markdown",
   "id": "ecb87ee4",
   "metadata": {},
   "source": [
    "## ZYX"
   ]
  },
  {
   "cell_type": "markdown",
   "id": "3ea54f20",
   "metadata": {},
   "source": [
    "### Rz theta3"
   ]
  },
  {
   "cell_type": "code",
   "execution_count": 48,
   "id": "0fd02307",
   "metadata": {
    "ExecuteTime": {
     "end_time": "2023-06-17T13:12:28.645581Z",
     "start_time": "2023-06-17T13:12:28.636553Z"
    }
   },
   "outputs": [
    {
     "data": {
      "text/plain": [
       "10.262158460538497"
      ]
     },
     "execution_count": 48,
     "metadata": {},
     "output_type": "execute_result"
    }
   ],
   "source": [
    "np.degrees(np.arctan2( 0.090524305,0.5))"
   ]
  },
  {
   "cell_type": "code",
   "execution_count": 49,
   "id": "c7b30699",
   "metadata": {
    "ExecuteTime": {
     "end_time": "2023-06-17T13:12:28.833622Z",
     "start_time": "2023-06-17T13:12:28.821593Z"
    }
   },
   "outputs": [
    {
     "data": {
      "text/plain": [
       "-3.471773079020504"
      ]
     },
     "execution_count": 49,
     "metadata": {},
     "output_type": "execute_result"
    }
   ],
   "source": [
    "np.degrees(np.arctan2(-.06041,0.995745059)) #xxxxxxxxxxxxx"
   ]
  },
  {
   "cell_type": "markdown",
   "id": "1850fb47",
   "metadata": {},
   "source": [
    "### Ry theta2"
   ]
  },
  {
   "cell_type": "code",
   "execution_count": 50,
   "id": "06d48779",
   "metadata": {
    "ExecuteTime": {
     "end_time": "2023-06-17T13:12:29.211911Z",
     "start_time": "2023-06-17T13:12:29.194232Z"
    }
   },
   "outputs": [
    {
     "data": {
      "text/plain": [
       "-59.46074466244338"
      ]
     },
     "execution_count": 50,
     "metadata": {},
     "output_type": "execute_result"
    }
   ],
   "source": [
    "np.degrees(np.arcsin(-0.861281226))  #yyyyyyyyyyyyyyyy"
   ]
  },
  {
   "cell_type": "code",
   "execution_count": 51,
   "id": "87419a76",
   "metadata": {
    "ExecuteTime": {
     "end_time": "2023-06-17T13:12:30.112120Z",
     "start_time": "2023-06-17T13:12:30.104150Z"
    }
   },
   "outputs": [
    {
     "data": {
      "text/plain": [
       "-59.86352887252943"
      ]
     },
     "execution_count": 51,
     "metadata": {},
     "output_type": "execute_result"
    }
   ],
   "source": [
    "np.degrees(np.arctan2(-0.861281226,0.5))  #yxxxxxxxxxx"
   ]
  },
  {
   "cell_type": "code",
   "execution_count": 52,
   "id": "e6afea5c",
   "metadata": {
    "ExecuteTime": {
     "end_time": "2023-06-17T13:12:30.313489Z",
     "start_time": "2023-06-17T13:12:30.296050Z"
    }
   },
   "outputs": [
    {
     "data": {
      "text/plain": [
       "-59.77386314156867"
      ]
     },
     "execution_count": 52,
     "metadata": {},
     "output_type": "execute_result"
    }
   ],
   "source": [
    "np.degrees(np.arctan2(-0.86392,0.503341182))   #yxxxxxxxxxx"
   ]
  },
  {
   "cell_type": "markdown",
   "id": "e095f7f5",
   "metadata": {},
   "source": [
    "### Rx theta1"
   ]
  },
  {
   "cell_type": "markdown",
   "id": "53cf4d49",
   "metadata": {},
   "source": [
    "```\n",
    "! RZ = ATAN2(x_m,x_l)\n",
    "! RY = ASIN(-x_n)\n",
    "! RX = ATAN2(y_n,z_n)\n",
    "! CLOCAL, CSN, 0, X_0, Y_0, Z_0, RZ, RY, RX\n",
    "```"
   ]
  },
  {
   "cell_type": "markdown",
   "id": "e33683c2",
   "metadata": {},
   "source": [
    "## ZXY"
   ]
  },
  {
   "cell_type": "code",
   "execution_count": 3,
   "id": "a13f7da5",
   "metadata": {
    "ExecuteTime": {
     "end_time": "2023-06-18T09:26:59.547165Z",
     "start_time": "2023-06-18T09:26:59.525783Z"
    }
   },
   "outputs": [
    {
     "name": "stdout",
     "output_type": "stream",
     "text": [
      "(0.0, 0.0, 0.0)\n"
     ]
    }
   ],
   "source": [
    "import numpy as np\n",
    "\n",
    "def dcm2angle(R, sequence):\n",
    "    if sequence == 'ZYX':\n",
    "        Rx = np.arctan2(R[1, 2], R[2, 2])\n",
    "        Ry = np.arcsin(-R[0, 2])\n",
    "        Rz = np.arctan2(R[0, 1], R[0, 0])\n",
    "        return theta1, theta2, theta3\n",
    "    if sequence == 'XYZ':\n",
    "        theta1 = np.arctan2(R[2, 1], R[2, 2])\n",
    "        theta2 = np.arcsin(-R[2, 0])\n",
    "        theta3 = np.arctan2(R[1, 0], R[0, 0])\n",
    "        return theta1, theta2, theta3\n",
    "    elif sequence == 'ZXY':\n",
    "        theta1 = np.arctan2(-R[0, 2], R[2, 2])\n",
    "        theta2 = np.arcsin(R[1, 2])\n",
    "        theta3 = np.arctan2(-R[1, 0], R[1, 1])\n",
    "        return theta2,theta1 ,theta3\n",
    "    else:\n",
    "        raise ValueError(\"Invalid sequence\")\n",
    "\n",
    "# Example usage\n",
    "R = np.array([[1, 0, 0],\n",
    "              [0, 1, 0],\n",
    "              [0, 0, 1]])\n",
    "\n",
    "sequence = 'ZXY'\n",
    "angles = dcm2angle(R, sequence)\n",
    "print(angles)"
   ]
  },
  {
   "cell_type": "code",
   "execution_count": 4,
   "id": "22b71b49",
   "metadata": {
    "ExecuteTime": {
     "end_time": "2023-06-18T09:26:59.751424Z",
     "start_time": "2023-06-18T09:26:59.729499Z"
    }
   },
   "outputs": [
    {
     "name": "stdout",
     "output_type": "stream",
     "text": [
      "[ -3.99024709 -59.69756667   3.47177308]\n"
     ]
    }
   ],
   "source": [
    "lmn= np.array([[0.5,0.090524305,0.861281226],\n",
    "               [-0.06041,0.995745059,-0.069586667],\n",
    "               [-0.86392,-0.017237422,0.503341182]])\n",
    "              \n",
    "sequence = 'ZXY'\n",
    "angles = dcm2angle(lmn, sequence)\n",
    "print(np.degrees(angles))\n",
    "\n",
    "#  rad2deg (yaw)\n",
    "#  rad2deg (pitch)\n",
    "#  rad2deg (roll"
   ]
  },
  {
   "cell_type": "code",
   "execution_count": 5,
   "id": "23e1f22f",
   "metadata": {
    "ExecuteTime": {
     "end_time": "2023-06-18T09:26:59.917664Z",
     "start_time": "2023-06-18T09:26:59.907541Z"
    }
   },
   "outputs": [
    {
     "data": {
      "text/plain": [
       "3.471773079020504"
      ]
     },
     "execution_count": 5,
     "metadata": {},
     "output_type": "execute_result"
    }
   ],
   "source": [
    "np.degrees(np.arctan2(-(-0.06041),0.995745059))"
   ]
  },
  {
   "cell_type": "code",
   "execution_count": 6,
   "id": "895c4f96",
   "metadata": {
    "ExecuteTime": {
     "end_time": "2023-06-18T09:27:00.101662Z",
     "start_time": "2023-06-18T09:27:00.088165Z"
    }
   },
   "outputs": [
    {
     "data": {
      "text/plain": [
       "-3.990247090487281"
      ]
     },
     "execution_count": 6,
     "metadata": {},
     "output_type": "execute_result"
    }
   ],
   "source": [
    "np.degrees(np.arcsin(-0.069586667))"
   ]
  },
  {
   "cell_type": "code",
   "execution_count": 7,
   "id": "1c56fdb1",
   "metadata": {
    "ExecuteTime": {
     "end_time": "2023-06-18T09:27:00.282803Z",
     "start_time": "2023-06-18T09:27:00.272774Z"
    }
   },
   "outputs": [
    {
     "data": {
      "text/plain": [
       "-59.69756667484733"
      ]
     },
     "execution_count": 7,
     "metadata": {},
     "output_type": "execute_result"
    }
   ],
   "source": [
    "np.degrees(np.arctan2(-(0.861281226),0.503341182))"
   ]
  },
  {
   "cell_type": "code",
   "execution_count": 8,
   "id": "c17611d1",
   "metadata": {
    "ExecuteTime": {
     "end_time": "2023-06-18T09:27:00.634659Z",
     "start_time": "2023-06-18T09:27:00.620783Z"
    }
   },
   "outputs": [
    {
     "name": "stdout",
     "output_type": "stream",
     "text": [
      "[-0.00572958 -0.         -0.        ]\n"
     ]
    }
   ],
   "source": [
    "lmn= np.array([[0.001,0,0], [0,0.00099,-0.0001],[0,0.0001,0.00099]])\n",
    "              \n",
    "sequence = 'ZXY'\n",
    "angles = dcm2angle(lmn, sequence)\n",
    "print(np.degrees(angles))\n",
    "\n",
    "#  rad2deg (yaw)\n",
    "#  rad2deg (pitch)\n",
    "#  rad2deg (roll"
   ]
  },
  {
   "cell_type": "markdown",
   "id": "2c23c1ae",
   "metadata": {},
   "source": [
    "```\n",
    "RZ = ATAN2(-y_l,y_m)\n",
    "RX = ASIN(y_n)\n",
    "RY = ATAN2(-x_n,z_n)\n",
    "\n",
    "CLOCAL, CSN, 0, X_0, Y_0, Z_0, RZ, RX, RY\n",
    "\n",
    "```"
   ]
  },
  {
   "cell_type": "markdown",
   "id": "15cae6a0",
   "metadata": {},
   "source": [
    "## XYZ"
   ]
  },
  {
   "cell_type": "code",
   "execution_count": 30,
   "id": "348675bf",
   "metadata": {
    "ExecuteTime": {
     "end_time": "2023-06-18T10:06:55.243602Z",
     "start_time": "2023-06-18T10:06:55.234445Z"
    }
   },
   "outputs": [
    {
     "name": "stdout",
     "output_type": "stream",
     "text": [
      "(0.0, 0.0, 0.0)\n"
     ]
    }
   ],
   "source": [
    "import numpy as np\n",
    "\n",
    "def dcm2angle(R, sequence):\n",
    "    if sequence == 'ZYX':\n",
    "        Rx = np.arctan2(R[1, 2], R[2, 2])\n",
    "        Ry = np.arcsin(-R[0, 2])\n",
    "        Rz = np.arctan2(R[0, 1], R[0, 0])\n",
    "        return Rx, Ry, Rz\n",
    "    if sequence == 'XYZ':\n",
    "        Rx = np.arctan2(-R[2, 1], R[2, 2])\n",
    "        Ry = np.arcsin(R[2, 0])\n",
    "        Rz = np.arctan2(-R[1, 0], R[0, 0])\n",
    "        return Rx, Ry, Rz\n",
    "    elif sequence == 'ZXY':\n",
    "        Ry = np.arctan2(-R[0, 2], R[2, 2])\n",
    "        Rx = np.arcsin(R[1, 2])\n",
    "        Rz = np.arctan2(-R[1, 0], R[1, 1])\n",
    "        return Rx, Ry ,Rz\n",
    "    else:\n",
    "        raise ValueError(\"This sequence not available\")\n",
    "\n",
    "# Example usage\n",
    "R = np.array([[1, 0, 0],\n",
    "              [0, 1, 0],\n",
    "              [0, 0, 1]])\n",
    "\n",
    "sequence = 'ZXY'\n",
    "angles = dcm2angle(R, sequence)\n",
    "print(angles)"
   ]
  },
  {
   "cell_type": "code",
   "execution_count": 31,
   "id": "87df8eef",
   "metadata": {
    "ExecuteTime": {
     "end_time": "2023-06-18T10:06:56.365221Z",
     "start_time": "2023-06-18T10:06:56.350727Z"
    }
   },
   "outputs": [
    {
     "name": "stdout",
     "output_type": "stream",
     "text": [
      "[  1.96138473 -59.75961124   6.8890845 ]\n"
     ]
    }
   ],
   "source": [
    "lmn= np.array([[0.5,0.090524305,0.861281226],\n",
    "               [-0.06041,0.995745059,-0.069586667],\n",
    "               [-0.86392,-0.017237422,0.503341182]])\n",
    "              \n",
    "sequence = 'XYZ'\n",
    "angles = dcm2angle(lmn, sequence)\n",
    "print(np.degrees(angles))"
   ]
  },
  {
   "cell_type": "code",
   "execution_count": 32,
   "id": "ee3ba0ab",
   "metadata": {
    "ExecuteTime": {
     "end_time": "2023-06-18T10:06:58.934752Z",
     "start_time": "2023-06-18T10:06:58.918666Z"
    }
   },
   "outputs": [
    {
     "data": {
      "text/plain": [
       "1.9613847281871681"
      ]
     },
     "execution_count": 32,
     "metadata": {},
     "output_type": "execute_result"
    }
   ],
   "source": [
    "np.degrees(np.arctan2(-(-0.017237422),0.503341182))"
   ]
  },
  {
   "cell_type": "code",
   "execution_count": 33,
   "id": "61cd65eb",
   "metadata": {
    "ExecuteTime": {
     "end_time": "2023-06-18T10:06:59.172406Z",
     "start_time": "2023-06-18T10:06:59.161403Z"
    }
   },
   "outputs": [
    {
     "data": {
      "text/plain": [
       "-59.75961123795097"
      ]
     },
     "execution_count": 33,
     "metadata": {},
     "output_type": "execute_result"
    }
   ],
   "source": [
    "np.degrees(np.arcsin(-0.86392))"
   ]
  },
  {
   "cell_type": "code",
   "execution_count": 34,
   "id": "590a6891",
   "metadata": {
    "ExecuteTime": {
     "end_time": "2023-06-18T10:06:59.767057Z",
     "start_time": "2023-06-18T10:06:59.756004Z"
    }
   },
   "outputs": [
    {
     "data": {
      "text/plain": [
       "6.889084504860569"
      ]
     },
     "execution_count": 34,
     "metadata": {},
     "output_type": "execute_result"
    }
   ],
   "source": [
    "np.degrees(np.arctan2(-(-0.06041),0.5))"
   ]
  },
  {
   "cell_type": "code",
   "execution_count": null,
   "id": "f2da5b7e",
   "metadata": {},
   "outputs": [],
   "source": []
  },
  {
   "cell_type": "code",
   "execution_count": null,
   "id": "e51417bc",
   "metadata": {},
   "outputs": [],
   "source": []
  },
  {
   "cell_type": "code",
   "execution_count": 9,
   "id": "38850584",
   "metadata": {
    "ExecuteTime": {
     "end_time": "2023-06-18T09:27:00.818122Z",
     "start_time": "2023-06-18T09:27:00.797958Z"
    }
   },
   "outputs": [
    {
     "name": "stdout",
     "output_type": "stream",
     "text": [
      "[-6. -0. -0.]\n"
     ]
    }
   ],
   "source": [
    " lmn= np.array([[1, 0, 0 ],\n",
    "                [0, 0.994521895368273, -0.104528463267654 ],\n",
    "                [0, 0.104528463267654, 0.994521895368273]])\n",
    "    \n",
    "sequence = 'ZXY'\n",
    "angles = dcm2angle(lmn, sequence)\n",
    "print(np.degrees(angles))    "
   ]
  },
  {
   "cell_type": "code",
   "execution_count": null,
   "id": "972b04b7",
   "metadata": {},
   "outputs": [],
   "source": []
  },
  {
   "cell_type": "code",
   "execution_count": null,
   "id": "8ab14c72",
   "metadata": {},
   "outputs": [],
   "source": [
    "import numpy as np\n",
    "\n",
    "def dcm2angle(R, sequence):\n",
    "    if sequence == 'ZYX':\n",
    "        Rx = np.arctan2(R[1, 2], R[2, 2])\n",
    "        Ry = np.arcsin(-R[0, 2])\n",
    "        Rz = np.arctan2(R[0, 1], R[0, 0])\n",
    "        return Rx, Ry, Rz\n",
    "    if sequence == 'XYZ':\n",
    "        Rx = np.arctan2(-R[2, 1], R[2, 2])\n",
    "        Ry = np.arcsin(R[2, 0])\n",
    "        Rz = np.arctan2(-R[1, 0], R[0, 0])\n",
    "        return Rx, Ry, Rz\n",
    "    elif sequence == 'ZXY':\n",
    "        Ry = np.arctan2(-R[0, 2], R[2, 2])\n",
    "        Rx = np.arcsin(R[1, 2])\n",
    "        Rz = np.arctan2(-R[1, 0], R[1, 1])\n",
    "        return Rx, Ry ,Rz\n",
    "    else:\n",
    "        raise ValueError(\"This sequence not available\")\n",
    "\n",
    "# Example usage\n",
    "R = np.array([[1, 0, 0],\n",
    "              [0, 1, 0],\n",
    "              [0, 0, 1]])\n",
    "\n",
    "sequence = 'ZXY'\n",
    "angles = dcm2angle(R, sequence)\n",
    "print(angles)"
   ]
  },
  {
   "cell_type": "code",
   "execution_count": 74,
   "id": "631d8052",
   "metadata": {
    "ExecuteTime": {
     "end_time": "2023-06-18T10:39:02.896000Z",
     "start_time": "2023-06-18T10:39:02.879235Z"
    }
   },
   "outputs": [
    {
     "name": "stdout",
     "output_type": "stream",
     "text": [
      "1 2 0\n"
     ]
    }
   ],
   "source": [
    "order='YZX'\n",
    "MatDict = {char: ord(char) for char in order}\n",
    "    \n",
    "MatDict['X'] = 0\n",
    "MatDict['Y'] = 1\n",
    "MatDict['Z'] = 2\n",
    "    \n",
    "keys = list(MatDict.keys())\n",
    "    \n",
    "a = MatDict[keys[0]]\n",
    "b = MatDict[keys[1]]\n",
    "c = MatDict[keys[2]]\n",
    "\n",
    "print(a,b,c)"
   ]
  },
  {
   "cell_type": "markdown",
   "id": "79672304-2138-4bcd-a694-16c190a9a7b9",
   "metadata": {},
   "source": [
    "## Final"
   ]
  },
  {
   "cell_type": "code",
   "execution_count": 151,
   "id": "2ba4edac",
   "metadata": {
    "ExecuteTime": {
     "end_time": "2023-06-18T11:32:59.817811Z",
     "start_time": "2023-06-18T11:32:59.792540Z"
    }
   },
   "outputs": [
    {
     "name": "stdout",
     "output_type": "stream",
     "text": [
      "[  1.96138473 -59.75961124   6.8890845 ]\n"
     ]
    }
   ],
   "source": [
    "import numpy as np\n",
    "\n",
    "def dcm2rotation(R, sequence=\"XYZ\"):\n",
    "    \n",
    "    \"\"\"\n",
    "    Converts a Direction Cosine Matrix (DCM) to Euler angles.\n",
    "\n",
    "    Parameters:\n",
    "        R (numpy.ndarray): 3x3 rotation matrix representing the DCM.\n",
    "        sequence (str): String specifying the desired rotation sequence. Defaults to 'TXYZ'.\n",
    "                        \n",
    "\n",
    "    Returns:\n",
    "        tuple: Tuple of three Euler angles (theta1, theta2, theta3) in radians.\n",
    "\n",
    "    Raises:\n",
    "        TypeError: If an invalid sequence is provided. Implemented for \"XYZ\",\"ZXY\",\"YZX\",\"ZYX\",\"YXZ\",\"XZY\" only\n",
    "        \n",
    "    Notes:\n",
    "        - The function uses the numpy library for array operations and trigonometric functions.\n",
    "\n",
    "    \"\"\"\n",
    "    \n",
    "    available = [\"XYZ\",\"ZXY\",\"YZX\",\"ZYX\",\"YXZ\",\"XZY\"] \n",
    "    avail_posi = [\"XYZ\",\"ZXY\",\"YZX\"]\n",
    "    \n",
    "    if sequence in available:\n",
    "        i= -1 if sequence in avail_posi else 1\n",
    "        \n",
    "        MatDict = {char: ord(char) for char in sequence}\n",
    "\n",
    "        MatDict['X'] = 0\n",
    "        MatDict['Y'] = 1\n",
    "        MatDict['Z'] = 2\n",
    "\n",
    "        keys = list(MatDict.keys())\n",
    "\n",
    "        a = MatDict[keys[0]]\n",
    "        b = MatDict[keys[1]]\n",
    "        c = MatDict[keys[2]] \n",
    "\n",
    "        R1 = np.arctan2(i*R[c, b], R[c, c])\n",
    "        R2 = np.arcsin(i*-R[c, a])\n",
    "        R3 = np.arctan2(i*R[b, a], R[a, a])\n",
    "\n",
    "        return R1, R2, R3\n",
    "    else:\n",
    "        raise TypeError('Sorry,Implemented for this sequence only \"XYZ\",\"ZXY\",\"YZX\",\"ZYX\",\"YXZ\",\"XZY\"')\n",
    "        \n",
    "if __name__ == '__main__':\n",
    "\n",
    "    lmn= np.array([[0.5,0.090524305,0.861281226],\n",
    "               [-0.06041,0.995745059,-0.069586667],\n",
    "               [-0.86392,-0.017237422,0.503341182]])\n",
    "              \n",
    "    sequence = 'XYZ'\n",
    "    angles = dcm2rotation(lmn, sequence)\n",
    "    print(np.degrees(angles)) \n"
   ]
  },
  {
   "cell_type": "code",
   "execution_count": 152,
   "id": "d6b53d8f",
   "metadata": {
    "ExecuteTime": {
     "end_time": "2023-06-18T11:33:01.540140Z",
     "start_time": "2023-06-18T11:33:01.519738Z"
    },
    "run_control": {
     "marked": true
    }
   },
   "outputs": [
    {
     "name": "stdout",
     "output_type": "stream",
     "text": [
      "\n",
      "    Converts a Direction Cosine Matrix (DCM) to Euler angles.\n",
      "\n",
      "    Parameters:\n",
      "        R (numpy.ndarray): 3x3 rotation matrix representing the DCM.\n",
      "        sequence (str): String specifying the desired rotation sequence. Valid options are 'ZYX', 'XYZ', and 'ZYX'.\n",
      "\n",
      "    Returns:\n",
      "        tuple: Tuple of three Euler angles (theta1, theta2, theta3) in radians.\n",
      "\n",
      "    Raises:\n",
      "        TypeError: If an invalid sequence is provided.\n",
      "\n",
      "    Notes:\n",
      "        - The function uses the numpy library for array operations and trigonometric functions.\n",
      "\n",
      "    \n"
     ]
    }
   ],
   "source": [
    "print(dcm2rotation.__doc__)"
   ]
  },
  {
   "cell_type": "code",
   "execution_count": 153,
   "id": "7c71e19d",
   "metadata": {
    "ExecuteTime": {
     "end_time": "2023-06-18T11:33:03.956914Z",
     "start_time": "2023-06-18T11:33:03.950723Z"
    }
   },
   "outputs": [
    {
     "name": "stdout",
     "output_type": "stream",
     "text": [
      "[  1.96138473 -59.75961124   6.8890845 ]\n"
     ]
    }
   ],
   "source": [
    "lmn= np.array([[0.5,0.090524305,0.861281226],\n",
    "               [-0.06041,0.995745059,-0.069586667],\n",
    "               [-0.86392,-0.017237422,0.503341182]])\n",
    "              \n",
    "sequence = 'XYZ'\n",
    "angles = dcm2rotation(lmn, sequence)\n",
    "print(np.degrees(angles))"
   ]
  },
  {
   "cell_type": "code",
   "execution_count": 155,
   "id": "cdebd21e",
   "metadata": {
    "ExecuteTime": {
     "end_time": "2023-06-18T11:33:20.644813Z",
     "start_time": "2023-06-18T11:33:20.635119Z"
    }
   },
   "outputs": [
    {
     "name": "stdout",
     "output_type": "stream",
     "text": [
      "[  1.96138473 -59.75961124   6.8890845 ]\n"
     ]
    }
   ],
   "source": [
    "lmn= np.array([[0.5,0.090524305,0.861281226],\n",
    "               [-0.06041,0.995745059,-0.069586667],\n",
    "               [-0.86392,-0.017237422,0.503341182]])\n",
    "\n",
    "angles = dcm2rotation(lmn)\n",
    "print(np.degrees(angles))"
   ]
  },
  {
   "cell_type": "code",
   "execution_count": 154,
   "id": "f32ac86c",
   "metadata": {
    "ExecuteTime": {
     "end_time": "2023-06-18T11:33:07.333426Z",
     "start_time": "2023-06-18T11:33:07.322384Z"
    }
   },
   "outputs": [
    {
     "name": "stdout",
     "output_type": "stream",
     "text": [
      "[  3.47177308  -3.99024709 -59.69756667]\n"
     ]
    }
   ],
   "source": [
    "sequenc = 'ZXY'\n",
    "angles = dcm2rotation(lmn, sequenc)\n",
    "print(np.degrees(angles))"
   ]
  },
  {
   "cell_type": "code",
   "execution_count": 145,
   "id": "8843e56d",
   "metadata": {
    "ExecuteTime": {
     "end_time": "2023-06-18T11:24:11.401298Z",
     "start_time": "2023-06-18T11:24:11.380904Z"
    }
   },
   "outputs": [
    {
     "name": "stdout",
     "output_type": "stream",
     "text": [
      "[ 10.26215846 -59.46074466  -7.87121863]\n"
     ]
    }
   ],
   "source": [
    "sequence = 'ZYX'\n",
    "angles = dcm2rotation(lmn, sequence)\n",
    "print(np.degrees(angles))"
   ]
  },
  {
   "cell_type": "code",
   "execution_count": 146,
   "id": "ea262ba7",
   "metadata": {
    "ExecuteTime": {
     "end_time": "2023-06-18T11:24:11.747259Z",
     "start_time": "2023-06-18T11:24:11.712678Z"
    }
   },
   "outputs": [
    {
     "ename": "TypeError",
     "evalue": "Sorry,Implemented for this sequence only \"XYZ\",\"ZXY\",\"YZX\",\"ZYX\",\"YXZ\",\"XZY\"",
     "output_type": "error",
     "traceback": [
      "\u001b[1;31m---------------------------------------------------------------------------\u001b[0m",
      "\u001b[1;31mTypeError\u001b[0m                                 Traceback (most recent call last)",
      "Cell \u001b[1;32mIn[146], line 2\u001b[0m\n\u001b[0;32m      1\u001b[0m sequence \u001b[38;5;241m=\u001b[39m \u001b[38;5;124m'\u001b[39m\u001b[38;5;124mZFX\u001b[39m\u001b[38;5;124m'\u001b[39m\n\u001b[1;32m----> 2\u001b[0m angles \u001b[38;5;241m=\u001b[39m \u001b[43mdcm2rotation\u001b[49m\u001b[43m(\u001b[49m\u001b[43mlmn\u001b[49m\u001b[43m,\u001b[49m\u001b[43m \u001b[49m\u001b[43msequence\u001b[49m\u001b[43m)\u001b[49m\n\u001b[0;32m      3\u001b[0m \u001b[38;5;28mprint\u001b[39m(np\u001b[38;5;241m.\u001b[39mdegrees(angles))\n",
      "Cell \u001b[1;32mIn[142], line 27\u001b[0m, in \u001b[0;36mdcm2rotation\u001b[1;34m(R, sequence)\u001b[0m\n\u001b[0;32m     25\u001b[0m     \u001b[38;5;28;01mreturn\u001b[39;00m R1, R2, R3\n\u001b[0;32m     26\u001b[0m \u001b[38;5;28;01melse\u001b[39;00m:\n\u001b[1;32m---> 27\u001b[0m     \u001b[38;5;28;01mraise\u001b[39;00m \u001b[38;5;167;01mTypeError\u001b[39;00m(\u001b[38;5;124m'\u001b[39m\u001b[38;5;124mSorry,Implemented for this sequence only \u001b[39m\u001b[38;5;124m\"\u001b[39m\u001b[38;5;124mXYZ\u001b[39m\u001b[38;5;124m\"\u001b[39m\u001b[38;5;124m,\u001b[39m\u001b[38;5;124m\"\u001b[39m\u001b[38;5;124mZXY\u001b[39m\u001b[38;5;124m\"\u001b[39m\u001b[38;5;124m,\u001b[39m\u001b[38;5;124m\"\u001b[39m\u001b[38;5;124mYZX\u001b[39m\u001b[38;5;124m\"\u001b[39m\u001b[38;5;124m,\u001b[39m\u001b[38;5;124m\"\u001b[39m\u001b[38;5;124mZYX\u001b[39m\u001b[38;5;124m\"\u001b[39m\u001b[38;5;124m,\u001b[39m\u001b[38;5;124m\"\u001b[39m\u001b[38;5;124mYXZ\u001b[39m\u001b[38;5;124m\"\u001b[39m\u001b[38;5;124m,\u001b[39m\u001b[38;5;124m\"\u001b[39m\u001b[38;5;124mXZY\u001b[39m\u001b[38;5;124m\"\u001b[39m\u001b[38;5;124m'\u001b[39m)\n",
      "\u001b[1;31mTypeError\u001b[0m: Sorry,Implemented for this sequence only \"XYZ\",\"ZXY\",\"YZX\",\"ZYX\",\"YXZ\",\"XZY\""
     ]
    }
   ],
   "source": [
    "sequence = 'ZFX'\n",
    "angles = dcm2rotation(lmn, sequence)\n",
    "print(np.degrees(angles))"
   ]
  },
  {
   "cell_type": "code",
   "execution_count": null,
   "id": "6a62e1ae",
   "metadata": {},
   "outputs": [],
   "source": []
  },
  {
   "cell_type": "code",
   "execution_count": 105,
   "id": "cec49b99",
   "metadata": {
    "ExecuteTime": {
     "end_time": "2023-07-07T19:54:02.062814Z",
     "start_time": "2023-07-07T19:54:02.044537Z"
    }
   },
   "outputs": [
    {
     "name": "stdout",
     "output_type": "stream",
     "text": [
      "Points are not collinear\n"
     ]
    }
   ],
   "source": [
    "check_collinear = lambda p1, p2, p3: (p2[0] - p1[0]) * (p3[1] - p1[1]) == (p3[0] - p1[0]) * (p2[1] - p1[1]) and \\\n",
    "                                     (p2[1] - p1[1]) * (p3[2] - p1[2]) == (p3[1] - p1[1]) * (p2[2] - p1[2]) and \\\n",
    "                                     (p2[2] - p1[2]) * (p3[0] - p1[0]) == (p3[2] - p1[2]) * (p2[0] - p1[0])\n",
    "\n",
    "# Example usage\n",
    "p1 = (0, 0, 0)\n",
    "p2 = (1, 1, 1)\n",
    "p3 = (5, 5, 5)\n",
    "\n",
    "if check_collinear(p1, p2, p3):\n",
    "    print(\"Points are collinear\")\n",
    "else:\n",
    "    print(\"Points are not collinear\")\n"
   ]
  },
  {
   "cell_type": "code",
   "execution_count": null,
   "id": "2aba5ac8",
   "metadata": {},
   "outputs": [],
   "source": []
  },
  {
   "cell_type": "code",
   "execution_count": null,
   "id": "693815ab",
   "metadata": {},
   "outputs": [],
   "source": []
  },
  {
   "cell_type": "code",
   "execution_count": null,
   "id": "36e513f1",
   "metadata": {},
   "outputs": [],
   "source": []
  },
  {
   "cell_type": "markdown",
   "id": "fb725694-0457-4bd3-bb61-98151d7d5c28",
   "metadata": {},
   "source": [
    "---"
   ]
  },
  {
   "cell_type": "markdown",
   "id": "748fd6ce",
   "metadata": {},
   "source": [
    "## Contact area detection"
   ]
  },
  {
   "cell_type": "markdown",
   "id": "88fe0575",
   "metadata": {},
   "source": [
    "### Coordinate creation"
   ]
  },
  {
   "cell_type": "code",
   "execution_count": 279,
   "id": "4b091ce3",
   "metadata": {
    "ExecuteTime": {
     "end_time": "2023-07-09T17:38:36.743922Z",
     "start_time": "2023-07-09T17:38:36.735464Z"
    }
   },
   "outputs": [],
   "source": [
    "import numpy as np"
   ]
  },
  {
   "cell_type": "code",
   "execution_count": 280,
   "id": "364c9d73",
   "metadata": {
    "ExecuteTime": {
     "end_time": "2023-07-09T17:38:37.011023Z",
     "start_time": "2023-07-09T17:38:37.002079Z"
    }
   },
   "outputs": [],
   "source": [
    "check_collinear = lambda p1, p2, p3: np.linalg.norm(np.cross((p2-p1), (p1-p3))) "
   ]
  },
  {
   "cell_type": "code",
   "execution_count": 281,
   "id": "f4c4a993",
   "metadata": {
    "ExecuteTime": {
     "end_time": "2023-07-09T17:38:37.228032Z",
     "start_time": "2023-07-09T17:38:37.217460Z"
    }
   },
   "outputs": [],
   "source": [
    "dcv = lambda x, y, z: np.array([x / np.sqrt(x**2 + y**2 + z**2),\n",
    "                                y / np.sqrt(x**2 + y**2 + z**2),\n",
    "                                z / np.sqrt(x**2 + y**2 + z**2)])"
   ]
  },
  {
   "cell_type": "code",
   "execution_count": 282,
   "id": "aa049226",
   "metadata": {
    "ExecuteTime": {
     "end_time": "2023-07-09T17:38:37.460767Z",
     "start_time": "2023-07-09T17:38:37.447424Z"
    },
    "run_control": {
     "marked": false
    }
   },
   "outputs": [],
   "source": [
    "def coordinate_dcm(origin,p1,p2):\n",
    "    \n",
    "    if abs(check_collinear(origin,p1,p2)) < 1.0e-6:\n",
    "        \n",
    "        print(\"Points are collinear, Select largest line and create a kp\")\n",
    "        \n",
    "    else:\n",
    "        \n",
    "        v1= p1- origin                 #vector-1\n",
    "        v2= p2- origin                 #vector-2\n",
    "        v1_dc=dcv(v1[0],v1[1],v1[2])\n",
    "        v2_dc=dcv(v2[0],v2[1],v2[2])\n",
    "\n",
    "        v3=np.cross(v1_dc, v2_dc)      #vector-3, perp to 1,2\n",
    "        v3_dc=dcv(v3[0],v3[1],v3[2])  \n",
    "\n",
    "        v4=np.cross(v3_dc, v1_dc)      #vector-4(y) perp vector-3(z) perp to vector-1(x)\n",
    "        v4_dc=dcv(v4[0],v4[1],v4[2])\n",
    "\n",
    "        return v1_dc, v4_dc, v3_dc"
   ]
  },
  {
   "cell_type": "code",
   "execution_count": 283,
   "id": "8ed9a0ce",
   "metadata": {
    "ExecuteTime": {
     "end_time": "2023-07-09T17:38:38.667152Z",
     "start_time": "2023-07-09T17:38:38.649652Z"
    }
   },
   "outputs": [],
   "source": [
    "def dcm2angleZXY(R):\n",
    "    \n",
    "    Ry = np.arctan2(-R[0, 2], R[2, 2])\n",
    "    Rx = np.arcsin(R[1, 2])\n",
    "    Rz = np.arctan2(-R[1, 0], R[1, 1])\n",
    "    \n",
    "    return Rx, Ry ,Rz"
   ]
  },
  {
   "cell_type": "markdown",
   "id": "8fc4d34d",
   "metadata": {},
   "source": [
    "**Example**"
   ]
  },
  {
   "cell_type": "code",
   "execution_count": 293,
   "id": "43dc96e4",
   "metadata": {
    "ExecuteTime": {
     "end_time": "2023-07-09T17:40:57.569667Z",
     "start_time": "2023-07-09T17:40:57.558612Z"
    }
   },
   "outputs": [
    {
     "name": "stdout",
     "output_type": "stream",
     "text": [
      "[ 0.         -0.99968765  0.02499219]\n",
      "[-0.7905077   0.01530652  0.6122608 ]\n",
      "[-0.6124521  -0.01975652 -0.79026078]\n"
     ]
    }
   ],
   "source": [
    "origin=np.array([10,50,10])\n",
    "p1=np.array([10,10,11])\n",
    "p2=np.array([5,5,15])\n",
    "\n",
    "if check_collinear(origin,p1,p2)==0:\n",
    "    print(\"Points are collinear, Select largest line and create a kp\")\n",
    "    \n",
    "else:\n",
    "    xl,yl,zl=coordinate_dcm(origin,p1,p2)\n",
    "    print(xl)\n",
    "    print(yl)\n",
    "    print(zl)"
   ]
  },
  {
   "cell_type": "code",
   "execution_count": 294,
   "id": "c34ce5d5",
   "metadata": {
    "ExecuteTime": {
     "end_time": "2023-07-09T17:40:58.129944Z",
     "start_time": "2023-07-09T17:40:58.112416Z"
    }
   },
   "outputs": [
    {
     "data": {
      "text/plain": [
       "array([[ 0.        , -0.7905077 , -0.6124521 ],\n",
       "       [-0.99968765,  0.01530652, -0.01975652],\n",
       "       [ 0.02499219,  0.6122608 , -0.79026078]])"
      ]
     },
     "execution_count": 294,
     "metadata": {},
     "output_type": "execute_result"
    }
   ],
   "source": [
    "R = np.array([[xl[0], yl[0], zl[0]],\n",
    "              [xl[1], yl[1], zl[1]],\n",
    "              [xl[2], yl[2], zl[2]]])\n",
    "R"
   ]
  },
  {
   "cell_type": "code",
   "execution_count": 295,
   "id": "11131338",
   "metadata": {
    "ExecuteTime": {
     "end_time": "2023-07-09T17:40:58.643759Z",
     "start_time": "2023-07-09T17:40:58.632280Z"
    }
   },
   "outputs": [
    {
     "data": {
      "text/plain": [
       "array([[ 0.        , -0.7905077 , -0.6124521 ],\n",
       "       [-0.99968765,  0.01530652, -0.01975652],\n",
       "       [ 0.02499219,  0.6122608 , -0.79026078]])"
      ]
     },
     "execution_count": 295,
     "metadata": {},
     "output_type": "execute_result"
    }
   ],
   "source": [
    "R=np.column_stack((xl, yl, zl))\n",
    "R"
   ]
  },
  {
   "cell_type": "code",
   "execution_count": 296,
   "id": "a7a05b96",
   "metadata": {
    "ExecuteTime": {
     "end_time": "2023-07-09T17:40:59.772693Z",
     "start_time": "2023-07-09T17:40:59.760406Z"
    },
    "code_folding": [],
    "run_control": {
     "marked": false
    }
   },
   "outputs": [
    {
     "name": "stdout",
     "output_type": "stream",
     "text": [
      "(-0.01975780494578869, 2.4822825852569355, 1.555486220526841)\n"
     ]
    }
   ],
   "source": [
    "# R = np.array([[xl[0], yl[0], zl[0]],\n",
    "#               [xl[1], yl[1], zl[1]],\n",
    "#               [xl[2], yl[2], zl[2]]])\n",
    "\n",
    "R=np.column_stack((xl, yl, zl))\n",
    "\n",
    "angles = dcm2angleZXY(R)\n",
    "print(angles)"
   ]
  },
  {
   "cell_type": "markdown",
   "id": "9a319309",
   "metadata": {
    "run_control": {
     "marked": false
    }
   },
   "source": [
    "### Check 4th point in plane"
   ]
  },
  {
   "cell_type": "code",
   "execution_count": 297,
   "id": "d76c19d0",
   "metadata": {
    "ExecuteTime": {
     "end_time": "2023-07-09T17:41:24.548325Z",
     "start_time": "2023-07-09T17:41:24.528844Z"
    }
   },
   "outputs": [],
   "source": [
    "check_coplaner = lambda p1, p2, p3, p4: np.linalg.det(np.array([ [p1[0], p2[0], p3[0], p4[0]],\n",
    "                                                                  [p1[1], p2[1], p3[1], p4[1]],\n",
    "                                                                  [p1[2], p2[2], p3[2], p4[2]],\n",
    "                                                                  [1,     1,      1,     1  ] ]))\n",
    "\n"
   ]
  },
  {
   "cell_type": "markdown",
   "id": "9e4e636c",
   "metadata": {},
   "source": [
    "**Example**"
   ]
  },
  {
   "cell_type": "code",
   "execution_count": 179,
   "id": "d0de8632",
   "metadata": {
    "ExecuteTime": {
     "end_time": "2023-07-08T17:41:56.343446Z",
     "start_time": "2023-07-08T17:41:56.337358Z"
    }
   },
   "outputs": [
    {
     "name": "stdout",
     "output_type": "stream",
     "text": [
      "PLANE\n"
     ]
    }
   ],
   "source": [
    "p1= np.array([0, 0, 0])\n",
    "p2= np.array([1, 0, 0])\n",
    "p3= np.array([0, 1, 0])\n",
    "p4= np.array([0, 0, 0])\n",
    "\n",
    "\n",
    "if abs(check_coplaner(p1, p2, p3, p4)) < 1.0e-6:\n",
    "    print(\"PLANE\")\n",
    "else:\n",
    "    print(\"Not plane\")\n"
   ]
  },
  {
   "cell_type": "markdown",
   "id": "f1858e9d",
   "metadata": {},
   "source": [
    "### Find center of circle from three point "
   ]
  },
  {
   "cell_type": "markdown",
   "id": "3a575f60",
   "metadata": {},
   "source": [
    "https://stackoverflow.com/questions/20314306/find-arc-circle-equation-given-three-points-in-space-3d\n",
    "\n",
    "https://mathworld.wolfram.com/BarycentricCoordinates.html\n",
    "\n",
    "https://mathworld.wolfram.com/Circumcenter.html\n",
    "\n",
    "https://mathworld.wolfram.com/Circumcircle.html\n",
    "\n",
    "https://github.com/sergarrido/random/tree/master/circle3d\n",
    "\n",
    "https://new.math.uiuc.edu/public403/affine/bary.html"
   ]
  },
  {
   "cell_type": "code",
   "execution_count": 265,
   "id": "4535a4ed",
   "metadata": {
    "ExecuteTime": {
     "end_time": "2023-07-09T16:07:39.214159Z",
     "start_time": "2023-07-09T16:07:39.185638Z"
    }
   },
   "outputs": [],
   "source": [
    "def circle_center_radius(A, B, C):\n",
    "\n",
    "    if abs(check_collinear(A,B,C)) < 1.0e-6:      \n",
    "        raise ValueError(\"Points are collinear, no unique circle exists.\")\n",
    "    \n",
    "    a = np.linalg.norm(C - B)\n",
    "    b = np.linalg.norm(C - A)\n",
    "    c = np.linalg.norm(B - A)\n",
    "    \n",
    "    s = (a + b + c) / 2\n",
    "    rad = a*b*c / 4 / np.sqrt(s * (s - a) * (s - b) * (s - c))\n",
    "    \n",
    "     #Barycentric Coordinates of circumsnter\n",
    "    b1 = a*a * (b*b + c*c - a*a)\n",
    "    b2 = b*b * (a*a + c*c - b*b)\n",
    "    b3 = c*c * (a*a + b*b - c*c)     \n",
    "    \n",
    "     #Barycentric Coordinates to cartesian Coordinates \n",
    "    centr = def circle_center_radius(A, B, C):\n",
    "\n",
    "    if abs(check_collinear(A,B,C)) < 1.0e-6:      \n",
    "        raise ValueError(\"Points are collinear, no unique circle exists.\")\n",
    "    \n",
    "    a = np.linalg.norm(C - B)\n",
    "    b = np.linalg.norm(C - A)\n",
    "    c = np.linalg.norm(B - A)\n",
    "    \n",
    "    s = (a + b + c) / 2\n",
    "    rad = a*b*c / 4 / np.sqrt(s * (s - a) * (s - b) * (s - c))\n",
    "    \n",
    "     #Barycentric Coordinates of circumsnter\n",
    "    b1 = a*a * (b*b + c*c - a*a)\n",
    "    b2 = b*b * (a*a + c*c - b*b)\n",
    "    b3 = c*c * (a*a + b*b - c*c)     \n",
    "    \n",
    "     #Barycentric Coordinates to cartesian Coordinates \n",
    "    centr = np.column_stack((A, B, C)).dot(np.hstack((b1, b2, b3)))  \n",
    "    centr /= b1 + b2 + b3\n",
    "#     centr = centr/(b1 + b2 + b3)\n",
    "    \n",
    "    return centr,rad.dot(np.hstack((b1, b2, b3)))  \n",
    "    centr /= b1 + b2 + b3\n",
    "#     centr = centr/(b1 + b2 + b3)\n",
    "    \n",
    "    return centr,rad\n"
   ]
  },
  {
   "cell_type": "markdown",
   "id": "79a97224",
   "metadata": {},
   "source": [
    "**Example**"
   ]
  },
  {
   "cell_type": "code",
   "execution_count": 266,
   "id": "e43f2bd9",
   "metadata": {
    "ExecuteTime": {
     "end_time": "2023-07-09T16:07:40.132015Z",
     "start_time": "2023-07-09T16:07:40.123906Z"
    }
   },
   "outputs": [
    {
     "name": "stdout",
     "output_type": "stream",
     "text": [
      "[-2.22044605e-16 -2.22044605e-16  0.00000000e+00]\n",
      "1.4142135623730958\n"
     ]
    }
   ],
   "source": [
    "point1 = np.array([1, 1, 0])\n",
    "point2 = np.array([1, -1, 0])\n",
    "point3 = np.array([-1, 1, 0])\n",
    "\n",
    "Center,Radius=circle_center_radius(point1, point2, point3)\n",
    "print(Center)\n",
    "print(Radius)\n",
    "\n",
    "# point1.dot((2,2,2))"
   ]
  },
  {
   "cell_type": "code",
   "execution_count": 268,
   "id": "82a7b90b",
   "metadata": {
    "ExecuteTime": {
     "end_time": "2023-07-09T17:25:57.876076Z",
     "start_time": "2023-07-09T17:25:57.836987Z"
    }
   },
   "outputs": [
    {
     "ename": "ValueError",
     "evalue": "Points are collinear, no unique circle exists.",
     "output_type": "error",
     "traceback": [
      "\u001b[1;31m---------------------------------------------------------------------------\u001b[0m",
      "\u001b[1;31mValueError\u001b[0m                                Traceback (most recent call last)",
      "Cell \u001b[1;32mIn[268], line 7\u001b[0m\n\u001b[0;32m      4\u001b[0m point2 \u001b[38;5;241m=\u001b[39m np\u001b[38;5;241m.\u001b[39marray([\u001b[38;5;241m4\u001b[39m, \u001b[38;5;241m5\u001b[39m, \u001b[38;5;241m6\u001b[39m])\n\u001b[0;32m      5\u001b[0m point3 \u001b[38;5;241m=\u001b[39m np\u001b[38;5;241m.\u001b[39marray([\u001b[38;5;241m7\u001b[39m, \u001b[38;5;241m8\u001b[39m, \u001b[38;5;241m9\u001b[39m])\n\u001b[1;32m----> 7\u001b[0m Center,Radius\u001b[38;5;241m=\u001b[39m\u001b[43mcircle_center_radius\u001b[49m\u001b[43m(\u001b[49m\u001b[43mpoint1\u001b[49m\u001b[43m,\u001b[49m\u001b[43m \u001b[49m\u001b[43mpoint2\u001b[49m\u001b[43m,\u001b[49m\u001b[43m \u001b[49m\u001b[43mpoint3\u001b[49m\u001b[43m)\u001b[49m\n\u001b[0;32m      8\u001b[0m \u001b[38;5;28mprint\u001b[39m(Center)\n\u001b[0;32m      9\u001b[0m \u001b[38;5;28mprint\u001b[39m(Radius)\n",
      "Cell \u001b[1;32mIn[265], line 9\u001b[0m, in \u001b[0;36mcircle_center_radius\u001b[1;34m(A, B, C)\u001b[0m\n\u001b[0;32m      1\u001b[0m \u001b[38;5;28;01mdef\u001b[39;00m \u001b[38;5;21mcircle_center_radius\u001b[39m(A, B, C):\n\u001b[0;32m      2\u001b[0m \u001b[38;5;66;03m#     v1 = B - A\u001b[39;00m\n\u001b[0;32m      3\u001b[0m \u001b[38;5;66;03m#     v2 = C - A\u001b[39;00m\n\u001b[0;32m      4\u001b[0m \u001b[38;5;66;03m#     cp = np.cross(v1, v2)\u001b[39;00m\n\u001b[0;32m      5\u001b[0m \u001b[38;5;66;03m#     cp_norm = np.linalg.norm(cp)\u001b[39;00m\n\u001b[0;32m      7\u001b[0m     \u001b[38;5;28;01mif\u001b[39;00m \u001b[38;5;28mabs\u001b[39m(check_collinear(A,B,C)) \u001b[38;5;241m<\u001b[39m \u001b[38;5;241m1.0e-6\u001b[39m:\n\u001b[1;32m----> 9\u001b[0m         \u001b[38;5;28;01mraise\u001b[39;00m \u001b[38;5;167;01mValueError\u001b[39;00m(\u001b[38;5;124m\"\u001b[39m\u001b[38;5;124mPoints are collinear, no unique circle exists.\u001b[39m\u001b[38;5;124m\"\u001b[39m)\n\u001b[0;32m     11\u001b[0m     a \u001b[38;5;241m=\u001b[39m np\u001b[38;5;241m.\u001b[39mlinalg\u001b[38;5;241m.\u001b[39mnorm(C \u001b[38;5;241m-\u001b[39m B)\n\u001b[0;32m     12\u001b[0m     b \u001b[38;5;241m=\u001b[39m np\u001b[38;5;241m.\u001b[39mlinalg\u001b[38;5;241m.\u001b[39mnorm(C \u001b[38;5;241m-\u001b[39m A)\n",
      "\u001b[1;31mValueError\u001b[0m: Points are collinear, no unique circle exists."
     ]
    }
   ],
   "source": [
    "# Points are collinear\n",
    "\n",
    "point1 = np.array([1, 2, 3])\n",
    "point2 = np.array([4, 5, 6])\n",
    "point3 = np.array([7, 8, 9])\n",
    "\n",
    "Center,Radius=circle_center_radius(point1, point2, point3)\n",
    "print(Center)\n",
    "print(Radius)"
   ]
  },
  {
   "cell_type": "code",
   "execution_count": null,
   "id": "43ce298d",
   "metadata": {},
   "outputs": [],
   "source": []
  },
  {
   "cell_type": "code",
   "execution_count": null,
   "id": "7acc7261",
   "metadata": {},
   "outputs": [],
   "source": []
  },
  {
   "cell_type": "code",
   "execution_count": null,
   "id": "07f09f47",
   "metadata": {},
   "outputs": [],
   "source": []
  },
  {
   "cell_type": "code",
   "execution_count": null,
   "id": "f358bd15",
   "metadata": {},
   "outputs": [],
   "source": []
  },
  {
   "cell_type": "code",
   "execution_count": null,
   "id": "cb351dad",
   "metadata": {},
   "outputs": [],
   "source": []
  },
  {
   "cell_type": "code",
   "execution_count": null,
   "id": "c711b5f2",
   "metadata": {},
   "outputs": [],
   "source": []
  },
  {
   "cell_type": "code",
   "execution_count": null,
   "id": "d5c66b53",
   "metadata": {},
   "outputs": [],
   "source": []
  },
  {
   "cell_type": "code",
   "execution_count": null,
   "id": "af08e697",
   "metadata": {},
   "outputs": [],
   "source": []
  },
  {
   "cell_type": "code",
   "execution_count": null,
   "id": "b7c2d5cd",
   "metadata": {},
   "outputs": [],
   "source": []
  },
  {
   "cell_type": "code",
   "execution_count": null,
   "id": "92e54463",
   "metadata": {},
   "outputs": [],
   "source": []
  },
  {
   "cell_type": "code",
   "execution_count": null,
   "id": "ecb4e626",
   "metadata": {},
   "outputs": [],
   "source": []
  },
  {
   "cell_type": "code",
   "execution_count": null,
   "id": "7579e983",
   "metadata": {},
   "outputs": [],
   "source": []
  },
  {
   "cell_type": "code",
   "execution_count": null,
   "id": "5b5e8957",
   "metadata": {},
   "outputs": [],
   "source": []
  },
  {
   "cell_type": "code",
   "execution_count": null,
   "id": "10a43a74",
   "metadata": {},
   "outputs": [],
   "source": []
  },
  {
   "cell_type": "code",
   "execution_count": null,
   "id": "935fb332",
   "metadata": {},
   "outputs": [],
   "source": []
  },
  {
   "cell_type": "code",
   "execution_count": null,
   "id": "282dc228",
   "metadata": {},
   "outputs": [],
   "source": []
  }
 ],
 "metadata": {
  "kernelspec": {
   "display_name": "Python 3 (ipykernel)",
   "language": "python",
   "name": "python3"
  },
  "language_info": {
   "codemirror_mode": {
    "name": "ipython",
    "version": 3
   },
   "file_extension": ".py",
   "mimetype": "text/x-python",
   "name": "python",
   "nbconvert_exporter": "python",
   "pygments_lexer": "ipython3",
   "version": "3.8.1"
  },
  "toc": {
   "base_numbering": 1,
   "nav_menu": {},
   "number_sections": true,
   "sideBar": true,
   "skip_h1_title": false,
   "title_cell": "Table of Contents",
   "title_sidebar": "Contents",
   "toc_cell": false,
   "toc_position": {
    "height": "calc(100% - 180px)",
    "left": "10px",
    "top": "150px",
    "width": "374.391px"
   },
   "toc_section_display": true,
   "toc_window_display": true
  },
  "varInspector": {
   "cols": {
    "lenName": 16,
    "lenType": 16,
    "lenVar": 40
   },
   "kernels_config": {
    "python": {
     "delete_cmd_postfix": "",
     "delete_cmd_prefix": "del ",
     "library": "var_list.py",
     "varRefreshCmd": "print(var_dic_list())"
    },
    "r": {
     "delete_cmd_postfix": ") ",
     "delete_cmd_prefix": "rm(",
     "library": "var_list.r",
     "varRefreshCmd": "cat(var_dic_list()) "
    }
   },
   "types_to_exclude": [
    "module",
    "function",
    "builtin_function_or_method",
    "instance",
    "_Feature"
   ],
   "window_display": false
  }
 },
 "nbformat": 4,
 "nbformat_minor": 5
}
