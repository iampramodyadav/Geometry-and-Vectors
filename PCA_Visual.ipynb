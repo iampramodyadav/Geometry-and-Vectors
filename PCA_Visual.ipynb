{
 "cells": [
  {
   "cell_type": "markdown",
   "id": "f557b9fb-5bd0-4b13-9246-ba7a11e5e06d",
   "metadata": {},
   "source": [
    "# PCA Visual"
   ]
  },
  {
   "cell_type": "code",
   "execution_count": 45,
   "id": "aa13549d-0773-4aad-8a35-7d7c976ea19d",
   "metadata": {
    "execution": {
     "iopub.execute_input": "2024-12-20T21:41:55.397569Z",
     "iopub.status.busy": "2024-12-20T21:41:55.397569Z",
     "iopub.status.idle": "2024-12-20T21:41:55.402568Z",
     "shell.execute_reply": "2024-12-20T21:41:55.401568Z",
     "shell.execute_reply.started": "2024-12-20T21:41:55.397569Z"
    }
   },
   "outputs": [],
   "source": [
    "import sys\n",
    "import os\n",
    "from pathlib import Path\n",
    "import pandas as pd\n",
    "import numpy as np\n",
    "import matplotlib.pyplot as plt\n",
    "import plotly.graph_objs as go"
   ]
  },
  {
   "cell_type": "code",
   "execution_count": 46,
   "id": "4944f0ab-969a-4ce6-9cc9-8975eab3d424",
   "metadata": {
    "execution": {
     "iopub.execute_input": "2024-12-20T21:41:55.789592Z",
     "iopub.status.busy": "2024-12-20T21:41:55.788593Z",
     "iopub.status.idle": "2024-12-20T21:41:55.793669Z",
     "shell.execute_reply": "2024-12-20T21:41:55.793669Z",
     "shell.execute_reply.started": "2024-12-20T21:41:55.789592Z"
    }
   },
   "outputs": [],
   "source": [
    "\n",
    "\n",
    "# Add paths to system path\n",
    "sys.path.extend(str(path) for path in TOOL_PATHS.values())\n",
    "\n",
    "# import write_lc as lc\n",
    "# import bea_validation as bea\n",
    "# import azi_lc_name_lm as write_lcname\n",
    "# import coordinate_mapper as cm\n",
    "# import meta_visual as mv\n",
    "import plot_3d as pl"
   ]
  },
  {
   "cell_type": "code",
   "execution_count": null,
   "id": "41ec1672-da15-499e-8827-8777f40dace4",
   "metadata": {},
   "outputs": [],
   "source": []
  },
  {
   "cell_type": "code",
   "execution_count": 47,
   "id": "44ad2989-4f32-4672-b039-0548a8990d24",
   "metadata": {
    "execution": {
     "iopub.execute_input": "2024-12-20T21:42:13.413825Z",
     "iopub.status.busy": "2024-12-20T21:42:13.413825Z",
     "iopub.status.idle": "2024-12-20T21:42:13.419062Z",
     "shell.execute_reply": "2024-12-20T21:42:13.419062Z",
     "shell.execute_reply.started": "2024-12-20T21:42:13.413825Z"
    }
   },
   "outputs": [],
   "source": [
    "def fit_plane_pca(points):\n",
    "    \"\"\"\n",
    "    Fits a plane to a set of 3D points using PCA\n",
    "\n",
    "    Args:\n",
    "        points (numpy.ndarray): An array of shape (n, 3) representing the 3D points.\n",
    "\n",
    "    Returns:\n",
    "        tuple: A tuple containing the normal vector (numpy.ndarray) and distance from origin (float) of the fitted plane.\n",
    "\n",
    "    Source: https://stats.stackexchange.com/questions/163356/fitting-a-plane-to-a-set-of-points-in-3d-using-pca\n",
    "  \"\"\"\n",
    "    # Center the data\n",
    "    centroid_data = np.mean(points, axis=0)\n",
    "    centered_points = points - centroid_data\n",
    "    # print(centroid_data)\n",
    "    # print(centered_points)\n",
    "    # Covariance matrix\n",
    "    cov_matrix = np.cov(centered_points.T)\n",
    "    # print(cov_matrix)\n",
    "    # Solve for eigenvalues and eigenvectors\n",
    "    eigenvalues, eigenvectors = np.linalg.eig(cov_matrix)\n",
    "    # print(eigenvalues)\n",
    "    # print(eigenvectors)\n",
    "    # Normal vector is the eigenvector corresponding to the smallest eigenvalue\n",
    "    normal_vector = eigenvectors[:, np.argmin(eigenvalues)]\n",
    "\n",
    "    # Distance from origin (assuming the first coordinate is x)\n",
    "    # distance_from_origin = np.abs(np.dot(points[0], normal_vector)) / np.linalg.norm(normal_vector)\n",
    "    d = -np.dot(centroid_data, normal_vector)/np.linalg.norm(normal_vector)\n",
    "    return normal_vector, d, centroid_data, eigenvalues, eigenvectors"
   ]
  },
  {
   "cell_type": "code",
   "execution_count": 7,
   "id": "27a52f0a-d15a-44fc-8de6-8a451897af6a",
   "metadata": {
    "execution": {
     "iopub.execute_input": "2024-12-20T21:18:44.456684Z",
     "iopub.status.busy": "2024-12-20T21:18:44.456684Z",
     "iopub.status.idle": "2024-12-20T21:18:44.466684Z",
     "shell.execute_reply": "2024-12-20T21:18:44.465684Z",
     "shell.execute_reply.started": "2024-12-20T21:18:44.456684Z"
    }
   },
   "outputs": [
    {
     "name": "stdout",
     "output_type": "stream",
     "text": [
      "Original Normal Vector: [1, 2, -1]\n",
      "Fitted Normal Vector: [ 0.41410333  0.81687728 -0.40153448]\n",
      "Centroid of the Plane: [-0.03601829 -0.03124174 -0.10719179]\n"
     ]
    }
   ],
   "source": [
    "import numpy as np\n",
    "from sklearn.decomposition import PCA\n",
    "\n",
    "def generate_points_on_plane(normal, point_on_plane, num_points=100, noise=0.0):\n",
    "    \"\"\"\n",
    "    Generate random points on a plane defined by a normal vector and a point on the plane.\n",
    "\n",
    "    Parameters:\n",
    "        normal (array-like): A 3D vector normal to the plane.\n",
    "        point_on_plane (array-like): A point on the plane (x, y, z).\n",
    "        num_points (int): Number of points to generate.\n",
    "        noise (float): Magnitude of random noise to add to the points.\n",
    "\n",
    "    Returns:\n",
    "        np.ndarray: Array of shape (num_points, 3) with points on the plane.\n",
    "    \"\"\"\n",
    "    normal = np.array(normal)\n",
    "    point_on_plane = np.array(point_on_plane)\n",
    "    normal = normal / np.linalg.norm(normal)  # Normalize the normal vector\n",
    "\n",
    "    # Create two orthogonal vectors in the plane\n",
    "    v1 = np.random.randn(3)\n",
    "    v1 -= v1.dot(normal) * normal  # Make it orthogonal to the normal\n",
    "    v1 /= np.linalg.norm(v1)\n",
    "\n",
    "    v2 = np.cross(normal, v1)  # Second orthogonal vector\n",
    "\n",
    "    # Generate random points in the plane\n",
    "    coefficients = np.random.rand(num_points, 2) - 0.5  # Random values for linear combinations\n",
    "    points = point_on_plane + coefficients[:, 0, None] * v1 + coefficients[:, 1, None] * v2\n",
    "\n",
    "    # Add noise\n",
    "    points += np.random.normal(scale=noise, size=points.shape)\n",
    "\n",
    "    return points\n",
    "\n",
    "def fit_plane(points):\n",
    "    \"\"\"\n",
    "    Fit a plane to a set of 3D points using PCA and return the plane's normal vector.\n",
    "\n",
    "    Parameters:\n",
    "        points (np.ndarray): Array of shape (n, 3) representing the 3D points.\n",
    "\n",
    "    Returns:\n",
    "        tuple: A tuple containing:\n",
    "            - normal (np.ndarray): Normal vector to the best-fit plane.\n",
    "            - point_on_plane (np.ndarray): Centroid of the points, lying on the plane.\n",
    "    \"\"\"\n",
    "    centroid = np.mean(points, axis=0)\n",
    "    pca = PCA(n_components=3)\n",
    "    pca.fit(points - centroid)\n",
    "    normal = pca.components_[-1]  # Normal vector is the last principal component\n",
    "    return normal, centroid\n",
    "\n",
    "# Example Usage\n",
    "if __name__ == \"__main__\":\n",
    "    # Define a plane\n",
    "    normal = [1, 2, -1]\n",
    "    point_on_plane = [0, 0, 0]\n",
    "\n",
    "    # Generate points on the plane\n",
    "    points = generate_points_on_plane(normal, point_on_plane, num_points=5, noise=0.01)\n",
    "\n",
    "    # Fit a plane to the points\n",
    "    fitted_normal, centroid = fit_plane(points)\n",
    "\n",
    "    # Results\n",
    "    print(\"Original Normal Vector:\", normal)\n",
    "    print(\"Fitted Normal Vector:\", fitted_normal)\n",
    "    print(\"Centroid of the Plane:\", centroid)\n"
   ]
  },
  {
   "cell_type": "code",
   "execution_count": 68,
   "id": "543941b7-4a9c-4f5d-baa6-f37f628a978d",
   "metadata": {
    "execution": {
     "iopub.execute_input": "2024-12-20T21:45:35.047047Z",
     "iopub.status.busy": "2024-12-20T21:45:35.047047Z",
     "iopub.status.idle": "2024-12-20T21:45:35.054094Z",
     "shell.execute_reply": "2024-12-20T21:45:35.054094Z",
     "shell.execute_reply.started": "2024-12-20T21:45:35.047047Z"
    }
   },
   "outputs": [
    {
     "name": "stdout",
     "output_type": "stream",
     "text": [
      "!normal:[0.1050449  0.64470906 0.7571762 ]\n",
      "!Distance: -6.0502080442126625\n",
      "!Centro: [1.00184609 1.01341456 6.98861335]\n"
     ]
    }
   ],
   "source": [
    "normal = [1, 6, 7]\n",
    "point_on_plane = [1, 1, 7]\n",
    "points = generate_points_on_plane(normal, point_on_plane, num_points=101, noise=0.01)\n",
    "\n",
    "normal_vector, d, centr, eigenvalues, eigenvectors = fit_plane_pca(points)\n",
    "print(f\"!normal:{normal_vector}\")\n",
    "print(f\"!Distance: {d}\")\n",
    "print(f\"!Centro: {centr}\")"
   ]
  },
  {
   "cell_type": "code",
   "execution_count": 69,
   "id": "fd558b04-8807-4ab7-a659-21885bbfd50e",
   "metadata": {
    "execution": {
     "iopub.execute_input": "2024-12-20T21:45:35.336892Z",
     "iopub.status.busy": "2024-12-20T21:45:35.335891Z",
     "iopub.status.idle": "2024-12-20T21:45:35.340547Z",
     "shell.execute_reply": "2024-12-20T21:45:35.340547Z",
     "shell.execute_reply.started": "2024-12-20T21:45:35.336892Z"
    }
   },
   "outputs": [
    {
     "name": "stdout",
     "output_type": "stream",
     "text": [
      "[1.03589973e-01 5.60235856e-02 8.29860812e-05], \n",
      "\n",
      "[[ 0.66458771  0.73978966  0.1050449 ]\n",
      " [ 0.52089071 -0.55948466  0.64470906]\n",
      " [-0.53572011  0.37374881  0.7571762 ]]\n"
     ]
    }
   ],
   "source": [
    "eigenvalues, eigenvectors = eigen_plane_pca(points)\n",
    "print(f\"{eigenvalues}, \\n\\n{eigenvectors}\")"
   ]
  },
  {
   "cell_type": "code",
   "execution_count": 70,
   "id": "9e004647-d6d7-492d-81dc-bc95f1ba89a0",
   "metadata": {
    "execution": {
     "iopub.execute_input": "2024-12-20T21:45:35.596285Z",
     "iopub.status.busy": "2024-12-20T21:45:35.596285Z",
     "iopub.status.idle": "2024-12-20T21:45:35.599823Z",
     "shell.execute_reply": "2024-12-20T21:45:35.599082Z",
     "shell.execute_reply.started": "2024-12-20T21:45:35.596285Z"
    }
   },
   "outputs": [],
   "source": [
    "vec1 = eigenvectors[:, 0]\n",
    "vec2 = eigenvectors[:, 1]\n",
    "vec3 = eigenvectors[:, 2]"
   ]
  },
  {
   "cell_type": "code",
   "execution_count": 71,
   "id": "4775d354-af4a-4fd0-b587-858960b7e6ee",
   "metadata": {
    "execution": {
     "iopub.execute_input": "2024-12-20T21:45:35.866127Z",
     "iopub.status.busy": "2024-12-20T21:45:35.865119Z",
     "iopub.status.idle": "2024-12-20T21:45:35.878993Z",
     "shell.execute_reply": "2024-12-20T21:45:35.878001Z",
     "shell.execute_reply.started": "2024-12-20T21:45:35.866127Z"
    }
   },
   "outputs": [],
   "source": [
    "fig1 = pl.plot_3d_point(points)\n",
    "# fig1.show()"
   ]
  },
  {
   "cell_type": "code",
   "execution_count": 72,
   "id": "7969258b-61e8-4d1d-abf0-58fe2d41a0fd",
   "metadata": {
    "execution": {
     "iopub.execute_input": "2024-12-20T21:45:36.174480Z",
     "iopub.status.busy": "2024-12-20T21:45:36.174480Z",
     "iopub.status.idle": "2024-12-20T21:45:36.195026Z",
     "shell.execute_reply": "2024-12-20T21:45:36.195026Z",
     "shell.execute_reply.started": "2024-12-20T21:45:36.174480Z"
    }
   },
   "outputs": [],
   "source": [
    "# list1=[centr,normal_vector+centr]\n",
    "list1=[centr, vec1+centr]\n",
    "list2=[centr, vec2+centr]   \n",
    "list3=[centr, vec3+centr] \n",
    "# list4=[[0,0,0],[1,1,1]]\n",
    "fig2=pl.plot_lines_from_points(list1,list2,list3)\n",
    "# fig2.show()"
   ]
  },
  {
   "cell_type": "code",
   "execution_count": 75,
   "id": "62643e98-85cf-4f6a-9f71-95adb45158e0",
   "metadata": {
    "execution": {
     "iopub.execute_input": "2024-12-20T21:52:28.982907Z",
     "iopub.status.busy": "2024-12-20T21:52:28.982907Z",
     "iopub.status.idle": "2024-12-20T21:52:28.996978Z",
     "shell.execute_reply": "2024-12-20T21:52:28.996978Z",
     "shell.execute_reply.started": "2024-12-20T21:52:28.982907Z"
    }
   },
   "outputs": [
    {
     "data": {
      "application/vnd.plotly.v1+json": {
       "config": {
        "plotlyServerURL": "https://plot.ly"
       },
       "data": [
        {
         "marker": {
          "color": [
           6.717842620527569,
           7.206303404166142,
           7.195646226991868,
           7.32787220336343,
           6.896509985456884,
           6.8245760644625015,
           7.0368339868375,
           7.17744654632512,
           7.064382668458762,
           7.120914500049395,
           7.064436807945212,
           6.936069553820694,
           6.735098637070932,
           6.831089449044972,
           6.950820359996137,
           6.977968139521593,
           6.724783572416799,
           7.331517128844525,
           6.842875423862109,
           6.757688752049438,
           6.863372753042408,
           7.243679593311005,
           7.312022299601064,
           7.165517047361662,
           6.984862527721838,
           7.1158329804736855,
           7.037713244647089,
           6.8265000147732735,
           6.716954372813768,
           6.898512231245834,
           6.81777223062645,
           7.1591303799299295,
           6.821570677570537,
           7.032550799439912,
           7.320696357965041,
           6.938348546887328,
           7.271322075242938,
           7.314190582670978,
           6.977257685503292,
           6.928006963026484,
           6.8376508180877,
           6.812186854080948,
           6.97276794777067,
           7.058147487733792,
           7.06552234083135,
           7.014374293101792,
           6.896877342199708,
           6.891191262380207,
           6.698995826747406,
           6.990078228989179,
           6.982421083841452,
           6.8591368472581955,
           7.117736284742905,
           6.928580423452284,
           7.25487382015694,
           6.765085995353911,
           7.322134306823176,
           6.709229010937814,
           6.6590344785922575,
           6.742952526294129,
           7.244734638599435,
           6.792766106209181,
           6.749780634229872,
           6.916085392971157,
           6.7219560684735145,
           7.162447857844135,
           6.901604074982856,
           7.058306840991781,
           7.215016902048876,
           7.314422195487931,
           6.970222099775259,
           7.230653215708818,
           6.799900345376876,
           6.837549997225559,
           7.2173409101339425,
           6.955595312755226,
           7.260628596497259,
           6.907920873273538,
           6.790957316521931,
           7.03975635622467,
           7.215914203603354,
           7.224865926756108,
           6.698465107238831,
           7.222981802504538,
           7.214108278295179,
           7.070371928378757,
           6.739643024838014,
           7.220568754562972,
           6.754382009837809,
           7.116874872705973,
           6.755543404748663,
           6.846344258891519,
           7.084987887903091,
           6.754152808862835,
           7.1781731911304885,
           6.7100075268662716,
           6.811763108626631,
           7.04853613456923,
           7.181736658952475,
           7.098560468118619,
           6.76885467043774
          ],
          "colorscale": [
           [
            0,
            "#0508b8"
           ],
           [
            0.08333333333333333,
            "#1910d8"
           ],
           [
            0.16666666666666666,
            "#3c19f0"
           ],
           [
            0.25,
            "#6b1cfb"
           ],
           [
            0.3333333333333333,
            "#981cfd"
           ],
           [
            0.4166666666666667,
            "#bf1cfd"
           ],
           [
            0.5,
            "#dd2bfd"
           ],
           [
            0.5833333333333334,
            "#f246fe"
           ],
           [
            0.6666666666666666,
            "#fc67fd"
           ],
           [
            0.75,
            "#fe88fc"
           ],
           [
            0.8333333333333334,
            "#fea5fd"
           ],
           [
            0.9166666666666666,
            "#febefe"
           ],
           [
            1,
            "#fec3fe"
           ]
          ],
          "opacity": 0.9,
          "size": 10
         },
         "mode": "markers",
         "type": "scatter3d",
         "x": [
          1.2403250268728838,
          0.45090917238336203,
          0.9352684604940046,
          0.8936915513010169,
          1.013904681153694,
          1.3006763827903711,
          1.4944127864044785,
          0.8222281781895641,
          0.9512060905501043,
          0.6210218179053043,
          0.7344995662655444,
          1.2296948441031437,
          0.7130844999623965,
          1.2975220944492345,
          1.0990998879709022,
          1.3025194947357737,
          1.5803010587622135,
          0.9308441792695316,
          1.023041456039997,
          1.278176186955491,
          1.4522341786165194,
          0.4686232684135451,
          0.9354997182937553,
          0.8118880762884398,
          1.2634221112755686,
          1.4516150769878768,
          1.1050900515661273,
          0.7882386445574211,
          0.9534578261868167,
          1.4488308220648436,
          0.841342718033173,
          0.44456345424327426,
          0.745970231642016,
          1.1865809502821874,
          0.84028032147716,
          0.5888666584910109,
          0.4845915844003509,
          0.661612156310275,
          0.9193983285352033,
          0.8904354929595145,
          0.8974761205931274,
          0.9077547929402406,
          0.9183322848608059,
          0.6892246678165735,
          0.9933949213781367,
          0.8712946159739213,
          0.7712145025569561,
          1.0218401586710308,
          1.5610569802092793,
          1.1943920211750603,
          0.9392263848632565,
          1.4125681901500333,
          0.8563143469548334,
          0.7320266707997083,
          1.1207042935937197,
          0.928498825379682,
          1.036976164613394,
          1.3739761771969126,
          0.7646720931647474,
          0.8076089549842999,
          1.0970606930123243,
          0.7069601288331806,
          1.0619916317160887,
          1.4064586698044932,
          1.1955203611900251,
          0.6714807053717267,
          1.4361504223658546,
          0.9906104933754826,
          1.0534435547012446,
          0.780462363444294,
          0.88646567484418,
          0.6981719253951651,
          1.30324710117485,
          0.915678375945318,
          1.2199974257155184,
          1.0777397485878695,
          0.7290654151624809,
          0.9131785143944506,
          1.5046881176025881,
          1.2171618082441706,
          0.7937302541818998,
          1.010636779648994,
          0.7717823156816033,
          0.912664035374494,
          1.046472538994376,
          0.7147776509026179,
          1.363417671448577,
          0.5310606805152709,
          1.044209112939236,
          0.9645324507623888,
          1.4131204058417235,
          0.7127250979498287,
          1.3916716340586213,
          1.1460574970096806,
          0.5327369495363777,
          1.1703850988915065,
          1.4199867218583098,
          1.1054092152989432,
          0.9462406357466366,
          1.0358819115373046,
          1.299901312649067
         ],
         "y": [
          1.3081162657109482,
          0.84378430727887,
          0.7945608358225943,
          0.6484097851789392,
          1.1089917400791685,
          1.1531077689076823,
          0.8770941767709826,
          0.8289788510882361,
          0.9427409575281441,
          0.9314044188439802,
          0.9711781553445892,
          1.055109644731048,
          1.3832282643693958,
          1.1392111122233317,
          1.0256223003558333,
          0.992663250151766,
          1.2365928647516493,
          0.6410286640983757,
          1.161504566710287,
          1.2470661337204683,
          1.0937054088700402,
          0.8027763228036345,
          0.6199720102714363,
          0.8497610812108788,
          0.9761573904177172,
          0.8005564234417801,
          0.9346008231076328,
          1.255885679730497,
          1.3311515062390185,
          1.073296742468043,
          1.2553941184042172,
          0.9028123829196996,
          1.272351275090559,
          0.8996186036429479,
          0.6660361289049512,
          1.1562552083456388,
          0.7601881003745321,
          0.6882548301296548,
          1.043086387444038,
          1.1249499538406216,
          1.220190836829604,
          1.22173696625777,
          1.0185583690181697,
          1.0014116298954612,
          0.931392003671091,
          1.0058310156774544,
          1.144548230968476,
          1.1417119538124567,
          1.2629796383362286,
          0.9902583768362206,
          1.0486105646282127,
          1.0959569850428903,
          0.8602828012914499,
          1.1222035501433956,
          0.6939607902428344,
          1.2817873748590156,
          0.6258259802732654,
          1.282984503669911,
          1.424040978186448,
          1.3292322318413234,
          0.7089599550522259,
          1.28782481248693,
          1.287791825430489,
          1.0355134532386594,
          1.2797424030657145,
          0.8569079597788245,
          1.0539929028714925,
          0.9281115832513671,
          0.7027772877181397,
          0.6766765207782403,
          1.0514583952118002,
          0.7695155940840812,
          1.1772865228013834,
          1.1935298589321348,
          0.721276184265236,
          1.040937474742111,
          0.7220863246233336,
          1.1278615859780379,
          1.1422512892865924,
          0.9328138174581815,
          0.7691326035140807,
          0.7292121481695486,
          1.3663792913395199,
          0.732700590508498,
          0.7408094953769075,
          0.9663927383689559,
          1.2306704344849968,
          0.8044490053869257,
          1.305475244805379,
          0.8321469250995157,
          1.222160768625031,
          1.2261940487791423,
          0.8351605689422197,
          1.2449495562646862,
          0.8806140303378913,
          1.3230866216268757,
          1.148346671733623,
          0.9289097413193845,
          0.7894054036527056,
          0.8745694486481784,
          1.2060803994428784
         ],
         "z": [
          6.717842620527569,
          7.206303404166142,
          7.195646226991868,
          7.32787220336343,
          6.896509985456884,
          6.8245760644625015,
          7.0368339868375,
          7.17744654632512,
          7.064382668458762,
          7.120914500049395,
          7.064436807945212,
          6.936069553820694,
          6.735098637070932,
          6.831089449044972,
          6.950820359996137,
          6.977968139521593,
          6.724783572416799,
          7.331517128844525,
          6.842875423862109,
          6.757688752049438,
          6.863372753042408,
          7.243679593311005,
          7.312022299601064,
          7.165517047361662,
          6.984862527721838,
          7.1158329804736855,
          7.037713244647089,
          6.8265000147732735,
          6.716954372813768,
          6.898512231245834,
          6.81777223062645,
          7.1591303799299295,
          6.821570677570537,
          7.032550799439912,
          7.320696357965041,
          6.938348546887328,
          7.271322075242938,
          7.314190582670978,
          6.977257685503292,
          6.928006963026484,
          6.8376508180877,
          6.812186854080948,
          6.97276794777067,
          7.058147487733792,
          7.06552234083135,
          7.014374293101792,
          6.896877342199708,
          6.891191262380207,
          6.698995826747406,
          6.990078228989179,
          6.982421083841452,
          6.8591368472581955,
          7.117736284742905,
          6.928580423452284,
          7.25487382015694,
          6.765085995353911,
          7.322134306823176,
          6.709229010937814,
          6.6590344785922575,
          6.742952526294129,
          7.244734638599435,
          6.792766106209181,
          6.749780634229872,
          6.916085392971157,
          6.7219560684735145,
          7.162447857844135,
          6.901604074982856,
          7.058306840991781,
          7.215016902048876,
          7.314422195487931,
          6.970222099775259,
          7.230653215708818,
          6.799900345376876,
          6.837549997225559,
          7.2173409101339425,
          6.955595312755226,
          7.260628596497259,
          6.907920873273538,
          6.790957316521931,
          7.03975635622467,
          7.215914203603354,
          7.224865926756108,
          6.698465107238831,
          7.222981802504538,
          7.214108278295179,
          7.070371928378757,
          6.739643024838014,
          7.220568754562972,
          6.754382009837809,
          7.116874872705973,
          6.755543404748663,
          6.846344258891519,
          7.084987887903091,
          6.754152808862835,
          7.1781731911304885,
          6.7100075268662716,
          6.811763108626631,
          7.04853613456923,
          7.181736658952475,
          7.098560468118619,
          6.76885467043774
         ]
        },
        {
         "line": {
          "color": "darkblue",
          "width": 2
         },
         "marker": {
          "opacity": 0.5,
          "size": 5
         },
         "type": "scatter3d",
         "x": [
          1.0018460926412727,
          1.6664338075563654
         ],
         "y": [
          1.0134145614879944,
          1.5343052760007816
         ],
         "z": [
          6.988613349877255,
          6.45289324318133
         ]
        },
        {
         "anchor": "tip",
         "showscale": false,
         "sizemode": "scaled",
         "sizeref": 0.1,
         "type": "cone",
         "u": [
          0.6645877149150927
         ],
         "v": [
          0.5208907145127872
         ],
         "w": [
          -0.5357201066959254
         ],
         "x": [
          1.6664338075563654
         ],
         "y": [
          1.5343052760007816
         ],
         "z": [
          6.45289324318133
         ]
        },
        {
         "line": {
          "color": "darkblue",
          "width": 2
         },
         "marker": {
          "opacity": 0.5,
          "size": 5
         },
         "type": "scatter3d",
         "x": [
          1.0018460926412727,
          1.7416357513088796
         ],
         "y": [
          1.0134145614879944,
          0.453929900840391
         ],
         "z": [
          6.988613349877255,
          7.3623621631576475
         ]
        },
        {
         "anchor": "tip",
         "showscale": false,
         "sizemode": "scaled",
         "sizeref": 0.1,
         "type": "cone",
         "u": [
          0.739789658667607
         ],
         "v": [
          -0.5594846606476035
         ],
         "w": [
          0.3737488132803924
         ],
         "x": [
          1.7416357513088796
         ],
         "y": [
          0.453929900840391
         ],
         "z": [
          7.3623621631576475
         ]
        },
        {
         "line": {
          "color": "darkblue",
          "width": 2
         },
         "marker": {
          "opacity": 0.5,
          "size": 5
         },
         "type": "scatter3d",
         "x": [
          1.0018460926412727,
          1.1068909883402107
         ],
         "y": [
          1.0134145614879944,
          1.6581236261321903
         ],
         "z": [
          6.988613349877255,
          7.745789545919632
         ]
        },
        {
         "anchor": "tip",
         "showscale": false,
         "sizemode": "scaled",
         "sizeref": 0.1,
         "type": "cone",
         "u": [
          0.10504489569893809
         ],
         "v": [
          0.6447090646441962
         ],
         "w": [
          0.7571761960423775
         ],
         "x": [
          1.1068909883402107
         ],
         "y": [
          1.6581236261321903
         ],
         "z": [
          7.745789545919632
         ]
        }
       ],
       "layout": {
        "height": 400,
        "margin": {
         "b": 0,
         "l": 0,
         "r": 0,
         "t": 30
        },
        "scene": {
         "aspectmode": "auto",
         "aspectratio": {
          "x": 1.0261781693841814,
          "y": 0.9526973287452415,
          "z": 1.0228743333344523
         },
         "camera": {
          "center": {
           "x": 0,
           "y": 0,
           "z": 0
          },
          "eye": {
           "x": 1.9898366033736632,
           "y": 0.8462325196731165,
           "z": 0.10927403407055615
          },
          "projection": {
           "type": "perspective"
          },
          "up": {
           "x": 0,
           "y": 0,
           "z": 1
          }
         }
        },
        "template": {
         "data": {
          "bar": [
           {
            "error_x": {
             "color": "#2a3f5f"
            },
            "error_y": {
             "color": "#2a3f5f"
            },
            "marker": {
             "line": {
              "color": "#E5ECF6",
              "width": 0.5
             },
             "pattern": {
              "fillmode": "overlay",
              "size": 10,
              "solidity": 0.2
             }
            },
            "type": "bar"
           }
          ],
          "barpolar": [
           {
            "marker": {
             "line": {
              "color": "#E5ECF6",
              "width": 0.5
             },
             "pattern": {
              "fillmode": "overlay",
              "size": 10,
              "solidity": 0.2
             }
            },
            "type": "barpolar"
           }
          ],
          "carpet": [
           {
            "aaxis": {
             "endlinecolor": "#2a3f5f",
             "gridcolor": "white",
             "linecolor": "white",
             "minorgridcolor": "white",
             "startlinecolor": "#2a3f5f"
            },
            "baxis": {
             "endlinecolor": "#2a3f5f",
             "gridcolor": "white",
             "linecolor": "white",
             "minorgridcolor": "white",
             "startlinecolor": "#2a3f5f"
            },
            "type": "carpet"
           }
          ],
          "choropleth": [
           {
            "colorbar": {
             "outlinewidth": 0,
             "ticks": ""
            },
            "type": "choropleth"
           }
          ],
          "contour": [
           {
            "colorbar": {
             "outlinewidth": 0,
             "ticks": ""
            },
            "colorscale": [
             [
              0,
              "#0d0887"
             ],
             [
              0.1111111111111111,
              "#46039f"
             ],
             [
              0.2222222222222222,
              "#7201a8"
             ],
             [
              0.3333333333333333,
              "#9c179e"
             ],
             [
              0.4444444444444444,
              "#bd3786"
             ],
             [
              0.5555555555555556,
              "#d8576b"
             ],
             [
              0.6666666666666666,
              "#ed7953"
             ],
             [
              0.7777777777777778,
              "#fb9f3a"
             ],
             [
              0.8888888888888888,
              "#fdca26"
             ],
             [
              1,
              "#f0f921"
             ]
            ],
            "type": "contour"
           }
          ],
          "contourcarpet": [
           {
            "colorbar": {
             "outlinewidth": 0,
             "ticks": ""
            },
            "type": "contourcarpet"
           }
          ],
          "heatmap": [
           {
            "colorbar": {
             "outlinewidth": 0,
             "ticks": ""
            },
            "colorscale": [
             [
              0,
              "#0d0887"
             ],
             [
              0.1111111111111111,
              "#46039f"
             ],
             [
              0.2222222222222222,
              "#7201a8"
             ],
             [
              0.3333333333333333,
              "#9c179e"
             ],
             [
              0.4444444444444444,
              "#bd3786"
             ],
             [
              0.5555555555555556,
              "#d8576b"
             ],
             [
              0.6666666666666666,
              "#ed7953"
             ],
             [
              0.7777777777777778,
              "#fb9f3a"
             ],
             [
              0.8888888888888888,
              "#fdca26"
             ],
             [
              1,
              "#f0f921"
             ]
            ],
            "type": "heatmap"
           }
          ],
          "heatmapgl": [
           {
            "colorbar": {
             "outlinewidth": 0,
             "ticks": ""
            },
            "colorscale": [
             [
              0,
              "#0d0887"
             ],
             [
              0.1111111111111111,
              "#46039f"
             ],
             [
              0.2222222222222222,
              "#7201a8"
             ],
             [
              0.3333333333333333,
              "#9c179e"
             ],
             [
              0.4444444444444444,
              "#bd3786"
             ],
             [
              0.5555555555555556,
              "#d8576b"
             ],
             [
              0.6666666666666666,
              "#ed7953"
             ],
             [
              0.7777777777777778,
              "#fb9f3a"
             ],
             [
              0.8888888888888888,
              "#fdca26"
             ],
             [
              1,
              "#f0f921"
             ]
            ],
            "type": "heatmapgl"
           }
          ],
          "histogram": [
           {
            "marker": {
             "pattern": {
              "fillmode": "overlay",
              "size": 10,
              "solidity": 0.2
             }
            },
            "type": "histogram"
           }
          ],
          "histogram2d": [
           {
            "colorbar": {
             "outlinewidth": 0,
             "ticks": ""
            },
            "colorscale": [
             [
              0,
              "#0d0887"
             ],
             [
              0.1111111111111111,
              "#46039f"
             ],
             [
              0.2222222222222222,
              "#7201a8"
             ],
             [
              0.3333333333333333,
              "#9c179e"
             ],
             [
              0.4444444444444444,
              "#bd3786"
             ],
             [
              0.5555555555555556,
              "#d8576b"
             ],
             [
              0.6666666666666666,
              "#ed7953"
             ],
             [
              0.7777777777777778,
              "#fb9f3a"
             ],
             [
              0.8888888888888888,
              "#fdca26"
             ],
             [
              1,
              "#f0f921"
             ]
            ],
            "type": "histogram2d"
           }
          ],
          "histogram2dcontour": [
           {
            "colorbar": {
             "outlinewidth": 0,
             "ticks": ""
            },
            "colorscale": [
             [
              0,
              "#0d0887"
             ],
             [
              0.1111111111111111,
              "#46039f"
             ],
             [
              0.2222222222222222,
              "#7201a8"
             ],
             [
              0.3333333333333333,
              "#9c179e"
             ],
             [
              0.4444444444444444,
              "#bd3786"
             ],
             [
              0.5555555555555556,
              "#d8576b"
             ],
             [
              0.6666666666666666,
              "#ed7953"
             ],
             [
              0.7777777777777778,
              "#fb9f3a"
             ],
             [
              0.8888888888888888,
              "#fdca26"
             ],
             [
              1,
              "#f0f921"
             ]
            ],
            "type": "histogram2dcontour"
           }
          ],
          "mesh3d": [
           {
            "colorbar": {
             "outlinewidth": 0,
             "ticks": ""
            },
            "type": "mesh3d"
           }
          ],
          "parcoords": [
           {
            "line": {
             "colorbar": {
              "outlinewidth": 0,
              "ticks": ""
             }
            },
            "type": "parcoords"
           }
          ],
          "pie": [
           {
            "automargin": true,
            "type": "pie"
           }
          ],
          "scatter": [
           {
            "fillpattern": {
             "fillmode": "overlay",
             "size": 10,
             "solidity": 0.2
            },
            "type": "scatter"
           }
          ],
          "scatter3d": [
           {
            "line": {
             "colorbar": {
              "outlinewidth": 0,
              "ticks": ""
             }
            },
            "marker": {
             "colorbar": {
              "outlinewidth": 0,
              "ticks": ""
             }
            },
            "type": "scatter3d"
           }
          ],
          "scattercarpet": [
           {
            "marker": {
             "colorbar": {
              "outlinewidth": 0,
              "ticks": ""
             }
            },
            "type": "scattercarpet"
           }
          ],
          "scattergeo": [
           {
            "marker": {
             "colorbar": {
              "outlinewidth": 0,
              "ticks": ""
             }
            },
            "type": "scattergeo"
           }
          ],
          "scattergl": [
           {
            "marker": {
             "colorbar": {
              "outlinewidth": 0,
              "ticks": ""
             }
            },
            "type": "scattergl"
           }
          ],
          "scattermapbox": [
           {
            "marker": {
             "colorbar": {
              "outlinewidth": 0,
              "ticks": ""
             }
            },
            "type": "scattermapbox"
           }
          ],
          "scatterpolar": [
           {
            "marker": {
             "colorbar": {
              "outlinewidth": 0,
              "ticks": ""
             }
            },
            "type": "scatterpolar"
           }
          ],
          "scatterpolargl": [
           {
            "marker": {
             "colorbar": {
              "outlinewidth": 0,
              "ticks": ""
             }
            },
            "type": "scatterpolargl"
           }
          ],
          "scatterternary": [
           {
            "marker": {
             "colorbar": {
              "outlinewidth": 0,
              "ticks": ""
             }
            },
            "type": "scatterternary"
           }
          ],
          "surface": [
           {
            "colorbar": {
             "outlinewidth": 0,
             "ticks": ""
            },
            "colorscale": [
             [
              0,
              "#0d0887"
             ],
             [
              0.1111111111111111,
              "#46039f"
             ],
             [
              0.2222222222222222,
              "#7201a8"
             ],
             [
              0.3333333333333333,
              "#9c179e"
             ],
             [
              0.4444444444444444,
              "#bd3786"
             ],
             [
              0.5555555555555556,
              "#d8576b"
             ],
             [
              0.6666666666666666,
              "#ed7953"
             ],
             [
              0.7777777777777778,
              "#fb9f3a"
             ],
             [
              0.8888888888888888,
              "#fdca26"
             ],
             [
              1,
              "#f0f921"
             ]
            ],
            "type": "surface"
           }
          ],
          "table": [
           {
            "cells": {
             "fill": {
              "color": "#EBF0F8"
             },
             "line": {
              "color": "white"
             }
            },
            "header": {
             "fill": {
              "color": "#C8D4E3"
             },
             "line": {
              "color": "white"
             }
            },
            "type": "table"
           }
          ]
         },
         "layout": {
          "annotationdefaults": {
           "arrowcolor": "#2a3f5f",
           "arrowhead": 0,
           "arrowwidth": 1
          },
          "autotypenumbers": "strict",
          "coloraxis": {
           "colorbar": {
            "outlinewidth": 0,
            "ticks": ""
           }
          },
          "colorscale": {
           "diverging": [
            [
             0,
             "#8e0152"
            ],
            [
             0.1,
             "#c51b7d"
            ],
            [
             0.2,
             "#de77ae"
            ],
            [
             0.3,
             "#f1b6da"
            ],
            [
             0.4,
             "#fde0ef"
            ],
            [
             0.5,
             "#f7f7f7"
            ],
            [
             0.6,
             "#e6f5d0"
            ],
            [
             0.7,
             "#b8e186"
            ],
            [
             0.8,
             "#7fbc41"
            ],
            [
             0.9,
             "#4d9221"
            ],
            [
             1,
             "#276419"
            ]
           ],
           "sequential": [
            [
             0,
             "#0d0887"
            ],
            [
             0.1111111111111111,
             "#46039f"
            ],
            [
             0.2222222222222222,
             "#7201a8"
            ],
            [
             0.3333333333333333,
             "#9c179e"
            ],
            [
             0.4444444444444444,
             "#bd3786"
            ],
            [
             0.5555555555555556,
             "#d8576b"
            ],
            [
             0.6666666666666666,
             "#ed7953"
            ],
            [
             0.7777777777777778,
             "#fb9f3a"
            ],
            [
             0.8888888888888888,
             "#fdca26"
            ],
            [
             1,
             "#f0f921"
            ]
           ],
           "sequentialminus": [
            [
             0,
             "#0d0887"
            ],
            [
             0.1111111111111111,
             "#46039f"
            ],
            [
             0.2222222222222222,
             "#7201a8"
            ],
            [
             0.3333333333333333,
             "#9c179e"
            ],
            [
             0.4444444444444444,
             "#bd3786"
            ],
            [
             0.5555555555555556,
             "#d8576b"
            ],
            [
             0.6666666666666666,
             "#ed7953"
            ],
            [
             0.7777777777777778,
             "#fb9f3a"
            ],
            [
             0.8888888888888888,
             "#fdca26"
            ],
            [
             1,
             "#f0f921"
            ]
           ]
          },
          "colorway": [
           "#636efa",
           "#EF553B",
           "#00cc96",
           "#ab63fa",
           "#FFA15A",
           "#19d3f3",
           "#FF6692",
           "#B6E880",
           "#FF97FF",
           "#FECB52"
          ],
          "font": {
           "color": "#2a3f5f"
          },
          "geo": {
           "bgcolor": "white",
           "lakecolor": "white",
           "landcolor": "#E5ECF6",
           "showlakes": true,
           "showland": true,
           "subunitcolor": "white"
          },
          "hoverlabel": {
           "align": "left"
          },
          "hovermode": "closest",
          "mapbox": {
           "style": "light"
          },
          "paper_bgcolor": "white",
          "plot_bgcolor": "#E5ECF6",
          "polar": {
           "angularaxis": {
            "gridcolor": "white",
            "linecolor": "white",
            "ticks": ""
           },
           "bgcolor": "#E5ECF6",
           "radialaxis": {
            "gridcolor": "white",
            "linecolor": "white",
            "ticks": ""
           }
          },
          "scene": {
           "xaxis": {
            "backgroundcolor": "#E5ECF6",
            "gridcolor": "white",
            "gridwidth": 2,
            "linecolor": "white",
            "showbackground": true,
            "ticks": "",
            "zerolinecolor": "white"
           },
           "yaxis": {
            "backgroundcolor": "#E5ECF6",
            "gridcolor": "white",
            "gridwidth": 2,
            "linecolor": "white",
            "showbackground": true,
            "ticks": "",
            "zerolinecolor": "white"
           },
           "zaxis": {
            "backgroundcolor": "#E5ECF6",
            "gridcolor": "white",
            "gridwidth": 2,
            "linecolor": "white",
            "showbackground": true,
            "ticks": "",
            "zerolinecolor": "white"
           }
          },
          "shapedefaults": {
           "line": {
            "color": "#2a3f5f"
           }
          },
          "ternary": {
           "aaxis": {
            "gridcolor": "white",
            "linecolor": "white",
            "ticks": ""
           },
           "baxis": {
            "gridcolor": "white",
            "linecolor": "white",
            "ticks": ""
           },
           "bgcolor": "#E5ECF6",
           "caxis": {
            "gridcolor": "white",
            "linecolor": "white",
            "ticks": ""
           }
          },
          "title": {
           "x": 0.05
          },
          "xaxis": {
           "automargin": true,
           "gridcolor": "white",
           "linecolor": "white",
           "ticks": "",
           "title": {
            "standoff": 15
           },
           "zerolinecolor": "white",
           "zerolinewidth": 2
          },
          "yaxis": {
           "automargin": true,
           "gridcolor": "white",
           "linecolor": "white",
           "ticks": "",
           "title": {
            "standoff": 15
           },
           "zerolinecolor": "white",
           "zerolinewidth": 2
          }
         }
        },
        "title": {
         "text": "3D Vector Plot"
        },
        "width": 700
       }
      },
      "text/html": [
       "<div>                            <div id=\"16e9fc86-9255-4129-947b-1afffad058bc\" class=\"plotly-graph-div\" style=\"height:400px; width:700px;\"></div>            <script type=\"text/javascript\">                require([\"plotly\"], function(Plotly) {                    window.PLOTLYENV=window.PLOTLYENV || {};                                    if (document.getElementById(\"16e9fc86-9255-4129-947b-1afffad058bc\")) {                    Plotly.newPlot(                        \"16e9fc86-9255-4129-947b-1afffad058bc\",                        [{\"marker\":{\"color\":[6.717842620527569,7.206303404166142,7.195646226991868,7.32787220336343,6.896509985456884,6.8245760644625015,7.0368339868375,7.17744654632512,7.064382668458762,7.120914500049395,7.064436807945212,6.936069553820694,6.735098637070932,6.831089449044972,6.950820359996137,6.977968139521593,6.724783572416799,7.331517128844525,6.842875423862109,6.757688752049438,6.863372753042408,7.243679593311005,7.312022299601064,7.165517047361662,6.984862527721838,7.1158329804736855,7.037713244647089,6.8265000147732735,6.716954372813768,6.898512231245834,6.81777223062645,7.1591303799299295,6.821570677570537,7.032550799439912,7.320696357965041,6.938348546887328,7.271322075242938,7.314190582670978,6.977257685503292,6.928006963026484,6.8376508180877,6.812186854080948,6.97276794777067,7.058147487733792,7.06552234083135,7.014374293101792,6.896877342199708,6.891191262380207,6.698995826747406,6.990078228989179,6.982421083841452,6.8591368472581955,7.117736284742905,6.928580423452284,7.25487382015694,6.765085995353911,7.322134306823176,6.709229010937814,6.6590344785922575,6.742952526294129,7.244734638599435,6.792766106209181,6.749780634229872,6.916085392971157,6.7219560684735145,7.162447857844135,6.901604074982856,7.058306840991781,7.215016902048876,7.314422195487931,6.970222099775259,7.230653215708818,6.799900345376876,6.837549997225559,7.2173409101339425,6.955595312755226,7.260628596497259,6.907920873273538,6.790957316521931,7.03975635622467,7.215914203603354,7.224865926756108,6.698465107238831,7.222981802504538,7.214108278295179,7.070371928378757,6.739643024838014,7.220568754562972,6.754382009837809,7.116874872705973,6.755543404748663,6.846344258891519,7.084987887903091,6.754152808862835,7.1781731911304885,6.7100075268662716,6.811763108626631,7.04853613456923,7.181736658952475,7.098560468118619,6.76885467043774],\"colorscale\":[[0.0,\"#0508b8\"],[0.08333333333333333,\"#1910d8\"],[0.16666666666666666,\"#3c19f0\"],[0.25,\"#6b1cfb\"],[0.3333333333333333,\"#981cfd\"],[0.4166666666666667,\"#bf1cfd\"],[0.5,\"#dd2bfd\"],[0.5833333333333334,\"#f246fe\"],[0.6666666666666666,\"#fc67fd\"],[0.75,\"#fe88fc\"],[0.8333333333333334,\"#fea5fd\"],[0.9166666666666666,\"#febefe\"],[1.0,\"#fec3fe\"]],\"opacity\":0.9,\"size\":10},\"mode\":\"markers\",\"x\":[1.2403250268728838,0.45090917238336203,0.9352684604940046,0.8936915513010169,1.013904681153694,1.3006763827903711,1.4944127864044785,0.8222281781895641,0.9512060905501043,0.6210218179053043,0.7344995662655444,1.2296948441031437,0.7130844999623965,1.2975220944492345,1.0990998879709022,1.3025194947357737,1.5803010587622135,0.9308441792695316,1.023041456039997,1.278176186955491,1.4522341786165194,0.4686232684135451,0.9354997182937553,0.8118880762884398,1.2634221112755686,1.4516150769878768,1.1050900515661273,0.7882386445574211,0.9534578261868167,1.4488308220648436,0.841342718033173,0.44456345424327426,0.745970231642016,1.1865809502821874,0.84028032147716,0.5888666584910109,0.4845915844003509,0.661612156310275,0.9193983285352033,0.8904354929595145,0.8974761205931274,0.9077547929402406,0.9183322848608059,0.6892246678165735,0.9933949213781367,0.8712946159739213,0.7712145025569561,1.0218401586710308,1.5610569802092793,1.1943920211750603,0.9392263848632565,1.4125681901500333,0.8563143469548334,0.7320266707997083,1.1207042935937197,0.928498825379682,1.036976164613394,1.3739761771969126,0.7646720931647474,0.8076089549842999,1.0970606930123243,0.7069601288331806,1.0619916317160887,1.4064586698044932,1.1955203611900251,0.6714807053717267,1.4361504223658546,0.9906104933754826,1.0534435547012446,0.780462363444294,0.88646567484418,0.6981719253951651,1.30324710117485,0.915678375945318,1.2199974257155184,1.0777397485878695,0.7290654151624809,0.9131785143944506,1.5046881176025881,1.2171618082441706,0.7937302541818998,1.010636779648994,0.7717823156816033,0.912664035374494,1.046472538994376,0.7147776509026179,1.363417671448577,0.5310606805152709,1.044209112939236,0.9645324507623888,1.4131204058417235,0.7127250979498287,1.3916716340586213,1.1460574970096806,0.5327369495363777,1.1703850988915065,1.4199867218583098,1.1054092152989432,0.9462406357466366,1.0358819115373046,1.299901312649067],\"y\":[1.3081162657109482,0.84378430727887,0.7945608358225943,0.6484097851789392,1.1089917400791685,1.1531077689076823,0.8770941767709826,0.8289788510882361,0.9427409575281441,0.9314044188439802,0.9711781553445892,1.055109644731048,1.3832282643693958,1.1392111122233317,1.0256223003558333,0.992663250151766,1.2365928647516493,0.6410286640983757,1.161504566710287,1.2470661337204683,1.0937054088700402,0.8027763228036345,0.6199720102714363,0.8497610812108788,0.9761573904177172,0.8005564234417801,0.9346008231076328,1.255885679730497,1.3311515062390185,1.073296742468043,1.2553941184042172,0.9028123829196996,1.272351275090559,0.8996186036429479,0.6660361289049512,1.1562552083456388,0.7601881003745321,0.6882548301296548,1.043086387444038,1.1249499538406216,1.220190836829604,1.22173696625777,1.0185583690181697,1.0014116298954612,0.931392003671091,1.0058310156774544,1.144548230968476,1.1417119538124567,1.2629796383362286,0.9902583768362206,1.0486105646282127,1.0959569850428903,0.8602828012914499,1.1222035501433956,0.6939607902428344,1.2817873748590156,0.6258259802732654,1.282984503669911,1.424040978186448,1.3292322318413234,0.7089599550522259,1.28782481248693,1.287791825430489,1.0355134532386594,1.2797424030657145,0.8569079597788245,1.0539929028714925,0.9281115832513671,0.7027772877181397,0.6766765207782403,1.0514583952118002,0.7695155940840812,1.1772865228013834,1.1935298589321348,0.721276184265236,1.040937474742111,0.7220863246233336,1.1278615859780379,1.1422512892865924,0.9328138174581815,0.7691326035140807,0.7292121481695486,1.3663792913395199,0.732700590508498,0.7408094953769075,0.9663927383689559,1.2306704344849968,0.8044490053869257,1.305475244805379,0.8321469250995157,1.222160768625031,1.2261940487791423,0.8351605689422197,1.2449495562646862,0.8806140303378913,1.3230866216268757,1.148346671733623,0.9289097413193845,0.7894054036527056,0.8745694486481784,1.2060803994428784],\"z\":[6.717842620527569,7.206303404166142,7.195646226991868,7.32787220336343,6.896509985456884,6.8245760644625015,7.0368339868375,7.17744654632512,7.064382668458762,7.120914500049395,7.064436807945212,6.936069553820694,6.735098637070932,6.831089449044972,6.950820359996137,6.977968139521593,6.724783572416799,7.331517128844525,6.842875423862109,6.757688752049438,6.863372753042408,7.243679593311005,7.312022299601064,7.165517047361662,6.984862527721838,7.1158329804736855,7.037713244647089,6.8265000147732735,6.716954372813768,6.898512231245834,6.81777223062645,7.1591303799299295,6.821570677570537,7.032550799439912,7.320696357965041,6.938348546887328,7.271322075242938,7.314190582670978,6.977257685503292,6.928006963026484,6.8376508180877,6.812186854080948,6.97276794777067,7.058147487733792,7.06552234083135,7.014374293101792,6.896877342199708,6.891191262380207,6.698995826747406,6.990078228989179,6.982421083841452,6.8591368472581955,7.117736284742905,6.928580423452284,7.25487382015694,6.765085995353911,7.322134306823176,6.709229010937814,6.6590344785922575,6.742952526294129,7.244734638599435,6.792766106209181,6.749780634229872,6.916085392971157,6.7219560684735145,7.162447857844135,6.901604074982856,7.058306840991781,7.215016902048876,7.314422195487931,6.970222099775259,7.230653215708818,6.799900345376876,6.837549997225559,7.2173409101339425,6.955595312755226,7.260628596497259,6.907920873273538,6.790957316521931,7.03975635622467,7.215914203603354,7.224865926756108,6.698465107238831,7.222981802504538,7.214108278295179,7.070371928378757,6.739643024838014,7.220568754562972,6.754382009837809,7.116874872705973,6.755543404748663,6.846344258891519,7.084987887903091,6.754152808862835,7.1781731911304885,6.7100075268662716,6.811763108626631,7.04853613456923,7.181736658952475,7.098560468118619,6.76885467043774],\"type\":\"scatter3d\"},{\"line\":{\"color\":\"darkblue\",\"width\":2},\"marker\":{\"opacity\":0.5,\"size\":5},\"x\":[1.0018460926412727,1.6664338075563654],\"y\":[1.0134145614879944,1.5343052760007816],\"z\":[6.988613349877255,6.45289324318133],\"type\":\"scatter3d\"},{\"anchor\":\"tip\",\"showscale\":false,\"sizemode\":\"scaled\",\"sizeref\":0.1,\"u\":[0.6645877149150927],\"v\":[0.5208907145127872],\"w\":[-0.5357201066959254],\"x\":[1.6664338075563654],\"y\":[1.5343052760007816],\"z\":[6.45289324318133],\"type\":\"cone\"},{\"line\":{\"color\":\"darkblue\",\"width\":2},\"marker\":{\"opacity\":0.5,\"size\":5},\"x\":[1.0018460926412727,1.7416357513088796],\"y\":[1.0134145614879944,0.453929900840391],\"z\":[6.988613349877255,7.3623621631576475],\"type\":\"scatter3d\"},{\"anchor\":\"tip\",\"showscale\":false,\"sizemode\":\"scaled\",\"sizeref\":0.1,\"u\":[0.739789658667607],\"v\":[-0.5594846606476035],\"w\":[0.3737488132803924],\"x\":[1.7416357513088796],\"y\":[0.453929900840391],\"z\":[7.3623621631576475],\"type\":\"cone\"},{\"line\":{\"color\":\"darkblue\",\"width\":2},\"marker\":{\"opacity\":0.5,\"size\":5},\"x\":[1.0018460926412727,1.1068909883402107],\"y\":[1.0134145614879944,1.6581236261321903],\"z\":[6.988613349877255,7.745789545919632],\"type\":\"scatter3d\"},{\"anchor\":\"tip\",\"showscale\":false,\"sizemode\":\"scaled\",\"sizeref\":0.1,\"u\":[0.10504489569893809],\"v\":[0.6447090646441962],\"w\":[0.7571761960423775],\"x\":[1.1068909883402107],\"y\":[1.6581236261321903],\"z\":[7.745789545919632],\"type\":\"cone\"}],                        {\"template\":{\"data\":{\"histogram2dcontour\":[{\"type\":\"histogram2dcontour\",\"colorbar\":{\"outlinewidth\":0,\"ticks\":\"\"},\"colorscale\":[[0.0,\"#0d0887\"],[0.1111111111111111,\"#46039f\"],[0.2222222222222222,\"#7201a8\"],[0.3333333333333333,\"#9c179e\"],[0.4444444444444444,\"#bd3786\"],[0.5555555555555556,\"#d8576b\"],[0.6666666666666666,\"#ed7953\"],[0.7777777777777778,\"#fb9f3a\"],[0.8888888888888888,\"#fdca26\"],[1.0,\"#f0f921\"]]}],\"choropleth\":[{\"type\":\"choropleth\",\"colorbar\":{\"outlinewidth\":0,\"ticks\":\"\"}}],\"histogram2d\":[{\"type\":\"histogram2d\",\"colorbar\":{\"outlinewidth\":0,\"ticks\":\"\"},\"colorscale\":[[0.0,\"#0d0887\"],[0.1111111111111111,\"#46039f\"],[0.2222222222222222,\"#7201a8\"],[0.3333333333333333,\"#9c179e\"],[0.4444444444444444,\"#bd3786\"],[0.5555555555555556,\"#d8576b\"],[0.6666666666666666,\"#ed7953\"],[0.7777777777777778,\"#fb9f3a\"],[0.8888888888888888,\"#fdca26\"],[1.0,\"#f0f921\"]]}],\"heatmap\":[{\"type\":\"heatmap\",\"colorbar\":{\"outlinewidth\":0,\"ticks\":\"\"},\"colorscale\":[[0.0,\"#0d0887\"],[0.1111111111111111,\"#46039f\"],[0.2222222222222222,\"#7201a8\"],[0.3333333333333333,\"#9c179e\"],[0.4444444444444444,\"#bd3786\"],[0.5555555555555556,\"#d8576b\"],[0.6666666666666666,\"#ed7953\"],[0.7777777777777778,\"#fb9f3a\"],[0.8888888888888888,\"#fdca26\"],[1.0,\"#f0f921\"]]}],\"heatmapgl\":[{\"type\":\"heatmapgl\",\"colorbar\":{\"outlinewidth\":0,\"ticks\":\"\"},\"colorscale\":[[0.0,\"#0d0887\"],[0.1111111111111111,\"#46039f\"],[0.2222222222222222,\"#7201a8\"],[0.3333333333333333,\"#9c179e\"],[0.4444444444444444,\"#bd3786\"],[0.5555555555555556,\"#d8576b\"],[0.6666666666666666,\"#ed7953\"],[0.7777777777777778,\"#fb9f3a\"],[0.8888888888888888,\"#fdca26\"],[1.0,\"#f0f921\"]]}],\"contourcarpet\":[{\"type\":\"contourcarpet\",\"colorbar\":{\"outlinewidth\":0,\"ticks\":\"\"}}],\"contour\":[{\"type\":\"contour\",\"colorbar\":{\"outlinewidth\":0,\"ticks\":\"\"},\"colorscale\":[[0.0,\"#0d0887\"],[0.1111111111111111,\"#46039f\"],[0.2222222222222222,\"#7201a8\"],[0.3333333333333333,\"#9c179e\"],[0.4444444444444444,\"#bd3786\"],[0.5555555555555556,\"#d8576b\"],[0.6666666666666666,\"#ed7953\"],[0.7777777777777778,\"#fb9f3a\"],[0.8888888888888888,\"#fdca26\"],[1.0,\"#f0f921\"]]}],\"surface\":[{\"type\":\"surface\",\"colorbar\":{\"outlinewidth\":0,\"ticks\":\"\"},\"colorscale\":[[0.0,\"#0d0887\"],[0.1111111111111111,\"#46039f\"],[0.2222222222222222,\"#7201a8\"],[0.3333333333333333,\"#9c179e\"],[0.4444444444444444,\"#bd3786\"],[0.5555555555555556,\"#d8576b\"],[0.6666666666666666,\"#ed7953\"],[0.7777777777777778,\"#fb9f3a\"],[0.8888888888888888,\"#fdca26\"],[1.0,\"#f0f921\"]]}],\"mesh3d\":[{\"type\":\"mesh3d\",\"colorbar\":{\"outlinewidth\":0,\"ticks\":\"\"}}],\"scatter\":[{\"fillpattern\":{\"fillmode\":\"overlay\",\"size\":10,\"solidity\":0.2},\"type\":\"scatter\"}],\"parcoords\":[{\"type\":\"parcoords\",\"line\":{\"colorbar\":{\"outlinewidth\":0,\"ticks\":\"\"}}}],\"scatterpolargl\":[{\"type\":\"scatterpolargl\",\"marker\":{\"colorbar\":{\"outlinewidth\":0,\"ticks\":\"\"}}}],\"bar\":[{\"error_x\":{\"color\":\"#2a3f5f\"},\"error_y\":{\"color\":\"#2a3f5f\"},\"marker\":{\"line\":{\"color\":\"#E5ECF6\",\"width\":0.5},\"pattern\":{\"fillmode\":\"overlay\",\"size\":10,\"solidity\":0.2}},\"type\":\"bar\"}],\"scattergeo\":[{\"type\":\"scattergeo\",\"marker\":{\"colorbar\":{\"outlinewidth\":0,\"ticks\":\"\"}}}],\"scatterpolar\":[{\"type\":\"scatterpolar\",\"marker\":{\"colorbar\":{\"outlinewidth\":0,\"ticks\":\"\"}}}],\"histogram\":[{\"marker\":{\"pattern\":{\"fillmode\":\"overlay\",\"size\":10,\"solidity\":0.2}},\"type\":\"histogram\"}],\"scattergl\":[{\"type\":\"scattergl\",\"marker\":{\"colorbar\":{\"outlinewidth\":0,\"ticks\":\"\"}}}],\"scatter3d\":[{\"type\":\"scatter3d\",\"line\":{\"colorbar\":{\"outlinewidth\":0,\"ticks\":\"\"}},\"marker\":{\"colorbar\":{\"outlinewidth\":0,\"ticks\":\"\"}}}],\"scattermapbox\":[{\"type\":\"scattermapbox\",\"marker\":{\"colorbar\":{\"outlinewidth\":0,\"ticks\":\"\"}}}],\"scatterternary\":[{\"type\":\"scatterternary\",\"marker\":{\"colorbar\":{\"outlinewidth\":0,\"ticks\":\"\"}}}],\"scattercarpet\":[{\"type\":\"scattercarpet\",\"marker\":{\"colorbar\":{\"outlinewidth\":0,\"ticks\":\"\"}}}],\"carpet\":[{\"aaxis\":{\"endlinecolor\":\"#2a3f5f\",\"gridcolor\":\"white\",\"linecolor\":\"white\",\"minorgridcolor\":\"white\",\"startlinecolor\":\"#2a3f5f\"},\"baxis\":{\"endlinecolor\":\"#2a3f5f\",\"gridcolor\":\"white\",\"linecolor\":\"white\",\"minorgridcolor\":\"white\",\"startlinecolor\":\"#2a3f5f\"},\"type\":\"carpet\"}],\"table\":[{\"cells\":{\"fill\":{\"color\":\"#EBF0F8\"},\"line\":{\"color\":\"white\"}},\"header\":{\"fill\":{\"color\":\"#C8D4E3\"},\"line\":{\"color\":\"white\"}},\"type\":\"table\"}],\"barpolar\":[{\"marker\":{\"line\":{\"color\":\"#E5ECF6\",\"width\":0.5},\"pattern\":{\"fillmode\":\"overlay\",\"size\":10,\"solidity\":0.2}},\"type\":\"barpolar\"}],\"pie\":[{\"automargin\":true,\"type\":\"pie\"}]},\"layout\":{\"autotypenumbers\":\"strict\",\"colorway\":[\"#636efa\",\"#EF553B\",\"#00cc96\",\"#ab63fa\",\"#FFA15A\",\"#19d3f3\",\"#FF6692\",\"#B6E880\",\"#FF97FF\",\"#FECB52\"],\"font\":{\"color\":\"#2a3f5f\"},\"hovermode\":\"closest\",\"hoverlabel\":{\"align\":\"left\"},\"paper_bgcolor\":\"white\",\"plot_bgcolor\":\"#E5ECF6\",\"polar\":{\"bgcolor\":\"#E5ECF6\",\"angularaxis\":{\"gridcolor\":\"white\",\"linecolor\":\"white\",\"ticks\":\"\"},\"radialaxis\":{\"gridcolor\":\"white\",\"linecolor\":\"white\",\"ticks\":\"\"}},\"ternary\":{\"bgcolor\":\"#E5ECF6\",\"aaxis\":{\"gridcolor\":\"white\",\"linecolor\":\"white\",\"ticks\":\"\"},\"baxis\":{\"gridcolor\":\"white\",\"linecolor\":\"white\",\"ticks\":\"\"},\"caxis\":{\"gridcolor\":\"white\",\"linecolor\":\"white\",\"ticks\":\"\"}},\"coloraxis\":{\"colorbar\":{\"outlinewidth\":0,\"ticks\":\"\"}},\"colorscale\":{\"sequential\":[[0.0,\"#0d0887\"],[0.1111111111111111,\"#46039f\"],[0.2222222222222222,\"#7201a8\"],[0.3333333333333333,\"#9c179e\"],[0.4444444444444444,\"#bd3786\"],[0.5555555555555556,\"#d8576b\"],[0.6666666666666666,\"#ed7953\"],[0.7777777777777778,\"#fb9f3a\"],[0.8888888888888888,\"#fdca26\"],[1.0,\"#f0f921\"]],\"sequentialminus\":[[0.0,\"#0d0887\"],[0.1111111111111111,\"#46039f\"],[0.2222222222222222,\"#7201a8\"],[0.3333333333333333,\"#9c179e\"],[0.4444444444444444,\"#bd3786\"],[0.5555555555555556,\"#d8576b\"],[0.6666666666666666,\"#ed7953\"],[0.7777777777777778,\"#fb9f3a\"],[0.8888888888888888,\"#fdca26\"],[1.0,\"#f0f921\"]],\"diverging\":[[0,\"#8e0152\"],[0.1,\"#c51b7d\"],[0.2,\"#de77ae\"],[0.3,\"#f1b6da\"],[0.4,\"#fde0ef\"],[0.5,\"#f7f7f7\"],[0.6,\"#e6f5d0\"],[0.7,\"#b8e186\"],[0.8,\"#7fbc41\"],[0.9,\"#4d9221\"],[1,\"#276419\"]]},\"xaxis\":{\"gridcolor\":\"white\",\"linecolor\":\"white\",\"ticks\":\"\",\"title\":{\"standoff\":15},\"zerolinecolor\":\"white\",\"automargin\":true,\"zerolinewidth\":2},\"yaxis\":{\"gridcolor\":\"white\",\"linecolor\":\"white\",\"ticks\":\"\",\"title\":{\"standoff\":15},\"zerolinecolor\":\"white\",\"automargin\":true,\"zerolinewidth\":2},\"scene\":{\"xaxis\":{\"backgroundcolor\":\"#E5ECF6\",\"gridcolor\":\"white\",\"linecolor\":\"white\",\"showbackground\":true,\"ticks\":\"\",\"zerolinecolor\":\"white\",\"gridwidth\":2},\"yaxis\":{\"backgroundcolor\":\"#E5ECF6\",\"gridcolor\":\"white\",\"linecolor\":\"white\",\"showbackground\":true,\"ticks\":\"\",\"zerolinecolor\":\"white\",\"gridwidth\":2},\"zaxis\":{\"backgroundcolor\":\"#E5ECF6\",\"gridcolor\":\"white\",\"linecolor\":\"white\",\"showbackground\":true,\"ticks\":\"\",\"zerolinecolor\":\"white\",\"gridwidth\":2}},\"shapedefaults\":{\"line\":{\"color\":\"#2a3f5f\"}},\"annotationdefaults\":{\"arrowcolor\":\"#2a3f5f\",\"arrowhead\":0,\"arrowwidth\":1},\"geo\":{\"bgcolor\":\"white\",\"landcolor\":\"#E5ECF6\",\"subunitcolor\":\"white\",\"showland\":true,\"showlakes\":true,\"lakecolor\":\"white\"},\"title\":{\"x\":0.05},\"mapbox\":{\"style\":\"light\"}}},\"margin\":{\"l\":0,\"r\":0,\"b\":0,\"t\":30},\"title\":{\"text\":\"3D Vector Plot\"},\"width\":700,\"height\":400},                        {\"responsive\": true}                    ).then(function(){\n",
       "                            \n",
       "var gd = document.getElementById('16e9fc86-9255-4129-947b-1afffad058bc');\n",
       "var x = new MutationObserver(function (mutations, observer) {{\n",
       "        var display = window.getComputedStyle(gd).display;\n",
       "        if (!display || display === 'none') {{\n",
       "            console.log([gd, 'removed!']);\n",
       "            Plotly.purge(gd);\n",
       "            observer.disconnect();\n",
       "        }}\n",
       "}});\n",
       "\n",
       "// Listen for the removal of the full notebook cells\n",
       "var notebookContainer = gd.closest('#notebook-container');\n",
       "if (notebookContainer) {{\n",
       "    x.observe(notebookContainer, {childList: true});\n",
       "}}\n",
       "\n",
       "// Listen for the clearing of the current output cell\n",
       "var outputEl = gd.closest('.output');\n",
       "if (outputEl) {{\n",
       "    x.observe(outputEl, {childList: true});\n",
       "}}\n",
       "\n",
       "                        })                };                });            </script>        </div>"
      ]
     },
     "metadata": {},
     "output_type": "display_data"
    }
   ],
   "source": [
    "fig3 = go.Figure(data=fig1.data + fig2.data)\n",
    "fig3.update_layout(margin={'l': 0, 'r': 0, 'b': 0, 't': 30},title = '3D Vector Plot',width=700,height=400,)\n",
    "fig3"
   ]
  },
  {
   "cell_type": "code",
   "execution_count": 67,
   "id": "ec0de245-08d6-42ea-b5ff-8d3a55828286",
   "metadata": {
    "execution": {
     "iopub.execute_input": "2024-12-20T21:45:07.018126Z",
     "iopub.status.busy": "2024-12-20T21:45:07.017126Z",
     "iopub.status.idle": "2024-12-20T21:45:07.030679Z",
     "shell.execute_reply": "2024-12-20T21:45:07.030169Z",
     "shell.execute_reply.started": "2024-12-20T21:45:07.018126Z"
    }
   },
   "outputs": [
    {
     "data": {
      "application/vnd.plotly.v1+json": {
       "config": {
        "plotlyServerURL": "https://plot.ly"
       },
       "data": [
        {
         "marker": {
          "color": [
           7.030646256515436,
           6.782653523972492,
           6.817360787914556,
           6.9020173161504905,
           6.760645672602019,
           7.243993487063819,
           6.876866907715129,
           6.905462322891754,
           7.119828494544389,
           6.678773078986018,
           7.219586485439165,
           6.691479786381149,
           6.870413516938439,
           6.811861745913638,
           7.1427845430391175,
           7.323095903094251,
           7.016895800995479,
           6.828502700314636,
           7.317906934351903,
           6.971739671465661,
           6.8572051640261655,
           6.882210441992465,
           6.73524854116164,
           6.892675444137343,
           7.263308347454858,
           7.014730446528334,
           7.116225642265053,
           7.1509814650885595,
           7.193449255417277,
           7.100738038367766,
           6.922810863528306,
           7.226754009070382,
           7.133184383768312,
           6.730105615017377,
           7.010419325980822,
           7.109780781812909,
           6.920880586335209,
           6.782286801658842,
           7.192321831482135,
           6.966058838871937,
           7.074091461684762,
           7.348040630433889,
           7.0652879678482785,
           6.934992221625707,
           6.917233214364035,
           7.210264677770807,
           7.098999007266098,
           7.142517828798604,
           6.721088016338486,
           7.216228758232711,
           6.8024862521439,
           6.756464727032632,
           6.8963235637388305,
           6.827271451872149,
           7.019023244038509,
           7.209106329546065,
           6.77908626122767,
           6.704083514007528,
           7.2674065662201235,
           6.7993681282816025,
           7.288145538841747,
           6.772733479489188,
           6.865543571609906,
           7.21691640114431,
           7.023830728500172,
           7.117336323187792,
           7.209545372156812,
           7.159624698780345,
           7.234747882551536,
           6.882547990273554,
           6.944519802270885,
           7.195130976347886,
           7.298439781495424,
           6.996434437528919,
           6.704777817616581,
           6.989405599044292,
           7.093553746011987,
           6.980159276574703,
           7.067991781666249,
           7.236600921821772,
           6.878616868206185,
           6.982133199172721,
           6.807509934382456,
           6.767087771567282,
           6.996971544535392,
           6.859150017620839,
           6.850776288002667,
           7.142394640521148,
           6.666689826046223,
           6.77856328697361,
           7.0583992772305955,
           7.265673663470186,
           7.103168109003043,
           7.058340805525647,
           6.8003028723434955,
           6.668728893086573,
           7.095595032840415,
           6.720922501761451,
           6.750196949625632,
           6.930121863163049,
           7.093822072727649
          ],
          "colorscale": [
           [
            0,
            "#0508b8"
           ],
           [
            0.08333333333333333,
            "#1910d8"
           ],
           [
            0.16666666666666666,
            "#3c19f0"
           ],
           [
            0.25,
            "#6b1cfb"
           ],
           [
            0.3333333333333333,
            "#981cfd"
           ],
           [
            0.4166666666666667,
            "#bf1cfd"
           ],
           [
            0.5,
            "#dd2bfd"
           ],
           [
            0.5833333333333334,
            "#f246fe"
           ],
           [
            0.6666666666666666,
            "#fc67fd"
           ],
           [
            0.75,
            "#fe88fc"
           ],
           [
            0.8333333333333334,
            "#fea5fd"
           ],
           [
            0.9166666666666666,
            "#febefe"
           ],
           [
            1,
            "#fec3fe"
           ]
          ],
          "opacity": 0.9,
          "size": 10
         },
         "mode": "markers",
         "type": "scatter3d",
         "x": [
          0.7256257488596012,
          1.2493266654056154,
          0.8315305797459251,
          0.606970226214648,
          1.022651866492611,
          1.1875146291297343,
          1.4847300431192072,
          0.8867749033482696,
          1.2483395630384169,
          1.0786459163818025,
          0.7634200287996528,
          0.6206400334080717,
          0.6373641826709875,
          0.7250991867692479,
          0.8453672651801067,
          1.2956506196039161,
          0.9618423736981342,
          0.9427431900568537,
          1.2306171259027021,
          1.3416780384871736,
          0.6358958342925779,
          0.8770610830112164,
          0.5820435678269534,
          1.499962624200987,
          1.2601868719890275,
          0.9610189183387097,
          1.4632741934267284,
          1.2453027079579801,
          1.157498409959532,
          0.9505290250828148,
          0.7815643455027889,
          1.0081191213185043,
          0.786952202638028,
          0.7798237316441992,
          0.7074275446718068,
          0.6512037664449869,
          0.5624131537864608,
          0.7486477071670946,
          1.2539891915126176,
          1.2516865623349083,
          1.349043348354836,
          0.6346271492098475,
          0.8425926232126555,
          0.690301454792789,
          1.504384738489422,
          1.2332186637651266,
          0.8335203912078665,
          0.9402603711317389,
          1.44798810705684,
          1.3967568702301705,
          1.3680019560936127,
          0.9640333908551363,
          1.1303434719031402,
          1.0532872979671712,
          0.9605970925491308,
          0.6442343715752289,
          1.2689997775033222,
          1.10831967194226,
          1.1089153318078155,
          1.2307921049178736,
          0.6964027525210212,
          0.5583078412775719,
          0.7050861663250829,
          0.9475423545250846,
          1.4178087846126537,
          0.785428131249153,
          1.068228246991512,
          1.4594987764626575,
          0.5708725719981456,
          0.7520172594110827,
          0.8579600490475172,
          1.4170376377515472,
          0.7135159355134727,
          1.0663042090457104,
          0.9811022965824597,
          0.5412798098380345,
          0.875316180988017,
          1.11834957503203,
          0.9064944029004834,
          0.5098596123804618,
          1.3706189024424034,
          1.1400843901420754,
          1.293161964845411,
          1.0811272735693536,
          0.9897778328508284,
          1.4543970645649296,
          0.8515126277088637,
          0.6199229276210333,
          0.6015208883153494,
          0.9873287942140845,
          0.8529223131773546,
          0.615251084109324,
          1.3379729622854932,
          0.5645263836971299,
          1.1092585737054697,
          1.1657934110368862,
          1.390397166731953,
          0.943073858856904,
          0.7451101082493308,
          1.2196704348471823,
          0.8771069179222553
         ],
         "y": [
          1.0276285122406514,
          1.20834658474042,
          1.2799673909199845,
          1.1742505408951573,
          1.2913582443034155,
          0.6765830637337751,
          1.0615928131124674,
          1.1002832162151337,
          0.814466490860273,
          1.3348957390629774,
          0.7770857234329619,
          1.4203521819623326,
          1.2076652701931827,
          1.2656295048702875,
          0.8608816725376961,
          0.5903056426801552,
          0.9787847908923977,
          1.1764333642619347,
          0.6063861851104196,
          0.9706026701820776,
          1.2450872841141276,
          1.1556772576607948,
          1.3591757783174798,
          1.0383381550263118,
          0.6609747579704227,
          0.9673107091688382,
          0.7915704857071695,
          0.7950962298807212,
          0.7514457699619354,
          0.9053443630335041,
          1.1140442396147712,
          0.7316737148962766,
          0.8787642223803213,
          1.35804592296035,
          1.0315812208758703,
          0.9117344206695682,
          1.154571633591054,
          1.2874019239898473,
          0.7046762116412949,
          1.0249567560320088,
          0.8716490398125758,
          0.6599311404151278,
          0.9357362163226234,
          1.1474811516358931,
          1.0225578187185407,
          0.7302748985826208,
          0.9107602332362792,
          0.852212015450629,
          1.2597697665868344,
          0.6462541875979861,
          1.1422024081507347,
          1.3120847141222558,
          1.1133100264429132,
          1.2055968721418782,
          0.9845352374549576,
          0.7791507530494506,
          1.233625645582871,
          1.3166877839920235,
          0.6811309997646985,
          1.2032551758499561,
          0.7119417768164527,
          1.3234545429199098,
          1.2274069604099287,
          0.7548728519852644,
          0.913672333396184,
          0.8997731168386889,
          0.7316184773745427,
          0.754957270176388,
          0.8045590075617152,
          1.1862735279126981,
          1.0795216751386505,
          0.703389502634912,
          0.7093653084988203,
          0.9740091199953285,
          1.3375236392550531,
          1.1164644789647629,
          0.913177014129827,
          1.0178582701945567,
          0.9444549904323467,
          0.8091711698973851,
          1.0677605225212643,
          0.9895981693984506,
          1.1811794489087446,
          1.2431115453374801,
          1.0069864211930228,
          1.1108348310640317,
          1.1972458823308614,
          0.8782971898707129,
          1.4391863347423202,
          1.2658267756662005,
          0.9377243338214762,
          0.7633425525540982,
          0.8239971680257989,
          1.0023148714859191,
          1.2215853593321266,
          1.3711994062283117,
          0.82855089667528,
          1.320711902160789,
          1.3342381789588846,
          1.0279994200245264,
          0.8780415349306572
         ],
         "z": [
          7.030646256515436,
          6.782653523972492,
          6.817360787914556,
          6.9020173161504905,
          6.760645672602019,
          7.243993487063819,
          6.876866907715129,
          6.905462322891754,
          7.119828494544389,
          6.678773078986018,
          7.219586485439165,
          6.691479786381149,
          6.870413516938439,
          6.811861745913638,
          7.1427845430391175,
          7.323095903094251,
          7.016895800995479,
          6.828502700314636,
          7.317906934351903,
          6.971739671465661,
          6.8572051640261655,
          6.882210441992465,
          6.73524854116164,
          6.892675444137343,
          7.263308347454858,
          7.014730446528334,
          7.116225642265053,
          7.1509814650885595,
          7.193449255417277,
          7.100738038367766,
          6.922810863528306,
          7.226754009070382,
          7.133184383768312,
          6.730105615017377,
          7.010419325980822,
          7.109780781812909,
          6.920880586335209,
          6.782286801658842,
          7.192321831482135,
          6.966058838871937,
          7.074091461684762,
          7.348040630433889,
          7.0652879678482785,
          6.934992221625707,
          6.917233214364035,
          7.210264677770807,
          7.098999007266098,
          7.142517828798604,
          6.721088016338486,
          7.216228758232711,
          6.8024862521439,
          6.756464727032632,
          6.8963235637388305,
          6.827271451872149,
          7.019023244038509,
          7.209106329546065,
          6.77908626122767,
          6.704083514007528,
          7.2674065662201235,
          6.7993681282816025,
          7.288145538841747,
          6.772733479489188,
          6.865543571609906,
          7.21691640114431,
          7.023830728500172,
          7.117336323187792,
          7.209545372156812,
          7.159624698780345,
          7.234747882551536,
          6.882547990273554,
          6.944519802270885,
          7.195130976347886,
          7.298439781495424,
          6.996434437528919,
          6.704777817616581,
          6.989405599044292,
          7.093553746011987,
          6.980159276574703,
          7.067991781666249,
          7.236600921821772,
          6.878616868206185,
          6.982133199172721,
          6.807509934382456,
          6.767087771567282,
          6.996971544535392,
          6.859150017620839,
          6.850776288002667,
          7.142394640521148,
          6.666689826046223,
          6.77856328697361,
          7.0583992772305955,
          7.265673663470186,
          7.103168109003043,
          7.058340805525647,
          6.8003028723434955,
          6.668728893086573,
          7.095595032840415,
          6.720922501761451,
          6.750196949625632,
          6.930121863163049,
          7.093822072727649
         ]
        },
        {
         "line": {
          "color": "darkblue",
          "width": 2
         },
         "marker": {
          "opacity": 0.5,
          "size": 5
         },
         "type": "scatter3d",
         "x": [
          0.9873296971221178,
          1.6480283967081661
         ],
         "y": [
          1.0148749952908471,
          0.40246915883270973
         ],
         "z": [
          6.988677288390576,
          7.422769812902706
         ]
        },
        {
         "anchor": "tip",
         "showscale": false,
         "sizemode": "scaled",
         "sizeref": 0.1,
         "type": "cone",
         "u": [
          0.6606986995860484
         ],
         "v": [
          -0.6124058364581375
         ],
         "w": [
          0.4340925245121295
         ],
         "x": [
          1.6480283967081661
         ],
         "y": [
          0.40246915883270973
         ],
         "z": [
          7.422769812902706
         ]
        },
        {
         "line": {
          "color": "darkblue",
          "width": 2
         },
         "marker": {
          "opacity": 0.5,
          "size": 5
         },
         "type": "scatter3d",
         "x": [
          0.9873296971221178,
          0.24388380896995776
         ],
         "y": [
          1.0148749952908471,
          0.5609614836602297
         ],
         "z": [
          6.988677288390576,
          7.479850104565095
         ]
        },
        {
         "anchor": "tip",
         "showscale": false,
         "sizemode": "scaled",
         "sizeref": 0.1,
         "type": "cone",
         "u": [
          -0.74344588815216
         ],
         "v": [
          -0.45391351163061733
         ],
         "w": [
          0.4911728161745187
         ],
         "x": [
          0.24388380896995776
         ],
         "y": [
          0.5609614836602297
         ],
         "z": [
          7.479850104565095
         ]
        },
        {
         "line": {
          "color": "darkblue",
          "width": 2
         },
         "marker": {
          "opacity": 0.5,
          "size": 5
         },
         "type": "scatter3d",
         "x": [
          0.9873296971221178,
          1.0910863342830721
         ],
         "y": [
          1.0148749952908471,
          1.6621165386355017
         ],
         "z": [
          6.988677288390576,
          7.743867956244649
         ]
        },
        {
         "anchor": "tip",
         "showscale": false,
         "sizemode": "scaled",
         "sizeref": 0.1,
         "type": "cone",
         "u": [
          0.10375663716095429
         ],
         "v": [
          0.6472415433446546
         ],
         "w": [
          0.7551906678540723
         ],
         "x": [
          1.0910863342830721
         ],
         "y": [
          1.6621165386355017
         ],
         "z": [
          7.743867956244649
         ]
        }
       ],
       "layout": {
        "height": 400,
        "margin": {
         "b": 0,
         "l": 0,
         "r": 0,
         "t": 30
        },
        "scene": {
         "aspectmode": "auto",
         "aspectratio": {
          "x": 1.1326499631668816,
          "y": 1.0160916267427123,
          "z": 0.8689032312966394
         },
         "camera": {
          "projection": {
           "type": "perspective"
          }
         }
        },
        "template": {
         "data": {
          "bar": [
           {
            "error_x": {
             "color": "#2a3f5f"
            },
            "error_y": {
             "color": "#2a3f5f"
            },
            "marker": {
             "line": {
              "color": "#E5ECF6",
              "width": 0.5
             },
             "pattern": {
              "fillmode": "overlay",
              "size": 10,
              "solidity": 0.2
             }
            },
            "type": "bar"
           }
          ],
          "barpolar": [
           {
            "marker": {
             "line": {
              "color": "#E5ECF6",
              "width": 0.5
             },
             "pattern": {
              "fillmode": "overlay",
              "size": 10,
              "solidity": 0.2
             }
            },
            "type": "barpolar"
           }
          ],
          "carpet": [
           {
            "aaxis": {
             "endlinecolor": "#2a3f5f",
             "gridcolor": "white",
             "linecolor": "white",
             "minorgridcolor": "white",
             "startlinecolor": "#2a3f5f"
            },
            "baxis": {
             "endlinecolor": "#2a3f5f",
             "gridcolor": "white",
             "linecolor": "white",
             "minorgridcolor": "white",
             "startlinecolor": "#2a3f5f"
            },
            "type": "carpet"
           }
          ],
          "choropleth": [
           {
            "colorbar": {
             "outlinewidth": 0,
             "ticks": ""
            },
            "type": "choropleth"
           }
          ],
          "contour": [
           {
            "colorbar": {
             "outlinewidth": 0,
             "ticks": ""
            },
            "colorscale": [
             [
              0,
              "#0d0887"
             ],
             [
              0.1111111111111111,
              "#46039f"
             ],
             [
              0.2222222222222222,
              "#7201a8"
             ],
             [
              0.3333333333333333,
              "#9c179e"
             ],
             [
              0.4444444444444444,
              "#bd3786"
             ],
             [
              0.5555555555555556,
              "#d8576b"
             ],
             [
              0.6666666666666666,
              "#ed7953"
             ],
             [
              0.7777777777777778,
              "#fb9f3a"
             ],
             [
              0.8888888888888888,
              "#fdca26"
             ],
             [
              1,
              "#f0f921"
             ]
            ],
            "type": "contour"
           }
          ],
          "contourcarpet": [
           {
            "colorbar": {
             "outlinewidth": 0,
             "ticks": ""
            },
            "type": "contourcarpet"
           }
          ],
          "heatmap": [
           {
            "colorbar": {
             "outlinewidth": 0,
             "ticks": ""
            },
            "colorscale": [
             [
              0,
              "#0d0887"
             ],
             [
              0.1111111111111111,
              "#46039f"
             ],
             [
              0.2222222222222222,
              "#7201a8"
             ],
             [
              0.3333333333333333,
              "#9c179e"
             ],
             [
              0.4444444444444444,
              "#bd3786"
             ],
             [
              0.5555555555555556,
              "#d8576b"
             ],
             [
              0.6666666666666666,
              "#ed7953"
             ],
             [
              0.7777777777777778,
              "#fb9f3a"
             ],
             [
              0.8888888888888888,
              "#fdca26"
             ],
             [
              1,
              "#f0f921"
             ]
            ],
            "type": "heatmap"
           }
          ],
          "heatmapgl": [
           {
            "colorbar": {
             "outlinewidth": 0,
             "ticks": ""
            },
            "colorscale": [
             [
              0,
              "#0d0887"
             ],
             [
              0.1111111111111111,
              "#46039f"
             ],
             [
              0.2222222222222222,
              "#7201a8"
             ],
             [
              0.3333333333333333,
              "#9c179e"
             ],
             [
              0.4444444444444444,
              "#bd3786"
             ],
             [
              0.5555555555555556,
              "#d8576b"
             ],
             [
              0.6666666666666666,
              "#ed7953"
             ],
             [
              0.7777777777777778,
              "#fb9f3a"
             ],
             [
              0.8888888888888888,
              "#fdca26"
             ],
             [
              1,
              "#f0f921"
             ]
            ],
            "type": "heatmapgl"
           }
          ],
          "histogram": [
           {
            "marker": {
             "pattern": {
              "fillmode": "overlay",
              "size": 10,
              "solidity": 0.2
             }
            },
            "type": "histogram"
           }
          ],
          "histogram2d": [
           {
            "colorbar": {
             "outlinewidth": 0,
             "ticks": ""
            },
            "colorscale": [
             [
              0,
              "#0d0887"
             ],
             [
              0.1111111111111111,
              "#46039f"
             ],
             [
              0.2222222222222222,
              "#7201a8"
             ],
             [
              0.3333333333333333,
              "#9c179e"
             ],
             [
              0.4444444444444444,
              "#bd3786"
             ],
             [
              0.5555555555555556,
              "#d8576b"
             ],
             [
              0.6666666666666666,
              "#ed7953"
             ],
             [
              0.7777777777777778,
              "#fb9f3a"
             ],
             [
              0.8888888888888888,
              "#fdca26"
             ],
             [
              1,
              "#f0f921"
             ]
            ],
            "type": "histogram2d"
           }
          ],
          "histogram2dcontour": [
           {
            "colorbar": {
             "outlinewidth": 0,
             "ticks": ""
            },
            "colorscale": [
             [
              0,
              "#0d0887"
             ],
             [
              0.1111111111111111,
              "#46039f"
             ],
             [
              0.2222222222222222,
              "#7201a8"
             ],
             [
              0.3333333333333333,
              "#9c179e"
             ],
             [
              0.4444444444444444,
              "#bd3786"
             ],
             [
              0.5555555555555556,
              "#d8576b"
             ],
             [
              0.6666666666666666,
              "#ed7953"
             ],
             [
              0.7777777777777778,
              "#fb9f3a"
             ],
             [
              0.8888888888888888,
              "#fdca26"
             ],
             [
              1,
              "#f0f921"
             ]
            ],
            "type": "histogram2dcontour"
           }
          ],
          "mesh3d": [
           {
            "colorbar": {
             "outlinewidth": 0,
             "ticks": ""
            },
            "type": "mesh3d"
           }
          ],
          "parcoords": [
           {
            "line": {
             "colorbar": {
              "outlinewidth": 0,
              "ticks": ""
             }
            },
            "type": "parcoords"
           }
          ],
          "pie": [
           {
            "automargin": true,
            "type": "pie"
           }
          ],
          "scatter": [
           {
            "fillpattern": {
             "fillmode": "overlay",
             "size": 10,
             "solidity": 0.2
            },
            "type": "scatter"
           }
          ],
          "scatter3d": [
           {
            "line": {
             "colorbar": {
              "outlinewidth": 0,
              "ticks": ""
             }
            },
            "marker": {
             "colorbar": {
              "outlinewidth": 0,
              "ticks": ""
             }
            },
            "type": "scatter3d"
           }
          ],
          "scattercarpet": [
           {
            "marker": {
             "colorbar": {
              "outlinewidth": 0,
              "ticks": ""
             }
            },
            "type": "scattercarpet"
           }
          ],
          "scattergeo": [
           {
            "marker": {
             "colorbar": {
              "outlinewidth": 0,
              "ticks": ""
             }
            },
            "type": "scattergeo"
           }
          ],
          "scattergl": [
           {
            "marker": {
             "colorbar": {
              "outlinewidth": 0,
              "ticks": ""
             }
            },
            "type": "scattergl"
           }
          ],
          "scattermapbox": [
           {
            "marker": {
             "colorbar": {
              "outlinewidth": 0,
              "ticks": ""
             }
            },
            "type": "scattermapbox"
           }
          ],
          "scatterpolar": [
           {
            "marker": {
             "colorbar": {
              "outlinewidth": 0,
              "ticks": ""
             }
            },
            "type": "scatterpolar"
           }
          ],
          "scatterpolargl": [
           {
            "marker": {
             "colorbar": {
              "outlinewidth": 0,
              "ticks": ""
             }
            },
            "type": "scatterpolargl"
           }
          ],
          "scatterternary": [
           {
            "marker": {
             "colorbar": {
              "outlinewidth": 0,
              "ticks": ""
             }
            },
            "type": "scatterternary"
           }
          ],
          "surface": [
           {
            "colorbar": {
             "outlinewidth": 0,
             "ticks": ""
            },
            "colorscale": [
             [
              0,
              "#0d0887"
             ],
             [
              0.1111111111111111,
              "#46039f"
             ],
             [
              0.2222222222222222,
              "#7201a8"
             ],
             [
              0.3333333333333333,
              "#9c179e"
             ],
             [
              0.4444444444444444,
              "#bd3786"
             ],
             [
              0.5555555555555556,
              "#d8576b"
             ],
             [
              0.6666666666666666,
              "#ed7953"
             ],
             [
              0.7777777777777778,
              "#fb9f3a"
             ],
             [
              0.8888888888888888,
              "#fdca26"
             ],
             [
              1,
              "#f0f921"
             ]
            ],
            "type": "surface"
           }
          ],
          "table": [
           {
            "cells": {
             "fill": {
              "color": "#EBF0F8"
             },
             "line": {
              "color": "white"
             }
            },
            "header": {
             "fill": {
              "color": "#C8D4E3"
             },
             "line": {
              "color": "white"
             }
            },
            "type": "table"
           }
          ]
         },
         "layout": {
          "annotationdefaults": {
           "arrowcolor": "#2a3f5f",
           "arrowhead": 0,
           "arrowwidth": 1
          },
          "autotypenumbers": "strict",
          "coloraxis": {
           "colorbar": {
            "outlinewidth": 0,
            "ticks": ""
           }
          },
          "colorscale": {
           "diverging": [
            [
             0,
             "#8e0152"
            ],
            [
             0.1,
             "#c51b7d"
            ],
            [
             0.2,
             "#de77ae"
            ],
            [
             0.3,
             "#f1b6da"
            ],
            [
             0.4,
             "#fde0ef"
            ],
            [
             0.5,
             "#f7f7f7"
            ],
            [
             0.6,
             "#e6f5d0"
            ],
            [
             0.7,
             "#b8e186"
            ],
            [
             0.8,
             "#7fbc41"
            ],
            [
             0.9,
             "#4d9221"
            ],
            [
             1,
             "#276419"
            ]
           ],
           "sequential": [
            [
             0,
             "#0d0887"
            ],
            [
             0.1111111111111111,
             "#46039f"
            ],
            [
             0.2222222222222222,
             "#7201a8"
            ],
            [
             0.3333333333333333,
             "#9c179e"
            ],
            [
             0.4444444444444444,
             "#bd3786"
            ],
            [
             0.5555555555555556,
             "#d8576b"
            ],
            [
             0.6666666666666666,
             "#ed7953"
            ],
            [
             0.7777777777777778,
             "#fb9f3a"
            ],
            [
             0.8888888888888888,
             "#fdca26"
            ],
            [
             1,
             "#f0f921"
            ]
           ],
           "sequentialminus": [
            [
             0,
             "#0d0887"
            ],
            [
             0.1111111111111111,
             "#46039f"
            ],
            [
             0.2222222222222222,
             "#7201a8"
            ],
            [
             0.3333333333333333,
             "#9c179e"
            ],
            [
             0.4444444444444444,
             "#bd3786"
            ],
            [
             0.5555555555555556,
             "#d8576b"
            ],
            [
             0.6666666666666666,
             "#ed7953"
            ],
            [
             0.7777777777777778,
             "#fb9f3a"
            ],
            [
             0.8888888888888888,
             "#fdca26"
            ],
            [
             1,
             "#f0f921"
            ]
           ]
          },
          "colorway": [
           "#636efa",
           "#EF553B",
           "#00cc96",
           "#ab63fa",
           "#FFA15A",
           "#19d3f3",
           "#FF6692",
           "#B6E880",
           "#FF97FF",
           "#FECB52"
          ],
          "font": {
           "color": "#2a3f5f"
          },
          "geo": {
           "bgcolor": "white",
           "lakecolor": "white",
           "landcolor": "#E5ECF6",
           "showlakes": true,
           "showland": true,
           "subunitcolor": "white"
          },
          "hoverlabel": {
           "align": "left"
          },
          "hovermode": "closest",
          "mapbox": {
           "style": "light"
          },
          "paper_bgcolor": "white",
          "plot_bgcolor": "#E5ECF6",
          "polar": {
           "angularaxis": {
            "gridcolor": "white",
            "linecolor": "white",
            "ticks": ""
           },
           "bgcolor": "#E5ECF6",
           "radialaxis": {
            "gridcolor": "white",
            "linecolor": "white",
            "ticks": ""
           }
          },
          "scene": {
           "xaxis": {
            "backgroundcolor": "#E5ECF6",
            "gridcolor": "white",
            "gridwidth": 2,
            "linecolor": "white",
            "showbackground": true,
            "ticks": "",
            "zerolinecolor": "white"
           },
           "yaxis": {
            "backgroundcolor": "#E5ECF6",
            "gridcolor": "white",
            "gridwidth": 2,
            "linecolor": "white",
            "showbackground": true,
            "ticks": "",
            "zerolinecolor": "white"
           },
           "zaxis": {
            "backgroundcolor": "#E5ECF6",
            "gridcolor": "white",
            "gridwidth": 2,
            "linecolor": "white",
            "showbackground": true,
            "ticks": "",
            "zerolinecolor": "white"
           }
          },
          "shapedefaults": {
           "line": {
            "color": "#2a3f5f"
           }
          },
          "ternary": {
           "aaxis": {
            "gridcolor": "white",
            "linecolor": "white",
            "ticks": ""
           },
           "baxis": {
            "gridcolor": "white",
            "linecolor": "white",
            "ticks": ""
           },
           "bgcolor": "#E5ECF6",
           "caxis": {
            "gridcolor": "white",
            "linecolor": "white",
            "ticks": ""
           }
          },
          "title": {
           "x": 0.05
          },
          "xaxis": {
           "automargin": true,
           "gridcolor": "white",
           "linecolor": "white",
           "ticks": "",
           "title": {
            "standoff": 15
           },
           "zerolinecolor": "white",
           "zerolinewidth": 2
          },
          "yaxis": {
           "automargin": true,
           "gridcolor": "white",
           "linecolor": "white",
           "ticks": "",
           "title": {
            "standoff": 15
           },
           "zerolinecolor": "white",
           "zerolinewidth": 2
          }
         }
        },
        "title": {
         "text": "3D Vector Plot"
        },
        "width": 700
       }
      },
      "text/html": [
       "<div>                            <div id=\"3ae6bc14-623c-4776-ad86-143d755b6a78\" class=\"plotly-graph-div\" style=\"height:400px; width:700px;\"></div>            <script type=\"text/javascript\">                require([\"plotly\"], function(Plotly) {                    window.PLOTLYENV=window.PLOTLYENV || {};                                    if (document.getElementById(\"3ae6bc14-623c-4776-ad86-143d755b6a78\")) {                    Plotly.newPlot(                        \"3ae6bc14-623c-4776-ad86-143d755b6a78\",                        [{\"marker\":{\"color\":[7.030646256515436,6.782653523972492,6.817360787914556,6.9020173161504905,6.760645672602019,7.243993487063819,6.876866907715129,6.905462322891754,7.119828494544389,6.678773078986018,7.219586485439165,6.691479786381149,6.870413516938439,6.811861745913638,7.1427845430391175,7.323095903094251,7.016895800995479,6.828502700314636,7.317906934351903,6.971739671465661,6.8572051640261655,6.882210441992465,6.73524854116164,6.892675444137343,7.263308347454858,7.014730446528334,7.116225642265053,7.1509814650885595,7.193449255417277,7.100738038367766,6.922810863528306,7.226754009070382,7.133184383768312,6.730105615017377,7.010419325980822,7.109780781812909,6.920880586335209,6.782286801658842,7.192321831482135,6.966058838871937,7.074091461684762,7.348040630433889,7.0652879678482785,6.934992221625707,6.917233214364035,7.210264677770807,7.098999007266098,7.142517828798604,6.721088016338486,7.216228758232711,6.8024862521439,6.756464727032632,6.8963235637388305,6.827271451872149,7.019023244038509,7.209106329546065,6.77908626122767,6.704083514007528,7.2674065662201235,6.7993681282816025,7.288145538841747,6.772733479489188,6.865543571609906,7.21691640114431,7.023830728500172,7.117336323187792,7.209545372156812,7.159624698780345,7.234747882551536,6.882547990273554,6.944519802270885,7.195130976347886,7.298439781495424,6.996434437528919,6.704777817616581,6.989405599044292,7.093553746011987,6.980159276574703,7.067991781666249,7.236600921821772,6.878616868206185,6.982133199172721,6.807509934382456,6.767087771567282,6.996971544535392,6.859150017620839,6.850776288002667,7.142394640521148,6.666689826046223,6.77856328697361,7.0583992772305955,7.265673663470186,7.103168109003043,7.058340805525647,6.8003028723434955,6.668728893086573,7.095595032840415,6.720922501761451,6.750196949625632,6.930121863163049,7.093822072727649],\"colorscale\":[[0.0,\"#0508b8\"],[0.08333333333333333,\"#1910d8\"],[0.16666666666666666,\"#3c19f0\"],[0.25,\"#6b1cfb\"],[0.3333333333333333,\"#981cfd\"],[0.4166666666666667,\"#bf1cfd\"],[0.5,\"#dd2bfd\"],[0.5833333333333334,\"#f246fe\"],[0.6666666666666666,\"#fc67fd\"],[0.75,\"#fe88fc\"],[0.8333333333333334,\"#fea5fd\"],[0.9166666666666666,\"#febefe\"],[1.0,\"#fec3fe\"]],\"opacity\":0.9,\"size\":10},\"mode\":\"markers\",\"x\":[0.7256257488596012,1.2493266654056154,0.8315305797459251,0.606970226214648,1.022651866492611,1.1875146291297343,1.4847300431192072,0.8867749033482696,1.2483395630384169,1.0786459163818025,0.7634200287996528,0.6206400334080717,0.6373641826709875,0.7250991867692479,0.8453672651801067,1.2956506196039161,0.9618423736981342,0.9427431900568537,1.2306171259027021,1.3416780384871736,0.6358958342925779,0.8770610830112164,0.5820435678269534,1.499962624200987,1.2601868719890275,0.9610189183387097,1.4632741934267284,1.2453027079579801,1.157498409959532,0.9505290250828148,0.7815643455027889,1.0081191213185043,0.786952202638028,0.7798237316441992,0.7074275446718068,0.6512037664449869,0.5624131537864608,0.7486477071670946,1.2539891915126176,1.2516865623349083,1.349043348354836,0.6346271492098475,0.8425926232126555,0.690301454792789,1.504384738489422,1.2332186637651266,0.8335203912078665,0.9402603711317389,1.44798810705684,1.3967568702301705,1.3680019560936127,0.9640333908551363,1.1303434719031402,1.0532872979671712,0.9605970925491308,0.6442343715752289,1.2689997775033222,1.10831967194226,1.1089153318078155,1.2307921049178736,0.6964027525210212,0.5583078412775719,0.7050861663250829,0.9475423545250846,1.4178087846126537,0.785428131249153,1.068228246991512,1.4594987764626575,0.5708725719981456,0.7520172594110827,0.8579600490475172,1.4170376377515472,0.7135159355134727,1.0663042090457104,0.9811022965824597,0.5412798098380345,0.875316180988017,1.11834957503203,0.9064944029004834,0.5098596123804618,1.3706189024424034,1.1400843901420754,1.293161964845411,1.0811272735693536,0.9897778328508284,1.4543970645649296,0.8515126277088637,0.6199229276210333,0.6015208883153494,0.9873287942140845,0.8529223131773546,0.615251084109324,1.3379729622854932,0.5645263836971299,1.1092585737054697,1.1657934110368862,1.390397166731953,0.943073858856904,0.7451101082493308,1.2196704348471823,0.8771069179222553],\"y\":[1.0276285122406514,1.20834658474042,1.2799673909199845,1.1742505408951573,1.2913582443034155,0.6765830637337751,1.0615928131124674,1.1002832162151337,0.814466490860273,1.3348957390629774,0.7770857234329619,1.4203521819623326,1.2076652701931827,1.2656295048702875,0.8608816725376961,0.5903056426801552,0.9787847908923977,1.1764333642619347,0.6063861851104196,0.9706026701820776,1.2450872841141276,1.1556772576607948,1.3591757783174798,1.0383381550263118,0.6609747579704227,0.9673107091688382,0.7915704857071695,0.7950962298807212,0.7514457699619354,0.9053443630335041,1.1140442396147712,0.7316737148962766,0.8787642223803213,1.35804592296035,1.0315812208758703,0.9117344206695682,1.154571633591054,1.2874019239898473,0.7046762116412949,1.0249567560320088,0.8716490398125758,0.6599311404151278,0.9357362163226234,1.1474811516358931,1.0225578187185407,0.7302748985826208,0.9107602332362792,0.852212015450629,1.2597697665868344,0.6462541875979861,1.1422024081507347,1.3120847141222558,1.1133100264429132,1.2055968721418782,0.9845352374549576,0.7791507530494506,1.233625645582871,1.3166877839920235,0.6811309997646985,1.2032551758499561,0.7119417768164527,1.3234545429199098,1.2274069604099287,0.7548728519852644,0.913672333396184,0.8997731168386889,0.7316184773745427,0.754957270176388,0.8045590075617152,1.1862735279126981,1.0795216751386505,0.703389502634912,0.7093653084988203,0.9740091199953285,1.3375236392550531,1.1164644789647629,0.913177014129827,1.0178582701945567,0.9444549904323467,0.8091711698973851,1.0677605225212643,0.9895981693984506,1.1811794489087446,1.2431115453374801,1.0069864211930228,1.1108348310640317,1.1972458823308614,0.8782971898707129,1.4391863347423202,1.2658267756662005,0.9377243338214762,0.7633425525540982,0.8239971680257989,1.0023148714859191,1.2215853593321266,1.3711994062283117,0.82855089667528,1.320711902160789,1.3342381789588846,1.0279994200245264,0.8780415349306572],\"z\":[7.030646256515436,6.782653523972492,6.817360787914556,6.9020173161504905,6.760645672602019,7.243993487063819,6.876866907715129,6.905462322891754,7.119828494544389,6.678773078986018,7.219586485439165,6.691479786381149,6.870413516938439,6.811861745913638,7.1427845430391175,7.323095903094251,7.016895800995479,6.828502700314636,7.317906934351903,6.971739671465661,6.8572051640261655,6.882210441992465,6.73524854116164,6.892675444137343,7.263308347454858,7.014730446528334,7.116225642265053,7.1509814650885595,7.193449255417277,7.100738038367766,6.922810863528306,7.226754009070382,7.133184383768312,6.730105615017377,7.010419325980822,7.109780781812909,6.920880586335209,6.782286801658842,7.192321831482135,6.966058838871937,7.074091461684762,7.348040630433889,7.0652879678482785,6.934992221625707,6.917233214364035,7.210264677770807,7.098999007266098,7.142517828798604,6.721088016338486,7.216228758232711,6.8024862521439,6.756464727032632,6.8963235637388305,6.827271451872149,7.019023244038509,7.209106329546065,6.77908626122767,6.704083514007528,7.2674065662201235,6.7993681282816025,7.288145538841747,6.772733479489188,6.865543571609906,7.21691640114431,7.023830728500172,7.117336323187792,7.209545372156812,7.159624698780345,7.234747882551536,6.882547990273554,6.944519802270885,7.195130976347886,7.298439781495424,6.996434437528919,6.704777817616581,6.989405599044292,7.093553746011987,6.980159276574703,7.067991781666249,7.236600921821772,6.878616868206185,6.982133199172721,6.807509934382456,6.767087771567282,6.996971544535392,6.859150017620839,6.850776288002667,7.142394640521148,6.666689826046223,6.77856328697361,7.0583992772305955,7.265673663470186,7.103168109003043,7.058340805525647,6.8003028723434955,6.668728893086573,7.095595032840415,6.720922501761451,6.750196949625632,6.930121863163049,7.093822072727649],\"type\":\"scatter3d\"},{\"line\":{\"color\":\"darkblue\",\"width\":2},\"marker\":{\"opacity\":0.5,\"size\":5},\"x\":[0.9873296971221178,1.6480283967081661],\"y\":[1.0148749952908471,0.40246915883270973],\"z\":[6.988677288390576,7.422769812902706],\"type\":\"scatter3d\"},{\"anchor\":\"tip\",\"showscale\":false,\"sizemode\":\"scaled\",\"sizeref\":0.1,\"u\":[0.6606986995860484],\"v\":[-0.6124058364581375],\"w\":[0.4340925245121295],\"x\":[1.6480283967081661],\"y\":[0.40246915883270973],\"z\":[7.422769812902706],\"type\":\"cone\"},{\"line\":{\"color\":\"darkblue\",\"width\":2},\"marker\":{\"opacity\":0.5,\"size\":5},\"x\":[0.9873296971221178,0.24388380896995776],\"y\":[1.0148749952908471,0.5609614836602297],\"z\":[6.988677288390576,7.479850104565095],\"type\":\"scatter3d\"},{\"anchor\":\"tip\",\"showscale\":false,\"sizemode\":\"scaled\",\"sizeref\":0.1,\"u\":[-0.74344588815216],\"v\":[-0.45391351163061733],\"w\":[0.4911728161745187],\"x\":[0.24388380896995776],\"y\":[0.5609614836602297],\"z\":[7.479850104565095],\"type\":\"cone\"},{\"line\":{\"color\":\"darkblue\",\"width\":2},\"marker\":{\"opacity\":0.5,\"size\":5},\"x\":[0.9873296971221178,1.0910863342830721],\"y\":[1.0148749952908471,1.6621165386355017],\"z\":[6.988677288390576,7.743867956244649],\"type\":\"scatter3d\"},{\"anchor\":\"tip\",\"showscale\":false,\"sizemode\":\"scaled\",\"sizeref\":0.1,\"u\":[0.10375663716095429],\"v\":[0.6472415433446546],\"w\":[0.7551906678540723],\"x\":[1.0910863342830721],\"y\":[1.6621165386355017],\"z\":[7.743867956244649],\"type\":\"cone\"}],                        {\"template\":{\"data\":{\"histogram2dcontour\":[{\"type\":\"histogram2dcontour\",\"colorbar\":{\"outlinewidth\":0,\"ticks\":\"\"},\"colorscale\":[[0.0,\"#0d0887\"],[0.1111111111111111,\"#46039f\"],[0.2222222222222222,\"#7201a8\"],[0.3333333333333333,\"#9c179e\"],[0.4444444444444444,\"#bd3786\"],[0.5555555555555556,\"#d8576b\"],[0.6666666666666666,\"#ed7953\"],[0.7777777777777778,\"#fb9f3a\"],[0.8888888888888888,\"#fdca26\"],[1.0,\"#f0f921\"]]}],\"choropleth\":[{\"type\":\"choropleth\",\"colorbar\":{\"outlinewidth\":0,\"ticks\":\"\"}}],\"histogram2d\":[{\"type\":\"histogram2d\",\"colorbar\":{\"outlinewidth\":0,\"ticks\":\"\"},\"colorscale\":[[0.0,\"#0d0887\"],[0.1111111111111111,\"#46039f\"],[0.2222222222222222,\"#7201a8\"],[0.3333333333333333,\"#9c179e\"],[0.4444444444444444,\"#bd3786\"],[0.5555555555555556,\"#d8576b\"],[0.6666666666666666,\"#ed7953\"],[0.7777777777777778,\"#fb9f3a\"],[0.8888888888888888,\"#fdca26\"],[1.0,\"#f0f921\"]]}],\"heatmap\":[{\"type\":\"heatmap\",\"colorbar\":{\"outlinewidth\":0,\"ticks\":\"\"},\"colorscale\":[[0.0,\"#0d0887\"],[0.1111111111111111,\"#46039f\"],[0.2222222222222222,\"#7201a8\"],[0.3333333333333333,\"#9c179e\"],[0.4444444444444444,\"#bd3786\"],[0.5555555555555556,\"#d8576b\"],[0.6666666666666666,\"#ed7953\"],[0.7777777777777778,\"#fb9f3a\"],[0.8888888888888888,\"#fdca26\"],[1.0,\"#f0f921\"]]}],\"heatmapgl\":[{\"type\":\"heatmapgl\",\"colorbar\":{\"outlinewidth\":0,\"ticks\":\"\"},\"colorscale\":[[0.0,\"#0d0887\"],[0.1111111111111111,\"#46039f\"],[0.2222222222222222,\"#7201a8\"],[0.3333333333333333,\"#9c179e\"],[0.4444444444444444,\"#bd3786\"],[0.5555555555555556,\"#d8576b\"],[0.6666666666666666,\"#ed7953\"],[0.7777777777777778,\"#fb9f3a\"],[0.8888888888888888,\"#fdca26\"],[1.0,\"#f0f921\"]]}],\"contourcarpet\":[{\"type\":\"contourcarpet\",\"colorbar\":{\"outlinewidth\":0,\"ticks\":\"\"}}],\"contour\":[{\"type\":\"contour\",\"colorbar\":{\"outlinewidth\":0,\"ticks\":\"\"},\"colorscale\":[[0.0,\"#0d0887\"],[0.1111111111111111,\"#46039f\"],[0.2222222222222222,\"#7201a8\"],[0.3333333333333333,\"#9c179e\"],[0.4444444444444444,\"#bd3786\"],[0.5555555555555556,\"#d8576b\"],[0.6666666666666666,\"#ed7953\"],[0.7777777777777778,\"#fb9f3a\"],[0.8888888888888888,\"#fdca26\"],[1.0,\"#f0f921\"]]}],\"surface\":[{\"type\":\"surface\",\"colorbar\":{\"outlinewidth\":0,\"ticks\":\"\"},\"colorscale\":[[0.0,\"#0d0887\"],[0.1111111111111111,\"#46039f\"],[0.2222222222222222,\"#7201a8\"],[0.3333333333333333,\"#9c179e\"],[0.4444444444444444,\"#bd3786\"],[0.5555555555555556,\"#d8576b\"],[0.6666666666666666,\"#ed7953\"],[0.7777777777777778,\"#fb9f3a\"],[0.8888888888888888,\"#fdca26\"],[1.0,\"#f0f921\"]]}],\"mesh3d\":[{\"type\":\"mesh3d\",\"colorbar\":{\"outlinewidth\":0,\"ticks\":\"\"}}],\"scatter\":[{\"fillpattern\":{\"fillmode\":\"overlay\",\"size\":10,\"solidity\":0.2},\"type\":\"scatter\"}],\"parcoords\":[{\"type\":\"parcoords\",\"line\":{\"colorbar\":{\"outlinewidth\":0,\"ticks\":\"\"}}}],\"scatterpolargl\":[{\"type\":\"scatterpolargl\",\"marker\":{\"colorbar\":{\"outlinewidth\":0,\"ticks\":\"\"}}}],\"bar\":[{\"error_x\":{\"color\":\"#2a3f5f\"},\"error_y\":{\"color\":\"#2a3f5f\"},\"marker\":{\"line\":{\"color\":\"#E5ECF6\",\"width\":0.5},\"pattern\":{\"fillmode\":\"overlay\",\"size\":10,\"solidity\":0.2}},\"type\":\"bar\"}],\"scattergeo\":[{\"type\":\"scattergeo\",\"marker\":{\"colorbar\":{\"outlinewidth\":0,\"ticks\":\"\"}}}],\"scatterpolar\":[{\"type\":\"scatterpolar\",\"marker\":{\"colorbar\":{\"outlinewidth\":0,\"ticks\":\"\"}}}],\"histogram\":[{\"marker\":{\"pattern\":{\"fillmode\":\"overlay\",\"size\":10,\"solidity\":0.2}},\"type\":\"histogram\"}],\"scattergl\":[{\"type\":\"scattergl\",\"marker\":{\"colorbar\":{\"outlinewidth\":0,\"ticks\":\"\"}}}],\"scatter3d\":[{\"type\":\"scatter3d\",\"line\":{\"colorbar\":{\"outlinewidth\":0,\"ticks\":\"\"}},\"marker\":{\"colorbar\":{\"outlinewidth\":0,\"ticks\":\"\"}}}],\"scattermapbox\":[{\"type\":\"scattermapbox\",\"marker\":{\"colorbar\":{\"outlinewidth\":0,\"ticks\":\"\"}}}],\"scatterternary\":[{\"type\":\"scatterternary\",\"marker\":{\"colorbar\":{\"outlinewidth\":0,\"ticks\":\"\"}}}],\"scattercarpet\":[{\"type\":\"scattercarpet\",\"marker\":{\"colorbar\":{\"outlinewidth\":0,\"ticks\":\"\"}}}],\"carpet\":[{\"aaxis\":{\"endlinecolor\":\"#2a3f5f\",\"gridcolor\":\"white\",\"linecolor\":\"white\",\"minorgridcolor\":\"white\",\"startlinecolor\":\"#2a3f5f\"},\"baxis\":{\"endlinecolor\":\"#2a3f5f\",\"gridcolor\":\"white\",\"linecolor\":\"white\",\"minorgridcolor\":\"white\",\"startlinecolor\":\"#2a3f5f\"},\"type\":\"carpet\"}],\"table\":[{\"cells\":{\"fill\":{\"color\":\"#EBF0F8\"},\"line\":{\"color\":\"white\"}},\"header\":{\"fill\":{\"color\":\"#C8D4E3\"},\"line\":{\"color\":\"white\"}},\"type\":\"table\"}],\"barpolar\":[{\"marker\":{\"line\":{\"color\":\"#E5ECF6\",\"width\":0.5},\"pattern\":{\"fillmode\":\"overlay\",\"size\":10,\"solidity\":0.2}},\"type\":\"barpolar\"}],\"pie\":[{\"automargin\":true,\"type\":\"pie\"}]},\"layout\":{\"autotypenumbers\":\"strict\",\"colorway\":[\"#636efa\",\"#EF553B\",\"#00cc96\",\"#ab63fa\",\"#FFA15A\",\"#19d3f3\",\"#FF6692\",\"#B6E880\",\"#FF97FF\",\"#FECB52\"],\"font\":{\"color\":\"#2a3f5f\"},\"hovermode\":\"closest\",\"hoverlabel\":{\"align\":\"left\"},\"paper_bgcolor\":\"white\",\"plot_bgcolor\":\"#E5ECF6\",\"polar\":{\"bgcolor\":\"#E5ECF6\",\"angularaxis\":{\"gridcolor\":\"white\",\"linecolor\":\"white\",\"ticks\":\"\"},\"radialaxis\":{\"gridcolor\":\"white\",\"linecolor\":\"white\",\"ticks\":\"\"}},\"ternary\":{\"bgcolor\":\"#E5ECF6\",\"aaxis\":{\"gridcolor\":\"white\",\"linecolor\":\"white\",\"ticks\":\"\"},\"baxis\":{\"gridcolor\":\"white\",\"linecolor\":\"white\",\"ticks\":\"\"},\"caxis\":{\"gridcolor\":\"white\",\"linecolor\":\"white\",\"ticks\":\"\"}},\"coloraxis\":{\"colorbar\":{\"outlinewidth\":0,\"ticks\":\"\"}},\"colorscale\":{\"sequential\":[[0.0,\"#0d0887\"],[0.1111111111111111,\"#46039f\"],[0.2222222222222222,\"#7201a8\"],[0.3333333333333333,\"#9c179e\"],[0.4444444444444444,\"#bd3786\"],[0.5555555555555556,\"#d8576b\"],[0.6666666666666666,\"#ed7953\"],[0.7777777777777778,\"#fb9f3a\"],[0.8888888888888888,\"#fdca26\"],[1.0,\"#f0f921\"]],\"sequentialminus\":[[0.0,\"#0d0887\"],[0.1111111111111111,\"#46039f\"],[0.2222222222222222,\"#7201a8\"],[0.3333333333333333,\"#9c179e\"],[0.4444444444444444,\"#bd3786\"],[0.5555555555555556,\"#d8576b\"],[0.6666666666666666,\"#ed7953\"],[0.7777777777777778,\"#fb9f3a\"],[0.8888888888888888,\"#fdca26\"],[1.0,\"#f0f921\"]],\"diverging\":[[0,\"#8e0152\"],[0.1,\"#c51b7d\"],[0.2,\"#de77ae\"],[0.3,\"#f1b6da\"],[0.4,\"#fde0ef\"],[0.5,\"#f7f7f7\"],[0.6,\"#e6f5d0\"],[0.7,\"#b8e186\"],[0.8,\"#7fbc41\"],[0.9,\"#4d9221\"],[1,\"#276419\"]]},\"xaxis\":{\"gridcolor\":\"white\",\"linecolor\":\"white\",\"ticks\":\"\",\"title\":{\"standoff\":15},\"zerolinecolor\":\"white\",\"automargin\":true,\"zerolinewidth\":2},\"yaxis\":{\"gridcolor\":\"white\",\"linecolor\":\"white\",\"ticks\":\"\",\"title\":{\"standoff\":15},\"zerolinecolor\":\"white\",\"automargin\":true,\"zerolinewidth\":2},\"scene\":{\"xaxis\":{\"backgroundcolor\":\"#E5ECF6\",\"gridcolor\":\"white\",\"linecolor\":\"white\",\"showbackground\":true,\"ticks\":\"\",\"zerolinecolor\":\"white\",\"gridwidth\":2},\"yaxis\":{\"backgroundcolor\":\"#E5ECF6\",\"gridcolor\":\"white\",\"linecolor\":\"white\",\"showbackground\":true,\"ticks\":\"\",\"zerolinecolor\":\"white\",\"gridwidth\":2},\"zaxis\":{\"backgroundcolor\":\"#E5ECF6\",\"gridcolor\":\"white\",\"linecolor\":\"white\",\"showbackground\":true,\"ticks\":\"\",\"zerolinecolor\":\"white\",\"gridwidth\":2}},\"shapedefaults\":{\"line\":{\"color\":\"#2a3f5f\"}},\"annotationdefaults\":{\"arrowcolor\":\"#2a3f5f\",\"arrowhead\":0,\"arrowwidth\":1},\"geo\":{\"bgcolor\":\"white\",\"landcolor\":\"#E5ECF6\",\"subunitcolor\":\"white\",\"showland\":true,\"showlakes\":true,\"lakecolor\":\"white\"},\"title\":{\"x\":0.05},\"mapbox\":{\"style\":\"light\"}}},\"margin\":{\"l\":0,\"r\":0,\"b\":0,\"t\":30},\"title\":{\"text\":\"3D Vector Plot\"},\"width\":700,\"height\":400},                        {\"responsive\": true}                    ).then(function(){\n",
       "                            \n",
       "var gd = document.getElementById('3ae6bc14-623c-4776-ad86-143d755b6a78');\n",
       "var x = new MutationObserver(function (mutations, observer) {{\n",
       "        var display = window.getComputedStyle(gd).display;\n",
       "        if (!display || display === 'none') {{\n",
       "            console.log([gd, 'removed!']);\n",
       "            Plotly.purge(gd);\n",
       "            observer.disconnect();\n",
       "        }}\n",
       "}});\n",
       "\n",
       "// Listen for the removal of the full notebook cells\n",
       "var notebookContainer = gd.closest('#notebook-container');\n",
       "if (notebookContainer) {{\n",
       "    x.observe(notebookContainer, {childList: true});\n",
       "}}\n",
       "\n",
       "// Listen for the clearing of the current output cell\n",
       "var outputEl = gd.closest('.output');\n",
       "if (outputEl) {{\n",
       "    x.observe(outputEl, {childList: true});\n",
       "}}\n",
       "\n",
       "                        })                };                });            </script>        </div>"
      ]
     },
     "metadata": {},
     "output_type": "display_data"
    }
   ],
   "source": [
    "fig3 = go.Figure(data=fig1.data + fig2.data)\n",
    "fig3.update_layout(margin={'l': 0, 'r': 0, 'b': 0, 't': 30},title = '3D Vector Plot',width=700,height=400,)\n",
    "fig3"
   ]
  },
  {
   "cell_type": "code",
   "execution_count": 11,
   "id": "b8aae80e-c590-4ee4-bb30-c1ec94b52bdf",
   "metadata": {
    "execution": {
     "iopub.execute_input": "2024-12-20T21:22:38.004636Z",
     "iopub.status.busy": "2024-12-20T21:22:38.004636Z",
     "iopub.status.idle": "2024-12-20T21:22:38.008192Z",
     "shell.execute_reply": "2024-12-20T21:22:38.007862Z",
     "shell.execute_reply.started": "2024-12-20T21:22:38.004636Z"
    }
   },
   "outputs": [],
   "source": [
    "# list=[[1,2,3],[4,6,6],[7,8,9],[10,11,12],[2,5,6]]\n",
    "# fig2=pl.plot_3d_line(list)\n",
    "# fig2.show()"
   ]
  },
  {
   "cell_type": "code",
   "execution_count": null,
   "id": "f816d6c3-b963-41cb-9c93-ac2c8116f446",
   "metadata": {},
   "outputs": [],
   "source": []
  },
  {
   "cell_type": "code",
   "execution_count": null,
   "id": "f8a6e683-c144-43b3-959b-3447a00916da",
   "metadata": {},
   "outputs": [],
   "source": []
  },
  {
   "cell_type": "code",
   "execution_count": null,
   "id": "428d393d-701c-4e35-b653-dc03437d0e54",
   "metadata": {},
   "outputs": [],
   "source": []
  },
  {
   "cell_type": "code",
   "execution_count": null,
   "id": "90e56723-9194-4d20-9e58-631724114862",
   "metadata": {},
   "outputs": [],
   "source": []
  },
  {
   "cell_type": "code",
   "execution_count": null,
   "id": "746d6407-5e84-4453-a178-26921bdd53db",
   "metadata": {},
   "outputs": [],
   "source": []
  },
  {
   "cell_type": "code",
   "execution_count": null,
   "id": "f64fb230-7ec7-4d76-9167-783de74a9761",
   "metadata": {},
   "outputs": [],
   "source": []
  },
  {
   "cell_type": "code",
   "execution_count": null,
   "id": "6ba327cb-f8c8-4419-91b4-1987eab6d6f3",
   "metadata": {},
   "outputs": [],
   "source": []
  },
  {
   "cell_type": "code",
   "execution_count": null,
   "id": "491b5123-7642-4ece-bff3-01f1fd659d26",
   "metadata": {},
   "outputs": [],
   "source": []
  },
  {
   "cell_type": "code",
   "execution_count": null,
   "id": "ea048b4b-2ad8-476a-b7bb-a252c00d2e5b",
   "metadata": {},
   "outputs": [],
   "source": []
  }
 ],
 "metadata": {
  "kernelspec": {
   "display_name": "Python 3 (ipykernel)",
   "language": "python",
   "name": "python3"
  },
  "language_info": {
   "codemirror_mode": {
    "name": "ipython",
    "version": 3
   },
   "file_extension": ".py",
   "mimetype": "text/x-python",
   "name": "python",
   "nbconvert_exporter": "python",
   "pygments_lexer": "ipython3",
   "version": "3.12.1"
  }
 },
 "nbformat": 4,
 "nbformat_minor": 5
}
