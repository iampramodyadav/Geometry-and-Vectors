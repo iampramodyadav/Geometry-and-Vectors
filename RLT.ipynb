{
 "cells": [
  {
   "cell_type": "code",
   "execution_count": 1,
   "id": "e8db2a1a-0b3b-4b05-a18d-e5e2b12e742b",
   "metadata": {
    "execution": {
     "iopub.execute_input": "2024-02-12T17:47:40.054002Z",
     "iopub.status.busy": "2024-02-12T17:47:40.054002Z",
     "iopub.status.idle": "2024-02-12T17:47:40.381351Z",
     "shell.execute_reply": "2024-02-12T17:47:40.380327Z",
     "shell.execute_reply.started": "2024-02-12T17:47:40.054002Z"
    }
   },
   "outputs": [],
   "source": [
    "import numpy as np"
   ]
  },
  {
   "cell_type": "markdown",
   "id": "1ecb7116-d621-4e30-9b2b-ddc3a2131361",
   "metadata": {},
   "source": [
    "## Load RLT from a CSYS to another CSYS"
   ]
  },
  {
   "cell_type": "markdown",
   "id": "a708fb8f-934e-436a-bf0b-877205c0778d",
   "metadata": {},
   "source": [
    "**Scale input vectors individually to unit norm (vector length)**"
   ]
  },
  {
   "cell_type": "code",
   "execution_count": 12,
   "id": "886ac5b8-9ea8-4d0d-a846-381ef4f3a1f5",
   "metadata": {
    "execution": {
     "iopub.execute_input": "2024-02-13T07:42:46.926658Z",
     "iopub.status.busy": "2024-02-13T07:42:46.925746Z",
     "iopub.status.idle": "2024-02-13T07:42:46.943833Z",
     "shell.execute_reply": "2024-02-13T07:42:46.943282Z",
     "shell.execute_reply.started": "2024-02-13T07:42:46.926658Z"
    }
   },
   "outputs": [
    {
     "name": "stdout",
     "output_type": "stream",
     "text": [
      "normalized vector: [[1. 0. 0.]\n",
      " [0. 1. 0.]\n",
      " [0. 0. 1.]]\n"
     ]
    }
   ],
   "source": [
    "def unit_vector(data, axis=None):\n",
    "    \"\"\"Return ndarray normalized by length, i.e. Euclidean norm, along axis.\n",
    "    \"\"\"\n",
    "    data = np.array(data, dtype=np.float64, copy=True)\n",
    "    if data.ndim == 1:\n",
    "        data /= math.sqrt(np.dot(data, data))\n",
    "        return data\n",
    "        \n",
    "    length = np.atleast_1d(np.sum(data * data, axis))\n",
    "    np.sqrt(length, length)\n",
    "    if axis is not None:\n",
    "        length = np.expand_dims(length, axis)\n",
    "    data /= length\n",
    "    return data\n",
    "    \n",
    "if __name__ == \"__main__\":\n",
    "    basis_from = np.array([[10, 0, 0], [0, 100, 0], [0, 0, 1000]])\n",
    "    print(f\"normalized vector: {unit_vector(basis_from, axis = 1)}\")"
   ]
  },
  {
   "cell_type": "code",
   "execution_count": 16,
   "id": "2e96cae7-da07-4b96-b5ac-f9111451eef3",
   "metadata": {
    "execution": {
     "iopub.execute_input": "2024-02-13T07:44:56.962553Z",
     "iopub.status.busy": "2024-02-13T07:44:56.961550Z",
     "iopub.status.idle": "2024-02-13T07:44:56.984565Z",
     "shell.execute_reply": "2024-02-13T07:44:56.982000Z",
     "shell.execute_reply.started": "2024-02-13T07:44:56.962553Z"
    }
   },
   "outputs": [
    {
     "name": "stdout",
     "output_type": "stream",
     "text": [
      "force RLT = [10.60660172 -3.53553391  2.        ]\n",
      "Moment RLT= [ -1.41421356 -31.11269837  17.        ]\n"
     ]
    }
   ],
   "source": [
    "import numpy as np\n",
    "\n",
    "def load_rlt(force, moment, origin_from, basis_from, origin_to, basis_to):\n",
    "  \"\"\"\n",
    "  Transforms a force vector and calculates its moment in another coordinate system.\n",
    "\n",
    "  Args:\n",
    "    force: A 3D numpy array representing the force vector in the source system.\n",
    "    moment: A 3D numpy array representing the moment vector in the source system.\n",
    "    origin_from: A 3D numpy array representing the origin of the source system.\n",
    "    basis_from: A 3x3 numpy array representing the basis vectors of the source system (from global)\n",
    "    origin_to: A 3D numpy array representing the origin of the target system.\n",
    "    basis_to: A 3x3 numpy array representing the basis vectors of the target system(from global)\n",
    "\n",
    "  Returns:\n",
    "    A tuple containing:\n",
    "      transformed_force: A 3D numpy array representing the transformed force vector.\n",
    "      transformed_moment: A 3D numpy array representing the moment in the target system.\n",
    "  \"\"\"\n",
    "\n",
    "  # Check if basis vectors are orthonormal (normalized and orthogonal)\n",
    "  for i in range(3):\n",
    "    for j in range(i + 1, 3):\n",
    "      dot_product = np.dot(basis_from[:, i], basis_from[:, j])\n",
    "      if abs(dot_product) > 1e-6:\n",
    "        raise ValueError(\"Basis vectors in basis_from must be orthonormal.\")\n",
    "      dot_product = np.dot(basis_to[:, i], basis_to[:, j])\n",
    "      if abs(dot_product) > 1e-6:\n",
    "        raise ValueError(\"Basis vectors in basis_to must be orthonormal.\")\n",
    "          \n",
    "  # normalized basis (axis)        \n",
    "  basis_from = unit_vector(basis_from, axis=1)\n",
    "  basis_to = unit_vector(basis_to, axis=1)\n",
    "    \n",
    "  # Transform force and moment vector\n",
    "  transformed_force  = np.dot(basis_to.T, np.dot(basis_from, force))\n",
    "  transformed_moment = np.dot(basis_to.T, np.dot(basis_from, moment))\n",
    "    \n",
    "  # Calculate position vector relative to origin of target system\n",
    "  position_global = np.dot(basis_to.T, (origin_from - origin_to))\n",
    "  # Calculate transformed moment components\n",
    "  transformed_force_moment = np.cross(position_global, transformed_force)\n",
    "  transformed_total_force = transformed_force_moment + transformed_moment\n",
    "  return transformed_force, transformed_total_force\n",
    "\n",
    "\n",
    "if __name__ == \"__main__\":\n",
    "    force = np.array([10, 5, 2])\n",
    "    moment = np.array([10, 5, 2])\n",
    "    \n",
    "    origin_from = np.array([0, 0, 0])\n",
    "    basis_from = np.array([[1, 0, 0], [0, 1, 0], [0, 0, 1]])\n",
    "    origin_to = np.array([1, 2, 3])\n",
    "    basis_to = np.array([[0.707, -0.707, 0], [0.707, 0.707, 0], [0, 0, 1]])\n",
    "    \n",
    "    transformed_force, transformed_moment = load_rlt(force,moment, origin_from, basis_from, origin_to, basis_to)\n",
    "    print(f\"force RLT = {transformed_force}\")\n",
    "    print(f\"Moment RLT= {transformed_moment}\")"
   ]
  },
  {
   "cell_type": "code",
   "execution_count": 14,
   "id": "488f661f-2606-4670-b258-f6654e4a41ec",
   "metadata": {
    "execution": {
     "iopub.execute_input": "2024-02-13T07:42:49.158529Z",
     "iopub.status.busy": "2024-02-13T07:42:49.158529Z",
     "iopub.status.idle": "2024-02-13T07:42:49.181020Z",
     "shell.execute_reply": "2024-02-13T07:42:49.181020Z",
     "shell.execute_reply.started": "2024-02-13T07:42:49.158529Z"
    }
   },
   "outputs": [
    {
     "name": "stdout",
     "output_type": "stream",
     "text": [
      "force RLT = [-10.   0.   0.]\n",
      "Moment RLT= [  0.  30. -20.]\n"
     ]
    }
   ],
   "source": [
    "# Example usage\n",
    "force = np.array([-10, 0, 0])\n",
    "moment = np.array([0, 0, 0])\n",
    "\n",
    "origin_from = np.array([0, 0, 0])  # Replace with actual origin of source system\n",
    "basis_from = np.array([[1, 0, 0], [0, 1, 0], [0, 0, 1]])\n",
    "\n",
    "origin_to = np.array([1, 2, 3])  # Replace with actual origin of target system\n",
    "basis_to = np.array([[1, 0, 0], [0, 1, 0], [0, 0, 1]])\n",
    "transformed_force, transformed_moment = load_rlt(force,moment, origin_from, basis_from, origin_to, basis_to)\n",
    "print(f\"force RLT = {transformed_force}\")\n",
    "print(f\"Moment RLT= {transformed_moment}\")"
   ]
  },
  {
   "cell_type": "code",
   "execution_count": 15,
   "id": "0192147a",
   "metadata": {
    "execution": {
     "iopub.execute_input": "2024-02-13T07:42:49.771884Z",
     "iopub.status.busy": "2024-02-13T07:42:49.771884Z",
     "iopub.status.idle": "2024-02-13T07:42:49.780575Z",
     "shell.execute_reply": "2024-02-13T07:42:49.779979Z",
     "shell.execute_reply.started": "2024-02-13T07:42:49.771884Z"
    }
   },
   "outputs": [
    {
     "name": "stdout",
     "output_type": "stream",
     "text": [
      "force RLT = [-10.   0.   0.]\n",
      "Moment RLT= [  0.  30. -20.]\n"
     ]
    }
   ],
   "source": [
    "# Example usage\n",
    "force = np.array([-10, 0, 0])\n",
    "moment = np.array([0, 0, 0])\n",
    "\n",
    "origin_from = np.array([0, 0, 0])  # Replace with actual origin of source system\n",
    "basis_from = np.array([[1, 0, 0], [0, 1, 0], [0, 0, 1]])\n",
    "\n",
    "origin_to = np.array([1, 2, 3])  # Replace with actual origin of target system\n",
    "basis_to = np.array([[1, 0, 0], [0, 1, 0], [0, 0, 1]])\n",
    "transformed_force, transformed_moment = load_rlt(force,moment, origin_from, basis_from, origin_to, basis_to)\n",
    "print(f\"force RLT = {transformed_force}\")\n",
    "print(f\"Moment RLT= {transformed_moment}\")"
   ]
  },
  {
   "cell_type": "code",
   "execution_count": 5,
   "id": "dec17f0d-459e-44ed-a5da-cf51dd0c8d5f",
   "metadata": {
    "execution": {
     "iopub.execute_input": "2024-02-13T07:38:19.924558Z",
     "iopub.status.busy": "2024-02-13T07:38:19.924558Z",
     "iopub.status.idle": "2024-02-13T07:38:19.936438Z",
     "shell.execute_reply": "2024-02-13T07:38:19.936034Z",
     "shell.execute_reply.started": "2024-02-13T07:38:19.924558Z"
    }
   },
   "outputs": [
    {
     "data": {
      "text/plain": [
       "array([[1., 0., 0.],\n",
       "       [0., 1., 0.],\n",
       "       [0., 0., 1.]])"
      ]
     },
     "execution_count": 5,
     "metadata": {},
     "output_type": "execute_result"
    }
   ],
   "source": [
    "unit_vector(basis_from,axis=1)"
   ]
  },
  {
   "cell_type": "code",
   "execution_count": 6,
   "id": "ea709186",
   "metadata": {
    "execution": {
     "iopub.execute_input": "2024-02-13T07:38:20.741077Z",
     "iopub.status.busy": "2024-02-13T07:38:20.740872Z",
     "iopub.status.idle": "2024-02-13T07:38:20.756242Z",
     "shell.execute_reply": "2024-02-13T07:38:20.756081Z",
     "shell.execute_reply.started": "2024-02-13T07:38:20.741077Z"
    }
   },
   "outputs": [
    {
     "name": "stdout",
     "output_type": "stream",
     "text": [
      "force RLT = [0. 0. 0.]\n",
      "Moment RLT= [ 7.07106781 -7.07106781  0.        ]\n"
     ]
    }
   ],
   "source": [
    "# Example usage\n",
    "force = np.array([0, 0, 0])\n",
    "moment = np.array([10, 0, 0])\n",
    "\n",
    "origin_from = np.array([0, 0, 0])  # Replace with actual origin of source system\n",
    "basis_from = np.array([[1, 0, 0], [0, 1, 0], [0, 0, 1]])\n",
    "\n",
    "origin_to = np.array([0, 1, 0])  # Replace with actual origin of target system\n",
    "basis_to = np.array([[0.707, -0.707, 0], [0.707, 0.707, 0], [0, 0, 1]])\n",
    "\n",
    "transformed_force, transformed_moment = load_rlt(force,moment, origin_from, basis_from, origin_to, basis_to)\n",
    "print(f\"force RLT = {transformed_force}\")\n",
    "print(f\"Moment RLT= {transformed_moment}\")"
   ]
  },
  {
   "cell_type": "code",
   "execution_count": null,
   "id": "d489095c-aa72-433c-8e39-92e3ec2e838e",
   "metadata": {},
   "outputs": [],
   "source": []
  },
  {
   "cell_type": "code",
   "execution_count": null,
   "id": "fcd2a73b-5dc3-4636-b6f5-5b08385f4c14",
   "metadata": {},
   "outputs": [],
   "source": []
  },
  {
   "cell_type": "code",
   "execution_count": null,
   "id": "dc4bd864-f02f-467c-8d39-0311d85b3ee1",
   "metadata": {},
   "outputs": [],
   "source": []
  },
  {
   "cell_type": "code",
   "execution_count": null,
   "id": "12e0ec29-01a7-49fe-946b-c53334afd6fc",
   "metadata": {},
   "outputs": [],
   "source": []
  },
  {
   "cell_type": "code",
   "execution_count": null,
   "id": "cb797c52-90e2-4470-a6ce-b77799253952",
   "metadata": {},
   "outputs": [],
   "source": []
  },
  {
   "cell_type": "code",
   "execution_count": null,
   "id": "22d65864-4bf3-4f7d-a2e0-2af625bab360",
   "metadata": {},
   "outputs": [],
   "source": []
  }
 ],
 "metadata": {
  "kernelspec": {
   "display_name": "Python 3 (ipykernel)",
   "language": "python",
   "name": "python3"
  },
  "language_info": {
   "codemirror_mode": {
    "name": "ipython",
    "version": 3
   },
   "file_extension": ".py",
   "mimetype": "text/x-python",
   "name": "python",
   "nbconvert_exporter": "python",
   "pygments_lexer": "ipython3",
   "version": "3.9.1"
  }
 },
 "nbformat": 4,
 "nbformat_minor": 5
}
